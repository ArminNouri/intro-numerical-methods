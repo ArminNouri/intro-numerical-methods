{
 "cells": [
  {
   "cell_type": "code",
   "execution_count": 1,
   "metadata": {},
   "outputs": [],
   "source": [
    "from __future__ import print_function\n",
    "%matplotlib inline\n",
    "%precision 16\n",
    "import numpy\n",
    "import matplotlib.pyplot as plt\n",
    "from scipy.integrate import solve_ivp\n",
    "\n",
    "from stability_diagrams import plot_stability_ssms\n",
    "from stability_diagrams import plot_stability_lmm"
   ]
  },
  {
   "cell_type": "markdown",
   "metadata": {
    "deletable": false,
    "editable": false,
    "nbgrader": {
     "cell_type": "markdown",
     "checksum": "9d5d2b9b0032a51cbbd23829dbd4fb26",
     "grade": false,
     "grade_id": "cell-6282430347078978",
     "locked": true,
     "schema_version": 3,
     "solution": false
    }
   },
   "source": [
    "# HW 5:  ODE Methods - Initial Value Problems\n",
    "\n",
    "These questions will use a mixture of scipy routines and hand-rolled ODE solver methods (which you can use from the notes)"
   ]
  },
  {
   "cell_type": "markdown",
   "metadata": {
    "deletable": false,
    "editable": false,
    "nbgrader": {
     "cell_type": "markdown",
     "checksum": "6d3f50205a301f054a0661bf8eccf775",
     "grade": false,
     "grade_id": "cell-97c426ce43130f77",
     "locked": true,
     "schema_version": 3,
     "solution": false,
     "task": false
    }
   },
   "source": [
    "## Question 1 - The SIR model for Infectious diseases\n",
    "\n",
    "ODE based models are a classical approach to understanding the spread of infectious diseases.\n",
    "\n",
    "One of the pioneering models is the SIR model of [Kermack and McKendrick, (1927)](https://royalsocietypublishing.org/doi/10.1098/rspa.1927.0118) which is a mean-field theory for large populations that assumes the general population can be divided into three subgroups\n",
    "\n",
    "* $S$: the number of susceptible patients\n",
    "* $I$: the number of infected patients\n",
    "* $R$: the number of recovered (or otherwise) patients\n",
    "\n",
    "Given these definitions, the simplest dynamical systems for the three populations can be written\n",
    "\n",
    "$$\n",
    "\\begin{aligned}\n",
    "\\frac{d S}{dt} &= -\\alpha SI \\\\\n",
    "\\frac{d I}{dt} &= \\alpha SI -\\beta I\\\\\n",
    "\\frac{d R}{dt} &= \\beta I \\\\\n",
    "\\end{aligned}\n",
    "$$\n",
    "\n",
    "where $\\alpha$ is the infection rate per person, and $\\beta$ is the recovery rate (hint: check the units) \n",
    "\n",
    "This is the original Kermack and McKendrick model.  We will discuss a host of themes and variations later.  If you are interested [Siettos and Russo, (2013)](https://doi.org/10.4161/viru.24041) provides a short overview of the much larger field of epidemiology modeling (although this paper has some significant mistakes with respect to the analysis of the Kermack and McKendrick model, and I'm sure there are considerably more papers on modeling epidemics now).\n",
    "\n",
    "We will explore this problem through a combination of Analysis and Numerical methods and to use it to test different methods for ODE solvers.\n"
   ]
  },
  {
   "cell_type": "markdown",
   "metadata": {
    "deletable": false,
    "editable": false,
    "nbgrader": {
     "cell_type": "markdown",
     "checksum": "9d56e0a3dcd650ebafd65482f9f8284c",
     "grade": false,
     "grade_id": "cell-d57d5cccd5fe437a",
     "locked": true,
     "schema_version": 3,
     "solution": false,
     "task": false
    }
   },
   "source": [
    "**(a)** [4] First try to explain in words,  what this system of ODE's describes"
   ]
  },
  {
   "cell_type": "markdown",
   "metadata": {
    "deletable": false,
    "hide_input": true,
    "nbgrader": {
     "cell_type": "markdown",
     "checksum": "3a50bb5fe5e3cea6be689f0f83eba3d5",
     "grade": true,
     "grade_id": "cell-78f1cbd4419916a6",
     "locked": false,
     "points": 4,
     "schema_version": 3,
     "solution": true,
     "task": false
    }
   },
   "source": [
    "This systen of ODE's describes the changes in susceptible, infected, or recovered patients over time, as functions of each other and the infection and recovery rates. "
   ]
  },
  {
   "cell_type": "markdown",
   "metadata": {
    "deletable": false,
    "editable": false,
    "nbgrader": {
     "cell_type": "markdown",
     "checksum": "560e626bedbdf30b4de0409b4266bb04",
     "grade": false,
     "grade_id": "cell-c02805feb94b785b",
     "locked": true,
     "schema_version": 3,
     "solution": false,
     "task": false
    }
   },
   "source": [
    "### Some analysis.  \n",
    "\n",
    "Here we will conduct some elementary dimensional analysis to reduce the parameter space.  More detailed analysis of this system can be found  in Steve Strogatz' excellent text on [dynamical systems](https://smile.amazon.com/Nonlinear-Dynamics-Chaos-Applications-Nonlinearity/dp/0813349109/ref=dp_ob_image_bk)"
   ]
  },
  {
   "cell_type": "markdown",
   "metadata": {
    "deletable": false,
    "editable": false,
    "nbgrader": {
     "cell_type": "markdown",
     "checksum": "e0ff12772c25324e8cf54b989bfe15a1",
     "grade": false,
     "grade_id": "cell-28b8298c72a5a12c",
     "locked": true,
     "schema_version": 3,
     "solution": false,
     "task": false
    }
   },
   "source": [
    "**(b)** [2] Show that the SIR equations imply that   $S + I + R = N$  where $N$ is a constant (the total population of susceptible people that can all interact)"
   ]
  },
  {
   "cell_type": "markdown",
   "metadata": {
    "deletable": false,
    "nbgrader": {
     "cell_type": "markdown",
     "checksum": "f2f763bc3313b8cace5cadf627a502d3",
     "grade": true,
     "grade_id": "cell-0faef9786658c554",
     "locked": false,
     "points": 2,
     "schema_version": 3,
     "solution": true,
     "task": false
    }
   },
   "source": [
    "The given equations are:\n",
    "\n",
    "$$\n",
    "\\frac{dS}{dt} = -\\alpha SI\n",
    "$$\n",
    "$$\n",
    "\\frac{dI}{dt} = \\alpha SI - \\beta I\n",
    "$$\n",
    "$$\n",
    "\\frac{dR}{dt} = \\beta I\n",
    "$$\n",
    "\n",
    "Add these equations together:\n",
    "$$\n",
    "\\frac{dS}{dt} + \\frac{dI}{dt} + \\frac{dR}{dt} = (-\\alpha SI) + (\\alpha SI - \\beta I) + (\\beta I)\n",
    "$$\n",
    "\n",
    "### Step 2: Simplify the right-hand side\n",
    "On the right-hand side, observe that:\n",
    "$$\n",
    "(-\\alpha SI) + (\\alpha SI) - (\\beta I) + (\\beta I) = 0\n",
    "$$\n",
    "\n",
    "Thus:\n",
    "$$\n",
    "\\frac{dS}{dt} + \\frac{dI}{dt} + \\frac{dR}{dt} = 0\n",
    "$$\n",
    "\n",
    "### Step 3: Interpret the result\n",
    "The equation $\\frac{dS}{dt} + \\frac{dI}{dt} + \\frac{dR}{dt} = 0$ implies that the total rate of change of $S + I + R$ is zero:\n",
    "$$\n",
    "\\frac{d}{dt}(S + I + R) = 0\n",
    "$$\n",
    "\n",
    "### Step 4: Conclude that $S + I + R = N$\n",
    "If the derivative of $S + I + R$ with respect to time is zero, it follows that $S + I + R$ is constant over time. Let this constant be $N$, the total population. Therefore:\n",
    "$$\n",
    "S + I + R = N\n",
    "$$\n",
    "\n",
    "The units of each term confirm the validity:\n",
    "- $\\alpha SI$ has units of $\\text{population} \\cdot \\text{time}^{-1}$, as $\\alpha$ is the infection rate per person per unit time.\n",
    "- $\\beta I$ also has units of $\\text{population} \\cdot \\text{time}^{-1}$, as $\\beta$ is the recovery rate per unit time.\n",
    "- Thus, the equations and the conservation law $S + I + R = N$ are dimensionally consistent."
   ]
  },
  {
   "cell_type": "markdown",
   "metadata": {
    "deletable": false,
    "editable": false,
    "nbgrader": {
     "cell_type": "markdown",
     "checksum": "3a58cb6d7898d03ebb9587b9b4fda4b1",
     "grade": false,
     "grade_id": "cell-b89ec7cd57121b35",
     "locked": true,
     "schema_version": 3,
     "solution": false,
     "task": false
    }
   },
   "source": [
    "**(c)**  [4] Show that under  the change of variables (linear scaling of the variables)\n",
    "\n",
    "$$\n",
    "\\begin{matrix}\n",
    "    S = N s, & I = Ni, & R = Nr, & t = \\tau\\frac{1}{\\alpha N} \\\\\n",
    "\\end{matrix}\n",
    "$$\n",
    "\n",
    "The original equations can be rewritten as the scaled equations \n",
    "\n",
    "$$\n",
    "\\begin{align}\n",
    "    \\frac{d s}{d\\tau} &= -si\\\\\n",
    "    \\frac{d i}{d\\tau} &= (s - s^*)i  \\\\\n",
    "    \\frac{d r}{d\\tau} & = s^* i \\\\\n",
    "\\end{align}\n",
    "$$\n",
    "\n",
    "where \n",
    "$$\n",
    "    s^* = \\frac{\\beta}{\\alpha N}\n",
    "$$\n",
    "\n",
    "\n",
    "\n",
    "**Notes**,  \n",
    "* if we write $s = S/N$ etc. then $s$ is simply the fraction of the total population that is susceptible.  \n",
    "* Also show that $s + i + r = 1$.\n",
    "* this scaling reduces a two-parameter problem to a one parameter problem where the only variable is $s^*$\n",
    "\n"
   ]
  },
  {
   "cell_type": "markdown",
   "metadata": {
    "deletable": false,
    "nbgrader": {
     "cell_type": "markdown",
     "checksum": "8c3c68b4bd0e77099fcee9fcae1a50a3",
     "grade": true,
     "grade_id": "cell-6f14e3bb8e908989",
     "locked": false,
     "points": 4,
     "schema_version": 3,
     "solution": true,
     "task": false
    }
   },
   "source": [
    "The original SIR equations are:\n",
    "$$\n",
    "\\frac{dS}{dt} = -\\alpha SI, \\quad \\frac{dI}{dt} = \\alpha SI - \\beta I, \\quad \\frac{dR}{dt} = \\beta I\n",
    "$$\n",
    "where:\n",
    "- $S$, $I$, $R$ are the populations of susceptible, infected, and recovered individuals,\n",
    "- $\\alpha$ is the infection rate per person,\n",
    "- $\\beta$ is the recovery rate.\n",
    "\n",
    "We aim to scale these equations to dimensionless variables.\n",
    "\n",
    "### Step 2: Scaling the Variables\n",
    "\n",
    "We introduce scaled variables:\n",
    "$$\n",
    "S = N s, \\quad I = N i, \\quad R = N r, \\quad t = \\tau \\frac{1}{\\alpha N}\n",
    "$$\n",
    "where:\n",
    "- $s$, $i$, and $r$ are fractions of the total population $N$,\n",
    "- $\\tau$ is a rescaled time variable.\n",
    "\n",
    "### Step 3: Rewrite the Derivatives\n",
    "\n",
    "Using the chain rule, the time derivative becomes:\n",
    "$$\n",
    "\\frac{d}{dt} = \\frac{d\\tau}{dt} \\frac{d}{d\\tau} = \\alpha N \\frac{d}{d\\tau}.\n",
    "$$\n",
    "\n",
    "The original equations now transform as follows:\n",
    "\n",
    "#### (a) Transform the equation for $S$:\n",
    "$$\n",
    "\\frac{dS}{dt} = \\frac{d}{dt}(N s) = N \\frac{ds}{d\\tau} \\cdot \\alpha N.\n",
    "$$\n",
    "Substitute $S = N s$ and $I = N i$ into $\\frac{dS}{dt} = -\\alpha S I$:\n",
    "$$\n",
    "N \\cdot \\alpha N \\frac{ds}{d\\tau} = -\\alpha (N s)(N i).\n",
    "$$\n",
    "Divide through by $N \\alpha N$:\n",
    "$$\n",
    "\\frac{ds}{d\\tau} = -s i.\n",
    "$$\n",
    "\n",
    "#### (b) Transform the equation for $I$:\n",
    "$$\n",
    "\\frac{dI}{dt} = \\frac{d}{dt}(N i) = N \\frac{di}{d\\tau} \\cdot \\alpha N.\n",
    "$$\n",
    "Substitute $S = N s$ and $I = N i$ into $\\frac{dI}{dt} = \\alpha S I - \\beta I$:\n",
    "$$\n",
    "N \\cdot \\alpha N \\frac{di}{d\\tau} = \\alpha (N s)(N i) - \\beta (N i).\n",
    "$$\n",
    "Divide through by $N \\alpha N$:\n",
    "$$\n",
    "\\frac{di}{d\\tau} = s i - \\frac{\\beta}{\\alpha N} i.\n",
    "$$\n",
    "Define $s^* = \\frac{\\beta}{\\alpha N}$:\n",
    "$$\n",
    "\\frac{di}{d\\tau} = (s - s^*) i.\n",
    "$$\n",
    "\n",
    "#### (c) Transform the equation for $R$:\n",
    "$$\n",
    "\\frac{dR}{dt} = \\frac{d}{dt}(N r) = N \\frac{dr}{d\\tau} \\cdot \\alpha N.\n",
    "$$\n",
    "Substitute $I = N i$ into $\\frac{dR}{dt} = \\beta I$:\n",
    "$$\n",
    "N \\cdot \\alpha N \\frac{dr}{d\\tau} = \\beta (N i).\n",
    "$$\n",
    "Divide through by $N \\alpha N$:\n",
    "$$\n",
    "\\frac{dr}{d\\tau} = s^* i.\n",
    "$$\n",
    "\n",
    "### Step 4: Scaled Equations\n",
    "\n",
    "After scaling, the equations become:\n",
    "$$\n",
    "\\frac{ds}{d\\tau} = -s i,\n",
    "$$\n",
    "$$\n",
    "\\frac{di}{d\\tau} = (s - s^*) i,\n",
    "$$\n",
    "$$\n",
    "\\frac{dr}{d\\tau} = s^* i.\n",
    "$$\n",
    "\n",
    "### Step 5: Conservation Law $s + i + r = 1$\n",
    "\n",
    "From the original equations, we know that $S + I + R = N$. Using the scaled variables:\n",
    "$$\n",
    "N s + N i + N r = N,\n",
    "$$\n",
    "divide through by $N$:\n",
    "$$\n",
    "s + i + r = 1.\n",
    "$$\n",
    "\n",
    "### Step 6: Dimensional Reduction\n",
    "\n",
    "The scaled equations depend only on the parameter $s^* = \\frac{\\beta}{\\alpha N}$, which encapsulates both the infection rate $\\alpha$, the recovery rate $\\beta$, and the population size $N$. This reduces the original two-parameter problem to a single-parameter problem.\n",
    "\n",
    "### Summary\n",
    "\n",
    "The scaled equations are:\n",
    "$$\n",
    "\\frac{ds}{d\\tau} = -s i, \\quad \\frac{di}{d\\tau} = (s - s^*) i, \\quad \\frac{dr}{d\\tau} = s^* i,\n",
    "$$\n",
    "where $s^* = \\frac{\\beta}{\\alpha N}$, and $s + i + r = 1$. The scaling simplifies the analysis by reducing the problem to a single parameter $s^*$, with $s$, $i$, and $r$ representing fractions of the total population.\n"
   ]
  },
  {
   "cell_type": "markdown",
   "metadata": {
    "deletable": false,
    "editable": false,
    "nbgrader": {
     "cell_type": "markdown",
     "checksum": "17cba206e05e72a92b6b537e5e13f9f4",
     "grade": false,
     "grade_id": "cell-46af647b89cac330",
     "locked": true,
     "schema_version": 3,
     "solution": false,
     "task": false
    }
   },
   "source": [
    "**(d)**  [2] Given that $s^*$ is a constant that only depends on the infection rate per capita $\\alpha$, the recovery rate $\\beta$ and the total population $N$,  interpret the equation for the change in the number of infections\n",
    "\n",
    "$$\n",
    "    \\frac{d i}{d\\tau} = (s - s^*) i\n",
    "$$\n",
    "as a function of the susceptible fraction of the population $s$."
   ]
  },
  {
   "cell_type": "markdown",
   "metadata": {
    "deletable": false,
    "nbgrader": {
     "cell_type": "markdown",
     "checksum": "ab726ca04cc86cb954bcf52e38069414",
     "grade": true,
     "grade_id": "cell-40ede972a75cd41a",
     "locked": false,
     "points": 2,
     "schema_version": 3,
     "solution": true,
     "task": false
    }
   },
   "source": [
    "### Key Components of the Equation\n",
    "1. **Growth Term $(s - s^*)$:**\n",
    "   - The term $(s - s^*)$ determines whether the number of infections is increasing or decreasing:\n",
    "     - If $s > s^*$, then $(s - s^*) > 0$, leading to an increase in infections ($\\frac{d i}{d\\tau} > 0$).\n",
    "     - If $s < s^*$, then $(s - s^*) < 0$, leading to a decrease in infections ($\\frac{d i}{d\\tau} < 0$).\n",
    "     - If $s = s^*$, then $(s - s^*) = 0$, and the infection rate remains constant ($\\frac{d i}{d\\tau} = 0$).\n",
    "\n",
    "2. **Infection Proportionality ($i$):**\n",
    "   - The equation is proportional to $i$, meaning the rate of change of infections depends on the current fraction of infected individuals. If there are no infections ($i = 0$), then there can be no further spread of the disease.\n",
    "\n",
    "So this then shows that the equation $\\frac{d i}{d\\tau} = (s - s^*) i$ demonstrates that the change in infections depends on:\n",
    "1. The **current susceptible fraction** ($s$) relative to the threshold $s^*$,\n",
    "2. The **current fraction of infections** ($i$).\n",
    "\n",
    "\n",
    "A biological interpretation would be as follows: \n",
    "\n",
    "1. **Threshold Condition $s = s^*$:**\n",
    "   - The parameter $s^* = \\frac{\\beta}{\\alpha N}$ represents a critical threshold for the fraction of the population that is susceptible.\n",
    "   - When $s > s^*$, the disease spreads because the susceptible population is large enough to sustain infection growth.\n",
    "   - When $s < s^*$, the disease cannot sustain itself because the susceptible population is too small.\n",
    "\n",
    "2. **Exponential Growth and Decay:**\n",
    "   - For $s > s^*$, the infections grow exponentially in the early stages because $(s - s^*) > 0$. This is typical of outbreaks when a large portion of the population is susceptible.\n",
    "   - For $s < s^*$, the infections decay exponentially, representing the disease dying out as fewer people remain susceptible.\n",
    "\n",
    "Initially, when most of the population is susceptible ($s \\approx 1$), infections grow rapidly. Over time, as $s$ decreases due to recovery or immunity, the growth slows and eventually reverses when $s < s^*$.\n",
    "You can see this in the real world where infections initially spike and then decline as immunity builds up in the population.\n",
    "\n"
   ]
  },
  {
   "cell_type": "markdown",
   "metadata": {
    "deletable": false,
    "editable": false,
    "nbgrader": {
     "cell_type": "markdown",
     "checksum": "f14f45e92d83b36ddd331cadf0135ee5",
     "grade": false,
     "grade_id": "cell-4ecd957efe129fa5",
     "locked": true,
     "schema_version": 3,
     "solution": false,
     "task": false
    }
   },
   "source": [
    "### Numerical Methods\n",
    "\n",
    "we will now explore the behavior of this model numerically using a range of our basic algorithms by solving the scaled dynamical system\n",
    "\n",
    "$$\n",
    "    \\frac{d\\mathbf{u}}{dt} = \\mathbf{F}(t,\\mathbf{u}, s^*),\\quad\\mathbf{u}(0)=\\mathbf{u}_0\n",
    "$$\n",
    "\n",
    "where \n",
    "$$\n",
    "    \\mathbf{u} = \\begin{bmatrix} s \\\\ i \\\\ r \\\\ \\end{bmatrix}, \\quad \n",
    "    \\mathbf{F}(t,\\mathbf{u},s^*) = \\begin{bmatrix} -si \\\\ (s - s^*)i \\\\ s^*i \\\\ \\end{bmatrix}\n",
    "$$"
   ]
  },
  {
   "cell_type": "markdown",
   "metadata": {},
   "source": [
    "**(e)** [4] Write function to return the RHS of the scaled dynamical system $\\mathbf{F}(t,\\mathbf{u},s^*)$ as a numpy array"
   ]
  },
  {
   "cell_type": "code",
   "execution_count": 3,
   "metadata": {
    "deletable": false,
    "hide_input": false,
    "nbgrader": {
     "cell_type": "code",
     "checksum": "97094ce0210c5618cf05d1e6a2782f90",
     "grade": false,
     "grade_id": "cell-262f28b1e5913ee6",
     "locked": false,
     "schema_version": 3,
     "solution": true,
     "task": false
    }
   },
   "outputs": [],
   "source": [
    "def F(t, u, s_star):\n",
    "    \"\"\" \n",
    "    RHS of scaled SIR model of Kermack and McKendrick\n",
    "    \n",
    "    Parameters\n",
    "    ----------\n",
    "    t: float\n",
    "        Time (dummy variable since this is an autonomous system)\n",
    "    u: numpy array\n",
    "        Array of scaled [s, i, r] values such that sum(u) = 1 \n",
    "        (s, i, r are fractions of the total population N)\n",
    "    s_star: float\n",
    "        Scaled critical susceptible population = β / (αN)\n",
    "        \n",
    "    Returns\n",
    "    -------\n",
    "    numpy array\n",
    "        RHS of the system [ds/dt, di/dt, dr/dt]\n",
    "    \"\"\"\n",
    "    # Unumpyack the components of u\n",
    "    s, i, r = u\n",
    "    \n",
    "    # Compute the RHS components\n",
    "    ds_dt = -s * i\n",
    "    di_dt = (s - s_star) * i\n",
    "    dr_dt = s_star * i\n",
    "    \n",
    "    # Return the RHS as a numpy array\n",
    "    return numpy.array([ds_dt, di_dt, dr_dt])"
   ]
  },
  {
   "cell_type": "code",
   "execution_count": 4,
   "metadata": {
    "deletable": false,
    "editable": false,
    "hide_input": false,
    "nbgrader": {
     "cell_type": "code",
     "checksum": "12fac581407142514fda702e3b5a978b",
     "grade": true,
     "grade_id": "cell-072d933c0fd03951",
     "locked": true,
     "points": 4,
     "schema_version": 3,
     "solution": false,
     "task": false
    }
   },
   "outputs": [
    {
     "name": "stdout",
     "output_type": "stream",
     "text": [
      "success!\n"
     ]
    }
   ],
   "source": [
    "# Let's assume the critical level of immunity is 60% of the total population\n",
    "s_star = 0.6\n",
    "\n",
    "# let there initially be .01 % infected cases and no recovered\n",
    "t = 0.\n",
    "i_0 = 1.e-4\n",
    "u_0 = numpy.array([1. - i_0, i_0, 0.0])\n",
    "answer = numpy.array([-9.999000000000001e-05,  3.999000000000001e-05, 6.000000000000000e-05])\n",
    "numpy.testing.assert_allclose(F(t, u_0, s_star), answer)\n",
    "print('success!')"
   ]
  },
  {
   "cell_type": "markdown",
   "metadata": {
    "deletable": false,
    "editable": false,
    "nbgrader": {
     "cell_type": "markdown",
     "checksum": "64ffff86196353c50fb6c93bd75d374e",
     "grade": false,
     "grade_id": "cell-4822191656183239434",
     "locked": true,
     "schema_version": 3,
     "solution": false
    }
   },
   "source": [
    "**(f)** [10] Use scipy.integrate.solve_ivp (imported above as solve_ivp),  to solve the scaled dynamical system above with for <font color=\"red\">$s^* = 0.6$</font> and initial condition\n",
    "\n",
    "$$\n",
    "    \\mathbf{u}_0 = \\begin{bmatrix} 1 - i_0\\\\ i_0 \\\\ 0\\\\ \\end{bmatrix}\n",
    "$$\n",
    "\n",
    "where $i_0=10^{-5}$ is the initially infected proportion of the available population $N$\n",
    "\n",
    "Integrate for $t\\in[0, 50]$ and make a plot showing the evolution of $s(t)$, $i(t)$, ${r}(t)$ vs. time \n",
    "\n",
    "**For full credit your plot should show the following**\n",
    "* show the actual time-steps chosen by the adaptive solver as well as a smooth solution (use dense_output=True) \n",
    "* the total cumulative number of cases at any time\n",
    "* the time and infection level of the peak of the infection (hint: use the `events`, feature of solve_ivp)\n",
    "* the maximum fraction of people infected\n",
    "\n",
    "Explore the behavior of the solutions as a function of $s^*$ and $i_0$ and try to \"flatten the curve\" (we will try to make that more quantitative later). Also,  explore relative and absolute tolerances to convince yourself that your solutions are well resolved."
   ]
  },
  {
   "cell_type": "code",
   "execution_count": 7,
   "metadata": {
    "deletable": false,
    "hide_input": false,
    "nbgrader": {
     "cell_type": "code",
     "checksum": "f2bf5e8f1c26302e22265c386e195c9b",
     "grade": true,
     "grade_id": "cell-2d91985a44491d34",
     "locked": false,
     "points": 10,
     "schema_version": 3,
     "solution": true,
     "task": false
    }
   },
   "outputs": [
    {
     "data": {
      "image/png": "[encoded data removed]",
      "text/plain": [
       "<Figure size 1000x600 with 1 Axes>"
      ]
     },
     "metadata": {},
     "output_type": "display_data"
    }
   ],
   "source": [
    "from functools import partial\n",
    "\n",
    "# Define the event for the peak of infection (where di/dt = 0)\n",
    "def peak_infection(t, u, s_star):\n",
    "    return (u[0] - s_star) * u[1]  # di/dt = 0 at the peak\n",
    "\n",
    "# Use functools.partial to pass s_star to the event function\n",
    "wrapped_peak_infection = partial(peak_infection, s_star=s_star)\n",
    "wrapped_peak_infection.terminal = False  # Event should not stop integration\n",
    "wrapped_peak_infection.direction = 0     # Detect both increasing and decreasing\n",
    "\n",
    "# Parameters\n",
    "s_star = 0.6\n",
    "i_0 = 1e-5\n",
    "u_0 = numpy.array([1 - i_0, i_0, 0])  # Initial condition [s, i, r]\n",
    "t_span = [0, 50]  # Integration time\n",
    "t_eval = numpy.linspace(t_span[0], t_span[1], 500)  # Time points for smooth solution\n",
    "\n",
    "# Solve the system\n",
    "sol = solve_ivp(\n",
    "    lambda t, u: F(t, u, s_star),  # Pass s_star directly in the lambda for F\n",
    "    t_span,\n",
    "    u_0,\n",
    "    method='RK45',\n",
    "    dense_output=True,\n",
    "    events=wrapped_peak_infection,  # Use the wrapped event function\n",
    "    atol=1e-8,\n",
    "    rtol=1e-6\n",
    ")\n",
    "\n",
    "# Extract the dense solution\n",
    "t_dense = numpy.linspace(t_span[0], t_span[1], 1000)\n",
    "u_dense = sol.sol(t_dense)\n",
    "\n",
    "# Compute cumulative cases (r(t) + i(t))\n",
    "cumulative_cases = u_dense[2] + u_dense[1]\n",
    "\n",
    "# Extract peak information\n",
    "if sol.t_events[0].size > 0:\n",
    "    t_peak = sol.t_events[0][0]\n",
    "    max_infected_fraction = sol.y_events[0][0, 1]\n",
    "else:\n",
    "    t_peak = None\n",
    "    max_infected_fraction = None\n",
    "\n",
    "# Plot the results\n",
    "plt.figure(figsize=(10, 6))\n",
    "\n",
    "# Plot the actual time steps\n",
    "plt.plot(sol.t, sol.y[0], 'o', label='$s(t)$ (adaptive steps)')\n",
    "plt.plot(sol.t, sol.y[1], 'o', label='$i(t)$ (adaptive steps)')\n",
    "plt.plot(sol.t, sol.y[2], 'o', label='$r(t)$ (adaptive steps)')\n",
    "\n",
    "# Plot the smooth solution\n",
    "plt.plot(t_dense, u_dense[0], '-', label='$s(t)$ (smooth)', alpha=0.7)\n",
    "plt.plot(t_dense, u_dense[1], '-', label='$i(t)$ (smooth)', alpha=0.7)\n",
    "plt.plot(t_dense, u_dense[2], '-', label='$r(t)$ (smooth)', alpha=0.7)\n",
    "\n",
    "# Plot cumulative cases\n",
    "plt.plot(t_dense, cumulative_cases, '--', label='Cumulative cases', alpha=0.7)\n",
    "\n",
    "# Mark the peak infection level\n",
    "if t_peak is not None:\n",
    "    plt.axvline(t_peak, color='r', linestyle='--', label=f'Peak infection ($t={t_peak:.2f}$)')\n",
    "    plt.axhline(max_infected_fraction, color='k', linestyle='--', label=f'Max infected = {max_infected_fraction:.2e}')\n",
    "\n",
    "# Labels and legend\n",
    "plt.title(\"SIR Model Evolution\")\n",
    "plt.xlabel(\"Time\")\n",
    "plt.ylabel(\"Fraction of Population\")\n",
    "plt.legend()\n",
    "plt.grid(True)\n",
    "plt.show()\n"
   ]
  },
  {
   "cell_type": "markdown",
   "metadata": {
    "deletable": false,
    "editable": false,
    "nbgrader": {
     "cell_type": "markdown",
     "checksum": "30d412ab682484e13aeb5dafe040b528",
     "grade": false,
     "grade_id": "cell-48221916561834547",
     "locked": true,
     "schema_version": 3,
     "solution": false
    }
   },
   "source": [
    "**(g)** [8] Write your own code to solve the same system using any constant step-size method we discussed in class that is higher than 2nd order (you can use or modify any of the example codes from the notes and make sure it works for vector valued functions.   Your code should be able to use your function $F$ defined above. Make sure to choose a method that will work for the non-linear right-hand-side. We will test it against the output from solve_ivp with N steps uniform steps in $t\\in[0,50]$.  What is the minimum number of steps does your routine take to pass the tests with a relative error of $10^{-4}$ and absolute error of $10^{-5}?.  You can control the number of steps taken with the `N=??` defined at the end of the cell.  **Extra Credit** determine the convergence rate of your method."
   ]
  },
  {
   "cell_type": "code",
   "execution_count": 10,
   "metadata": {
    "deletable": false,
    "hide_input": false,
    "nbgrader": {
     "cell_type": "code",
     "checksum": "13e09fcf965c1b3c41354c08f3f10977",
     "grade": false,
     "grade_id": "cell-918222306640123434",
     "locked": false,
     "schema_version": 3,
     "solution": true,
     "task": false
    }
   },
   "outputs": [
    {
     "name": "stdout",
     "output_type": "stream",
     "text": [
      "success!\n"
     ]
    }
   ],
   "source": [
    "def my_ode_solver(f, t_span, u0, N):\n",
    "    \"\"\"Implement constant step size ODE integrator using the 4th-order Runge-Kutta method.\n",
    "    \n",
    "    Parameters\n",
    "    ----------\n",
    "        f: callable\n",
    "            Vector-valued function with interface f(t, u), where u is the state vector.\n",
    "        t_span: list or tuple\n",
    "            Array holding the range of times to integrate over t_span = [t_min, t_max].\n",
    "        u0: numpy array\n",
    "            Array of initial conditions.\n",
    "        N: int\n",
    "            Number of time steps to take.\n",
    "            \n",
    "    Returns\n",
    "    -------\n",
    "        t: numpy array\n",
    "            Array of timesteps from t_min to t_max of length N.\n",
    "        u: numpy array of shape (len(u0), len(t))\n",
    "            Solution array; the solution at timestep i should be u[:, i].\n",
    "    \"\"\"\n",
    "    t_min, t_max = t_span\n",
    "    h = (t_max - t_min) / N  # Step size\n",
    "    t = numpy.linspace(t_min, t_max, N + 1)  # Uniform timesteps\n",
    "    u = numpy.zeros((len(u0), len(t)))  # Solution array\n",
    "    u[:, 0] = u0  # Initial condition\n",
    "\n",
    "    for i in range(N):\n",
    "        k1 = f(t[i], u[:, i])\n",
    "        k2 = f(t[i] + h / 2, u[:, i] + h / 2 * k1)\n",
    "        k3 = f(t[i] + h / 2, u[:, i] + h / 2 * k2)\n",
    "        k4 = f(t[i] + h, u[:, i] + h * k3)\n",
    "        u[:, i + 1] = u[:, i] + h / 6 * (k1 + 2 * k2 + 2 * k3 + k4)\n",
    "    \n",
    "    return t, u\n",
    "\n",
    "# Parameters\n",
    "s_star = 0.6\n",
    "f = lambda t, u: F(t, u, s_star)\n",
    "t_span = [0., 50.]\n",
    "i_0 = 1.e-5\n",
    "u_0 = numpy.array([1. - i_0, i_0, 0.0])\n",
    "\n",
    "# Test the solver\n",
    "N = 100\n",
    "t, u = my_ode_solver(f, t_span, u0=u_0, N=N)\n",
    "\n",
    "\n",
    "# Putting the test stuff from the below cells in here just for my own convenience :P\n",
    "# True solution using solve_ivp\n",
    "sol = solve_ivp(f, t_span, y0=u_0, method='RK45', dense_output=True, rtol=1.e-6, atol=1.e-8)\n",
    "\n",
    "# Assert correctness\n",
    "numpy.testing.assert_allclose(u, sol.sol(t), rtol=1.e-4, atol=1.e-5)\n",
    "print('success!')"
   ]
  },
  {
   "cell_type": "code",
   "execution_count": 11,
   "metadata": {},
   "outputs": [
    {
     "name": "stdout",
     "output_type": "stream",
     "text": [
      "Minimum N for error criteria: 160\n"
     ]
    }
   ],
   "source": [
    "# Find minimum N for error criteria (it's 160)\n",
    "N = 10  # Start with a small number of steps\n",
    "success = False\n",
    "\n",
    "while not success:\n",
    "    t, u = my_ode_solver(f, t_span, u0=u_0, N=N)\n",
    "    try:\n",
    "        numpy.testing.assert_allclose(u, sol.sol(t), rtol=1.e-4, atol=1.e-5)\n",
    "        success = True\n",
    "    except AssertionError:\n",
    "        N *= 2  # Double the number of steps if the test fails\n",
    "\n",
    "print(f'Minimum N for error criteria: {N}')\n"
   ]
  },
  {
   "cell_type": "code",
   "execution_count": 12,
   "metadata": {},
   "outputs": [
    {
     "data": {
      "image/png": "[encoded data removed]",
      "text/plain": [
       "<Figure size 800x600 with 1 Axes>"
      ]
     },
     "metadata": {},
     "output_type": "display_data"
    }
   ],
   "source": [
    "#EXTRA CREDIT\n",
    "\n",
    "N_values = [10, 20, 40, 80, 160, 320]\n",
    "errors = []\n",
    "\n",
    "for N in N_values:\n",
    "    t, u = my_ode_solver(f, t_span, u0=u_0, N=N)\n",
    "    error = numpy.linalg.norm(u - sol.sol(t)) / numpy.linalg.norm(sol.sol(t))\n",
    "    errors.append(error)\n",
    "\n",
    "# Fit a line to log-log data\n",
    "h_values = [(t_span[1] - t_span[0]) / N for N in N_values]\n",
    "log_h = numpy.log(h_values)\n",
    "log_errors = numpy.log(errors)\n",
    "slope, intercept = numpy.polyfit(log_h, log_errors, 1)\n",
    "\n",
    "# Plot convergence\n",
    "plt.figure(figsize=(8, 6))\n",
    "plt.plot(log_h, log_errors, 'o-', label='Errors')\n",
    "plt.plot(log_h, slope * log_h + intercept, '--', label=f'Fit (slope = {slope:.2f})')\n",
    "plt.xlabel('$\\log(h)$')\n",
    "plt.ylabel('$\\log(e)$')\n",
    "plt.title('Convergence Rate')\n",
    "plt.legend()\n",
    "plt.grid(True)\n",
    "plt.show()\n"
   ]
  },
  {
   "cell_type": "code",
   "execution_count": 13,
   "metadata": {
    "deletable": false,
    "editable": false,
    "hide_input": false,
    "nbgrader": {
     "cell_type": "code",
     "checksum": "f7be2a6e93a825a99f752ab8e4102652",
     "grade": true,
     "grade_id": "cell-918222306640124",
     "locked": true,
     "points": 8,
     "schema_version": 3,
     "solution": false,
     "task": false
    }
   },
   "outputs": [
    {
     "name": "stdout",
     "output_type": "stream",
     "text": [
      "success!\n"
     ]
    }
   ],
   "source": [
    "s_star = 0.6\n",
    "f = lambda t, u: F(t, u, s_star)\n",
    "\n",
    "t_span = [0., 50.]\n",
    "i_0 = 1.e-5\n",
    "u_0 = numpy.array([1. - i_0, i_0, 0.0])\n",
    "\n",
    "\n",
    "t, u = my_ode_solver(f, t_span, u_0, N)\n",
    "\n",
    "# There was a hidden line here implementing sol = solve_ivp to get the \"True\" solution\n",
    "sol = solve_ivp(f, t_span, u_0, method='RK45', dense_output=True, rtol=1.e-6, atol = 1.e-8)\n",
    "\n",
    "numpy.testing.assert_allclose(u, sol.sol(t), rtol=1.e-4, atol=1.e-5)\n",
    "print('success!')"
   ]
  },
  {
   "cell_type": "markdown",
   "metadata": {
    "deletable": false,
    "editable": false,
    "nbgrader": {
     "cell_type": "markdown",
     "checksum": "206ea91d42a6ed18738f8eb5e410ac6a",
     "grade": false,
     "grade_id": "cell-72ea6dc8a2813be7",
     "locked": true,
     "schema_version": 3,
     "solution": false,
     "task": false
    }
   },
   "source": [
    "**(h)** [2] Reproduce your figure from the scipy version (without events)"
   ]
  },
  {
   "cell_type": "code",
   "execution_count": 15,
   "metadata": {
    "deletable": false,
    "hide_input": false,
    "nbgrader": {
     "cell_type": "code",
     "checksum": "c7fbad01da98f1196ea96430b8c5cf0e",
     "grade": true,
     "grade_id": "cell-9182223066423o434",
     "locked": false,
     "points": 2,
     "schema_version": 3,
     "solution": true,
     "task": false
    }
   },
   "outputs": [
    {
     "data": {
      "image/png": "[encoded data removed]",
      "text/plain": [
       "<Figure size 1000x600 with 1 Axes>"
      ]
     },
     "metadata": {},
     "output_type": "display_data"
    }
   ],
   "source": [
    "# Implementation of the SIR model using the custom my_ode_solver\n",
    "\n",
    "# Replace scipy solve_ivp with custom my_ode_solver\n",
    "N = 1000  # Number of steps for the custom solver\n",
    "t_dense, u_dense = my_ode_solver(lambda t, u: F(t, u, s_star), t_span, u_0, N)\n",
    "\n",
    "# Compute cumulative cases (r(t) + i(t))\n",
    "cumulative_cases = u_dense[2] + u_dense[1]\n",
    "\n",
    "# Determine the peak of infection manually for the custom solution\n",
    "max_infected_fraction = numpy.max(u_dense[1])  # Maximum value of i(t)\n",
    "t_peak_index = numpy.argmax(u_dense[1])        # Time index of peak infection\n",
    "t_peak = t_dense[t_peak_index]             # Corresponding time value\n",
    "\n",
    "# Plot the results\n",
    "plt.figure(figsize=(10, 6))\n",
    "\n",
    "# Plot the smooth solution from my_ode_solver\n",
    "plt.plot(t_dense, u_dense[0], '-', label='$s(t)$ (custom solver)', alpha=0.7)\n",
    "plt.plot(t_dense, u_dense[1], '-', label='$i(t)$ (custom solver)', alpha=0.7)\n",
    "plt.plot(t_dense, u_dense[2], '-', label='$r(t)$ (custom solver)', alpha=0.7)\n",
    "\n",
    "# Plot cumulative cases\n",
    "plt.plot(t_dense, cumulative_cases, '--', label='Cumulative cases (custom solver)', alpha=0.7)\n",
    "\n",
    "# Mark the peak infection level\n",
    "plt.axvline(t_peak, color='r', linestyle='--', label=f'Peak infection ($t={t_peak:.2f}$)')\n",
    "plt.axhline(max_infected_fraction, color='k', linestyle='--', label=f'Max infected = {max_infected_fraction:.2e}')\n",
    "\n",
    "# Labels and legend\n",
    "plt.title(\"SIR Model Evolution (Custom ODE Solver)\")\n",
    "plt.xlabel(\"Time\")\n",
    "plt.ylabel(\"Fraction of Population\")\n",
    "plt.legend()\n",
    "plt.grid(True)\n",
    "plt.show()"
   ]
  },
  {
   "cell_type": "markdown",
   "metadata": {
    "deletable": false,
    "editable": false,
    "nbgrader": {
     "cell_type": "markdown",
     "checksum": "d274a3b7092e944b682f734b980362b3",
     "grade": false,
     "grade_id": "cell-062d990b667d61f1",
     "locked": true,
     "schema_version": 3,
     "solution": false,
     "task": false
    }
   },
   "source": [
    "###  Themes and Variations -- Some project ideas\n",
    "\n",
    "The classical Kermack and McKendric model is only one of a vast set of models used to model the spread of infection disease but assumes homogeneous mixing across the entire population.  In addition there are lots of things  to explore with even the simplest SIR model.   If you are interested in this sort of ODE model as a possible project, here are a few things you might want to explore\n",
    "\n",
    "\n",
    "* Choose a fixed value of $N$ for the maximum susceptible population. Assume that maximum hospital capacity is achieved when the number of infected patients reaches $i_{max}$.  Construct a root-finding problem to find the value of $s^*$ required to keep  the peak number of infected cases $i_{peak} <= i_{max}$. \n",
    "\n",
    "* Consider the possibility of re-infection (ugh!).  One model of this assumes that recovered patients can become susceptible again at some rate $\\lambda$.  Modify the original SIR model to include this possibility and construct a new scaled set of equations.  This will now be a 2 parameter dynamical system ($s^*$ and another parameter say $\\lambda^*$.  Explore the behavior of this new problem.\n",
    "\n",
    "* Develop a model that includes the effects of vaccinations\n",
    "\n",
    "* Show that the original SIR model allows at most one peak in infections.  Then try to construct a better model that allows multiple peaks.\n",
    "\n",
    "* Read [Siettos and Russo, (2013)](https://doi.org/10.4161/viru.24041) (or find a better paper) which reviews a range of epidemiology models including Stochastic SIR models. Wikipedia also has several pages on modeling epidemics ([here](https://en.wikipedia.org/wiki/Compartmental_models_in_epidemiology) , and [here](https://en.wikipedia.org/wiki/Mathematical_modelling_of_infectious_disease)) Pick another model, implement it and compare it's behavior with the basic SIR model.\n",
    "\n",
    "* Something Numerical: Write an adaptive time stepper built around any two single-step multi-stage schemes and compare your solution to solve_ivp.\n",
    "\n",
    "* Your own best ideas!\n",
    "\n"
   ]
  },
  {
   "cell_type": "markdown",
   "metadata": {
    "deletable": false,
    "editable": false,
    "nbgrader": {
     "cell_type": "markdown",
     "checksum": "f82640bdadf4ecd7d32406fba71374a3",
     "grade": false,
     "grade_id": "cell-c54586fa263cc449",
     "locked": true,
     "schema_version": 3,
     "solution": false,
     "task": false
    }
   },
   "source": [
    "## Question 2 - Absolute Stability Regions Single-Step Multi-stage schemes"
   ]
  },
  {
   "cell_type": "markdown",
   "metadata": {
    "deletable": false,
    "editable": false,
    "nbgrader": {
     "cell_type": "markdown",
     "checksum": "4c43299a2318bf213b6514e7fe8ac79a",
     "grade": false,
     "grade_id": "cell-dd9d7792263258d8",
     "locked": true,
     "schema_version": 3,
     "solution": false,
     "task": false
    }
   },
   "source": [
    "**(a)** [4 pt] Taylor Series method:\n",
    "    \n",
    "Show that $R(z)$ for a Taylor's series method of order $p$ acting on the model problem $u'=\\lambda u$ always just returns the first $p+1$ terms of the Taylor series of $e^z$."
   ]
  },
  {
   "cell_type": "markdown",
   "metadata": {
    "deletable": false,
    "nbgrader": {
     "cell_type": "markdown",
     "checksum": "f5bb5b09ab8d30954162f309886ebf0c",
     "grade": true,
     "grade_id": "cell-1ca065b824f2cbb0",
     "locked": false,
     "points": 4,
     "schema_version": 3,
     "solution": true,
     "task": false
    }
   },
   "source": [
    "YOUR ANSWER HERE"
   ]
  },
  {
   "cell_type": "markdown",
   "metadata": {
    "deletable": false,
    "editable": false,
    "nbgrader": {
     "cell_type": "markdown",
     "checksum": "2d9eb1124c7bc577827b093264976e64",
     "grade": false,
     "grade_id": "cell-273021c1878d0b00",
     "locked": true,
     "schema_version": 3,
     "solution": false,
     "task": false
    }
   },
   "source": [
    "**(b)** [4 pt] Plot the regions of absolute stability for Taylor Series methods of order 2-5\n",
    "\n",
    "You can use the plotting codes given in class and included in the file stability_diagrams.py which are imported in the first cell"
   ]
  },
  {
   "cell_type": "code",
   "execution_count": null,
   "metadata": {
    "deletable": false,
    "nbgrader": {
     "cell_type": "code",
     "checksum": "b1a3a886fcf13a05d017a97dbe14733a",
     "grade": true,
     "grade_id": "cell-9c688399c72e251a",
     "locked": false,
     "points": 4,
     "schema_version": 3,
     "solution": true,
     "task": false
    }
   },
   "outputs": [],
   "source": [
    "# YOUR CODE HERE\n",
    "raise NotImplementedError()"
   ]
  },
  {
   "cell_type": "markdown",
   "metadata": {
    "deletable": false,
    "editable": false,
    "nbgrader": {
     "cell_type": "markdown",
     "checksum": "4cd9edb39602b50c79729aed18509454",
     "grade": false,
     "grade_id": "cell-cf67bcdf6e56f88a",
     "locked": true,
     "schema_version": 3,
     "solution": false,
     "task": false
    }
   },
   "source": [
    "**(b)** [4 pt] Derive $R(z)$ for the RK2 method and show that it is equivalent to Taylor 2\n",
    "\n",
    "**Extra Credit**  show that $R(Z)$ for RK4 is identical to Taylor-4 (in general this is true for explicit RK methods)"
   ]
  },
  {
   "cell_type": "markdown",
   "metadata": {
    "deletable": false,
    "nbgrader": {
     "cell_type": "markdown",
     "checksum": "f8c04e94acf46b8f5bcda7c6529a4263",
     "grade": true,
     "grade_id": "cell-ccd05ce9cfbb3ae0",
     "locked": false,
     "points": 4,
     "schema_version": 3,
     "solution": true,
     "task": false
    }
   },
   "source": [
    "YOUR ANSWER HERE"
   ]
  },
  {
   "cell_type": "markdown",
   "metadata": {
    "deletable": false,
    "editable": false,
    "nbgrader": {
     "cell_type": "markdown",
     "checksum": "2c28bcfd375e36c5a93c5e612a16554b",
     "grade": false,
     "grade_id": "cell-74f9c58c7046a7cd",
     "locked": true,
     "schema_version": 3,
     "solution": false
    }
   },
   "source": [
    "## Question 3: Linear Multi-Step Schemes - Derivation and stability"
   ]
  },
  {
   "cell_type": "markdown",
   "metadata": {
    "deletable": false,
    "editable": false,
    "nbgrader": {
     "cell_type": "markdown",
     "checksum": "47a6d4aec9010957daf12f68478fe21a",
     "grade": false,
     "grade_id": "cell-74f9c58c7a7cd",
     "locked": true,
     "schema_version": 3,
     "solution": false
    }
   },
   "source": [
    "[4] Derive the Adams-Moulton 2-step method \n",
    "$$\n",
    "    U_{n+2} = U_{n+1} + \\frac{\\Delta t}{12} (-f_{n} + 8 f_{n+1} + 5 f_{n+2}),\n",
    "$$\n",
    "\n",
    "and its error estimate using the formula for the truncation error of general multi-step schemes\n",
    "$$\n",
    "\\begin{aligned}\n",
    "    T(t, u; \\Delta t) &= \\frac{1}{\\Delta t}\\left( \\sum^r_{j=0} \\alpha_j\\right) u(t_n) + \\left(\\sum^r_{j=0} (j\\alpha_j - \\beta_j)\\right) u'(t_n) + \\Delta t \\left(\\sum^r_{j=0} \\left (\\frac{1}{2}j^2 \\alpha_j - j \\beta_j \\right) \\right) u''(t_n) \\\\\n",
    "& \\quad \\quad + \\cdots + \\Delta t^{q - 1} \\left (\\sum^r_{j=0} \\left(\\frac{1}{q!} j^q \\alpha_j - \\frac{1}{(q-1)!} j^{q-1} \\beta_j \\right) \\right) u^{(q)}(t_n) + \\cdots\n",
    "\\end{aligned}$$\n",
    "\n",
    "i.e. find $\\alpha_j$s and $\\beta_j$s that zero out terms of the truncation error out to some order.\n",
    "Some Hint's \n",
    "* This is an Adams scheme with three levels so we already know the $\\alpha$'s\n",
    "* Therefore you only have to find the three $\\beta$'s $\\beta_0$, $\\beta_1$ and $\\beta_2$\n",
    "* Use the above formula to find 3 equations for the 3 values of $\\beta$\n",
    "* The remainder term will be the order of the Truncation error"
   ]
  },
  {
   "cell_type": "markdown",
   "metadata": {
    "deletable": false,
    "nbgrader": {
     "cell_type": "markdown",
     "checksum": "326a9861def06d4f11a07ffdde556ac4",
     "grade": true,
     "grade_id": "cell-415a1f1008c1",
     "locked": false,
     "points": 4,
     "schema_version": 3,
     "solution": true
    }
   },
   "source": [
    "YOUR ANSWER HERE"
   ]
  },
  {
   "cell_type": "markdown",
   "metadata": {
    "deletable": false,
    "editable": false,
    "nbgrader": {
     "cell_type": "markdown",
     "checksum": "a5d121d00d0b95a703d5b8a6c78f261e",
     "grade": false,
     "grade_id": "cell-5fc238aba385d265",
     "locked": true,
     "schema_version": 3,
     "solution": false,
     "task": false
    }
   },
   "source": [
    "**(c)** [8] Stability polynomials and Diagrams\n",
    "\n",
    "Calculate the stability polynomial and plot the stability regions for\n",
    "1. 2-step Adams-Moulton methods.\n",
    "1. 3-step Adams-Bashforth methods\n",
    "\n",
    "which are both 3rd-order methods.  Comment on the relative size of stability regions of these two methods and Taylor-3."
   ]
  },
  {
   "cell_type": "markdown",
   "metadata": {
    "deletable": false,
    "nbgrader": {
     "cell_type": "markdown",
     "checksum": "ccd22ea267673785077f4e38f2b3db22",
     "grade": true,
     "grade_id": "cell-35754117816ff2dd",
     "locked": false,
     "points": 4,
     "schema_version": 3,
     "solution": true,
     "task": false
    }
   },
   "source": [
    "YOUR ANSWER HERE"
   ]
  },
  {
   "cell_type": "code",
   "execution_count": null,
   "metadata": {
    "deletable": false,
    "nbgrader": {
     "cell_type": "code",
     "checksum": "dff12e08aba9ba3313d6421cd3a11cad",
     "grade": true,
     "grade_id": "cell-bb5d48ede7f2d8f4",
     "locked": false,
     "points": 4,
     "schema_version": 3,
     "solution": true,
     "task": false
    }
   },
   "outputs": [],
   "source": [
    "# YOUR CODE HERE\n",
    "raise NotImplementedError()"
   ]
  },
  {
   "cell_type": "markdown",
   "metadata": {
    "deletable": false,
    "nbgrader": {
     "cell_type": "markdown",
     "checksum": "e424adc8b74c1156d0ba25ab8e2dd6dd",
     "grade": true,
     "grade_id": "cell-94b7e383d04df2bc",
     "locked": false,
     "points": 2,
     "schema_version": 3,
     "solution": true,
     "task": false
    }
   },
   "source": [
    "YOUR ANSWER HERE"
   ]
  },
  {
   "cell_type": "markdown",
   "metadata": {
    "deletable": false,
    "editable": false,
    "nbgrader": {
     "cell_type": "markdown",
     "checksum": "d75f66b9bafa4438dca6cbfdef283246",
     "grade": false,
     "grade_id": "cell-0ebb7155c15aa67d",
     "locked": true,
     "schema_version": 3,
     "solution": false,
     "task": false
    }
   },
   "source": [
    "**(d)**  [6] In class we demonstrated that the Leap-frog method seemed to be unstable, at least for the examples we showed.  Use your tools for stability analysis of Linear Multi-step methods to analyze the general stability of the Leap Frog method and plot its stability diagram. In particular, comment on the case we showed in class for $\\lambda$ real and negative."
   ]
  },
  {
   "cell_type": "markdown",
   "metadata": {
    "deletable": false,
    "nbgrader": {
     "cell_type": "markdown",
     "checksum": "74fd2490f5284e224c0208d375df8b63",
     "grade": true,
     "grade_id": "cell-9b23a269401801a6",
     "locked": false,
     "points": 4,
     "schema_version": 3,
     "solution": true,
     "task": false
    }
   },
   "source": [
    "YOUR ANSWER HERE"
   ]
  },
  {
   "cell_type": "code",
   "execution_count": null,
   "metadata": {
    "deletable": false,
    "nbgrader": {
     "cell_type": "code",
     "checksum": "adbbc438ac01b509922ec90acbb94b9b",
     "grade": true,
     "grade_id": "cell-de8ac5dc46de0a80",
     "locked": false,
     "points": 2,
     "schema_version": 3,
     "solution": true,
     "task": false
    }
   },
   "outputs": [],
   "source": [
    "# YOUR CODE HERE\n",
    "raise NotImplementedError()"
   ]
  }
 ],
 "metadata": {
  "kernelspec": {
   "display_name": "base",
   "language": "python",
   "name": "python3"
  },
  "language_info": {
   "codemirror_mode": {
    "name": "ipython",
    "version": 3
   },
   "file_extension": ".py",
   "mimetype": "text/x-python",
   "name": "python",
   "nbconvert_exporter": "python",
   "pygments_lexer": "ipython3",
   "version": "3.9.13"
  },
  "latex_envs": {
   "bibliofile": "biblio.bib",
   "cite_by": "apalike",
   "current_citInitial": 1,
   "eqLabelWithNumbers": true,
   "eqNumInitial": 0
  }
 },
 "nbformat": 4,
 "nbformat_minor": 4
}
