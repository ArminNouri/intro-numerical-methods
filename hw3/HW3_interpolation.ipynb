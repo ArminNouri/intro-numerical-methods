{
 "cells": [
  {
   "cell_type": "code",
   "execution_count": null,
   "metadata": {},
   "outputs": [],
   "source": [
    "%matplotlib inline\n",
    "import numpy\n",
    "import matplotlib.pyplot as plt"
   ]
  },
  {
   "cell_type": "markdown",
   "metadata": {
    "deletable": false,
    "editable": false,
    "nbgrader": {
     "cell_type": "markdown",
     "checksum": "935818b1cc5498fcab64162ff74a4e0a",
     "grade": false,
     "grade_id": "cell-6537906896021329",
     "locked": true,
     "schema_version": 3,
     "solution": false
    }
   },
   "source": [
    "Before you turn this problem in, make sure everything runs as expected. First, restart the kernel (in the menubar, select Kernel $\\rightarrow$ Restart) and then run all cells (in the menubar, select Cell $\\rightarrow$ Run All).\n",
    "\n",
    "Make sure you fill in any place that says YOUR CODE HERE or \"YOUR ANSWER HERE\", as well as your name and collaborators below:"
   ]
  },
  {
   "cell_type": "markdown",
   "metadata": {
    "deletable": false,
    "editable": false,
    "nbgrader": {
     "cell_type": "markdown",
     "checksum": "0b16d783d23daac019787229d4c2e61a",
     "grade": false,
     "grade_id": "cell-5502088417300118",
     "locked": true,
     "schema_version": 3,
     "solution": false
    }
   },
   "source": [
    "# HW 3:  Interpolation and applications"
   ]
  },
  {
   "cell_type": "markdown",
   "metadata": {
    "deletable": false,
    "editable": false,
    "nbgrader": {
     "cell_type": "markdown",
     "checksum": "09aa3e7992cd994495709007184999f6",
     "grade": false,
     "grade_id": "cell-82472618555790",
     "locked": true,
     "schema_version": 3,
     "solution": false
    }
   },
   "source": [
    "## Question 1\n",
    "\n",
    "Consider data at three points $(x_0, y_0) = (0, 0)$, $(x_1, y_1) = (1, 2)$, and $(x_2, y_2) = (2, 2)$."
   ]
  },
  {
   "cell_type": "markdown",
   "metadata": {
    "deletable": false,
    "editable": false,
    "nbgrader": {
     "cell_type": "markdown",
     "checksum": "3b84eeedf2d36dfc3754dc397cd38e54",
     "grade": false,
     "grade_id": "cell-8265701073131704",
     "locked": true,
     "schema_version": 3,
     "solution": false
    }
   },
   "source": [
    "**(a)** [ 8 pts] Analytically find coefficients of the interpolating  polynomial $P_2(x)$ that passes through these three points in the following bases\n",
    "1. Monomial: $P(x) = p_0 + p_1 x + p_2 x^2$\n",
    "1. Lagrange: $P(x) = \\sum^2_{k=0} y_k \\ell_k(x)$\n",
    "\n",
    "\n",
    "and show that, independent of basis it's always the same polynomial.\n",
    "\n"
   ]
  },
  {
   "cell_type": "markdown",
   "metadata": {
    "deletable": false,
    "nbgrader": {
     "cell_type": "markdown",
     "checksum": "bdca4a8eb957567c3f00677e6a635cfa",
     "grade": true,
     "grade_id": "cell-3823725410153810",
     "locked": false,
     "points": 8,
     "schema_version": 3,
     "solution": true
    }
   },
   "source": [
    "### Problem:\n",
    "\n",
    "We are given three points:\n",
    "- $ (x_0, y_0) = (0, 0) $\n",
    "- $ (x_1, y_1) = (1, 2) $\n",
    "- $ (x_2, y_2) = (2, 2) $\n",
    "\n",
    "We need to find the **interpolating polynomial** $ P_2(x) $ that passes through these three points, in two different bases:\n",
    "1. **Monomial basis**: $ P(x) = p_0 + p_1 x + p_2 x^2 $\n",
    "2. **Lagrange basis**: $ P(x) = \\sum_{k=0}^2 y_k \\ell_k(x) $\n",
    "\n",
    "### 1. Monomial Basis\n",
    "\n",
    "We start by assuming the polynomial in the **monomial basis** is of the form:\n",
    "\n",
    "$$\n",
    "P(x) = p_0 + p_1 x + p_2 x^2\n",
    "$$\n",
    "\n",
    "We need to find the coefficients $ p_0 $, $ p_1 $, and $ p_2 $ by using the given points $ (x_0, y_0) $, $ (x_1, y_1) $, and $ (x_2, y_2) $.\n",
    "\n",
    "#### Step 1: Use the points to form equations\n",
    "\n",
    "We plug in the points to form three equations.\n",
    "\n",
    "- For $ (x_0, y_0) = (0, 0) $:\n",
    "  $$\n",
    "  P(0) = p_0 + p_1 (0) + p_2 (0)^2 = 0\n",
    "  $$\n",
    "  Simplifies to:\n",
    "  $$\n",
    "  p_0 = 0\n",
    "  $$\n",
    "\n",
    "- For $ (x_1, y_1) = (1, 2) $:\n",
    "  $$\n",
    "  P(1) = p_0 + p_1 (1) + p_2 (1)^2 = 2\n",
    "  $$\n",
    "  Substituting $ p_0 = 0 $:\n",
    "  $$\n",
    "  0 + p_1 + p_2 = 2\n",
    "  $$\n",
    "  This simplifies to:\n",
    "  $$\n",
    "  p_1 + p_2 = 2 \\quad \\text{(Equation 1)}\n",
    "  $$\n",
    "\n",
    "- For $ (x_2, y_2) = (2, 2) $:\n",
    "  $$\n",
    "  P(2) = p_0 + p_1 (2) + p_2 (2)^2 = 2\n",
    "  $$\n",
    "  Substituting $ p_0 = 0 $:\n",
    "  $$\n",
    "  0 + 2p_1 + 4p_2 = 2\n",
    "  $$\n",
    "  This simplifies to:\n",
    "  $$\n",
    "  2p_1 + 4p_2 = 2 \\quad \\text{(Equation 2)}\n",
    "  $$\n",
    "\n",
    "#### Step 2: Solve the system of equations\n",
    "\n",
    "We now have two equations:\n",
    "1. $ p_1 + p_2 = 2 $\n",
    "2. $ 2p_1 + 4p_2 = 2 $\n",
    "\n",
    "- Solve Equation 1 for $ p_1 $:\n",
    "  $$\n",
    "  p_1 = 2 - p_2\n",
    "  $$\n",
    "\n",
    "- Substitute into Equation 2:\n",
    "  $$\n",
    "  2(2 - p_2) + 4p_2 = 2\n",
    "  $$\n",
    "  Simplifying:\n",
    "  $$\n",
    "  4 - 2p_2 + 4p_2 = 2\n",
    "  $$\n",
    "  $$\n",
    "  4 + 2p_2 = 2\n",
    "  $$\n",
    "  Solving for $ p_2 $:\n",
    "  $$\n",
    "  2p_2 = 2 - 4 = -2\n",
    "  $$\n",
    "  $$\n",
    "  p_2 = -1\n",
    "  $$\n",
    "\n",
    "- Substitute $ p_2 = -1 $ into $ p_1 = 2 - p_2 $:\n",
    "  $$\n",
    "  p_1 = 2 - (-1) = 2 + 1 = 3\n",
    "  $$\n",
    "\n",
    "#### Step 3: Final Polynomial in Monomial Basis\n",
    "\n",
    "The coefficients are:\n",
    "- $ p_0 = 0 $\n",
    "- $ p_1 = 3 $\n",
    "- $ p_2 = -1 $\n",
    "\n",
    "Thus, the polynomial in the **monomial basis** is:\n",
    "\n",
    "$$\n",
    "P(x) = 0 + 3x - x^2 = 3x - x^2\n",
    "$$\n",
    "\n",
    "---\n",
    "\n",
    "### 2. Lagrange Basis\n",
    "\n",
    "Now, we construct the interpolating polynomial in the **Lagrange basis**. The formula for the Lagrange interpolating polynomial is:\n",
    "\n",
    "$$\n",
    "P(x) = \\sum_{k=0}^{2} y_k \\ell_k(x)\n",
    "$$\n",
    "\n",
    "Where $ \\ell_k(x) $ is the **Lagrange basis polynomial** for point $ k $, defined as:\n",
    "\n",
    "$$\n",
    "\\ell_k(x) = \\prod_{\\substack{i=0 \\\\ i \\neq k}}^{2} \\frac{x - x_i}{x_k - x_i}\n",
    "$$\n",
    "\n",
    "#### Step 1: Construct $ \\ell_0(x) $\n",
    "\n",
    "We want $ \\ell_0(x) $ to be 1 at $ x_0 = 0 $, and 0 at $ x_1 = 1 $ and $ x_2 = 2 $.\n",
    "\n",
    "Using the formula:\n",
    "\n",
    "$$\n",
    "\\ell_0(x) = \\frac{x - x_1}{x_0 - x_1} \\cdot \\frac{x - x_2}{x_0 - x_2}\n",
    "$$\n",
    "\n",
    "Substitute the values:\n",
    "\n",
    "$$\n",
    "\\ell_0(x) = \\frac{x - 1}{0 - 1} \\cdot \\frac{x - 2}{0 - 2} = (1 - x) \\cdot \\frac{2 - x}{2}\n",
    "$$\n",
    "\n",
    "Thus:\n",
    "\n",
    "$$\n",
    "\\ell_0(x) = \\frac{(1 - x)(2 - x)}{2}\n",
    "$$\n",
    "\n",
    "#### Step 2: Construct $ \\ell_1(x) $\n",
    "\n",
    "We want $ \\ell_1(x) $ to be 1 at $ x_1 = 1 $, and 0 at $ x_0 = 0 $ and $ x_2 = 2 $.\n",
    "\n",
    "Using the formula:\n",
    "\n",
    "$$\n",
    "\\ell_1(x) = \\frac{x - x_0}{x_1 - x_0} \\cdot \\frac{x - x_2}{x_1 - x_2}\n",
    "$$\n",
    "\n",
    "Substitute the values:\n",
    "\n",
    "$$\n",
    "\\ell_1(x) = \\frac{x - 0}{1 - 0} \\cdot \\frac{x - 2}{1 - 2} = x \\cdot (2 - x)\n",
    "$$\n",
    "\n",
    "Thus:\n",
    "\n",
    "$$\n",
    "\\ell_1(x) = x(2 - x)\n",
    "$$\n",
    "\n",
    "#### Step 3: Construct $ \\ell_2(x) $\n",
    "\n",
    "We want $ \\ell_2(x) $ to be 1 at $ x_2 = 2 $, and 0 at $ x_0 = 0 $ and $ x_1 = 1 $.\n",
    "\n",
    "Using the formula:\n",
    "\n",
    "$$\n",
    "\\ell_2(x) = \\frac{x - x_0}{x_2 - x_0} \\cdot \\frac{x - x_1}{x_2 - x_1}\n",
    "$$\n",
    "\n",
    "Substitute the values:\n",
    "\n",
    "$$\n",
    "\\ell_2(x) = \\frac{x - 0}{2 - 0} \\cdot \\frac{x - 1}{2 - 1} = \\frac{x}{2} \\cdot (x - 1)\n",
    "$$\n",
    "\n",
    "Thus:\n",
    "\n",
    "$$\n",
    "\\ell_2(x) = \\frac{x(x - 1)}{2}\n",
    "$$\n",
    "\n",
    "#### Step 4: Construct the Final Polynomial\n",
    "\n",
    "Now that we have the Lagrange basis polynomials, we can construct the full polynomial:\n",
    "\n",
    "$$\n",
    "P(x) = y_0 \\ell_0(x) + y_1 \\ell_1(x) + y_2 \\ell_2(x)\n",
    "$$\n",
    "\n",
    "Substitute the values $ y_0 = 0 $, $ y_1 = 2 $, and $ y_2 = 2 $:\n",
    "\n",
    "$$\n",
    "P(x) = 0 \\cdot \\ell_0(x) + 2 \\cdot \\ell_1(x) + 2 \\cdot \\ell_2(x)\n",
    "$$\n",
    "\n",
    "Simplify:\n",
    "\n",
    "$$\n",
    "P(x) = 2 \\cdot \\left[ x(2 - x) \\right] + 2 \\cdot \\left[ \\frac{x(x - 1)}{2} \\right]\n",
    "$$\n",
    "\n",
    "Simplify each term:\n",
    "\n",
    "$$\n",
    "P(x) = 2 \\cdot (2x - x^2) + x(x - 1)\n",
    "$$\n",
    "\n",
    "$$\n",
    "P(x) = (4x - 2x^2) + (x^2 - x)\n",
    "$$\n",
    "\n",
    "Combine like terms:\n",
    "\n",
    "$$\n",
    "P(x) = 4x - x^2 - x\n",
    "$$\n",
    "\n",
    "Finally:\n",
    "\n",
    "$$\n",
    "P(x) = 3x - x^2\n",
    "$$\n",
    "\n",
    "---\n",
    "\n",
    "### Conclusion:\n",
    "\n",
    "Whether using the **Monomial basis** or the **Lagrange basis**, the interpolating polynomial is the same:\n",
    "\n",
    "$$\n",
    "P(x) = 3x - x^2\n",
    "$$\n"
   ]
  },
  {
   "cell_type": "markdown",
   "metadata": {
    "deletable": false,
    "editable": false,
    "nbgrader": {
     "cell_type": "markdown",
     "checksum": "ace8c21d5f29d3cdcc7da5754f17aeb5",
     "grade": false,
     "grade_id": "cell-3903963456629954",
     "locked": true,
     "schema_version": 3,
     "solution": false
    }
   },
   "source": [
    "**(b)** [4 pts] Any $N+1$ distinct values of $x$ uniquely define the $N+1$ Lagrange polynomials $\\ell_0(x), \\ell_1(x)\\ldots\\ell_N(x)$\n",
    "\n",
    "show that these functions satisfy \n",
    "\n",
    "$$\\sum^N_{i=0} \\ell_i(x) = 1$$\n",
    "\n",
    "for all values of $x$ (not just the nodes).  We say that the Lagrange polynomials form a \"Partition of Unity\" because they always sum to 1.\n",
    "\n",
    "Hint:  consider interpolation of a constant function, $f(x) = c$ sampled at $N+1$ distinct points.\n"
   ]
  },
  {
   "cell_type": "markdown",
   "metadata": {
    "deletable": false,
    "nbgrader": {
     "cell_type": "markdown",
     "checksum": "a45926dd69a036c2edfd6cf82189426c",
     "grade": true,
     "grade_id": "cell-5902170639545808",
     "locked": false,
     "points": 4,
     "schema_version": 3,
     "solution": true
    }
   },
   "source": [
    "### Problem:\n",
    "\n",
    "We are asked to show that the sum of the Lagrange basis polynomials $( \\ell_0(x), \\ell_1(x), \\ldots, \\ell_N(x) $) satisfies:\n",
    "\n",
    "$$\n",
    "\\sum_{i=0}^N \\ell_i(x) = 1\n",
    "$$\n",
    "\n",
    "for **all values of \\( x \\)**, not just at the interpolation nodes. This is known as the **Partition of Unity** property of Lagrange polynomials.\n",
    "\n",
    "### Strategy:\n",
    "\n",
    "To prove this, we will consider interpolating a **constant function** $( f(x) = c $), where $( c $) is a constant, sampled at $( N+1 $) distinct points $( x_0, x_1, \\ldots, x_N $). \n",
    "\n",
    "Since the function is constant, the Lagrange interpolation should result in the constant function itself. This will help us derive the result that the sum of the Lagrange basis polynomials is 1.\n",
    "\n",
    "### Lagrange Interpolation of a Constant Function:\n",
    "\n",
    "The **Lagrange interpolation polynomial** for a function $( f(x) $) at $( N+1 $) distinct points is given by:\n",
    "\n",
    "$$\n",
    "P(x) = \\sum_{i=0}^N f(x_i) \\ell_i(x)\n",
    "$$\n",
    "\n",
    "where:\n",
    "- $( f(x_i) $) is the value of the function at the interpolation point $( x_i $),\n",
    "- $( \\ell_i(x) $) is the Lagrange basis polynomial that is 1 at $( x = x_i $) and 0 at all other interpolation points.\n",
    "\n",
    "Now, consider the **constant function** $( f(x) = c $). For this function, we have:\n",
    "\n",
    "$$\n",
    "f(x_i) = c \\quad \\text{for all } i\n",
    "$$\n",
    "\n",
    "Thus, the interpolation polynomial becomes:\n",
    "\n",
    "$$\n",
    "P(x) = \\sum_{i=0}^N c \\cdot \\ell_i(x)\n",
    "$$\n",
    "\n",
    "Factor out the constant \\( c \\):\n",
    "\n",
    "$$\n",
    "P(x) = c \\cdot \\sum_{i=0}^N \\ell_i(x)\n",
    "$$\n",
    "\n",
    "### Key Insight:\n",
    "\n",
    "Since $( f(x) = c $) is a constant function, we know that the interpolation polynomial $( P(x) $) must also be equal to $( c $) for all values of $( x $), not just at the interpolation points:\n",
    "\n",
    "$$\n",
    "P(x) = c \\quad \\text{for all } x\n",
    "$$\n",
    "\n",
    "Therefore, we can equate this to the previous expression for \\( P(x) \\):\n",
    "\n",
    "$$\n",
    "c \\cdot \\sum_{i=0}^N \\ell_i(x) = c\n",
    "$$\n",
    "\n",
    "### Divide by $( c $) (assuming $( c \\neq 0 $)):\n",
    "\n",
    "We now divide both sides by $( c $):\n",
    "\n",
    "$$\n",
    "\\sum_{i=0}^N \\ell_i(x) = 1\n",
    "$$\n",
    "\n",
    "This shows that the sum of the Lagrange basis polynomials is 1 for all values of \\( x \\), not just at the interpolation nodes.\n",
    "\n",
    "### Conclusion:\n",
    "\n",
    "We have shown that:\n",
    "\n",
    "$$\n",
    "\\sum_{i=0}^N \\ell_i(x) = 1\n",
    "$$\n",
    "\n",
    "for all $( x $). This property is known as the **Partition of Unity**, as the Lagrange polynomials collectively sum to 1 across the entire domain of the interpolation, regardless of the specific points $( x_0, x_1, \\ldots, x_N $), as long as they are distinct.\n"
   ]
  },
  {
   "cell_type": "markdown",
   "metadata": {
    "deletable": false,
    "editable": false,
    "nbgrader": {
     "cell_type": "markdown",
     "checksum": "ac4c96d7d73e5fc2bed61803c1dfe1b6",
     "grade": false,
     "grade_id": "cell-6806070912155660",
     "locked": true,
     "schema_version": 3,
     "solution": false
    }
   },
   "source": [
    "## Question 2: Fun with Chebyshev Polynomials"
   ]
  },
  {
   "cell_type": "markdown",
   "metadata": {
    "deletable": false,
    "editable": false,
    "nbgrader": {
     "cell_type": "markdown",
     "checksum": "41e33ea4dd4d761a50dc408a19e71687",
     "grade": false,
     "grade_id": "cell-8344454aa3c6cd29",
     "locked": true,
     "schema_version": 3,
     "solution": false,
     "task": false
    }
   },
   "source": [
    "**(a)** [4 pts] The $n$th Chebyshev polynomial is characterized (up to a constant) by the identity\n",
    "\n",
    "$$T_n(\\cos \\theta) = \\cos (n \\theta)$$\n",
    "\n",
    "Use this identity to show that the Chebyshev polynomials are orthogonal on $x\\in[-1,1]$ with respect to the weight\n",
    "\n",
    "$$\\omega(x) = \\frac{1}{\\sqrt{1 - x^2}}$$\n",
    "\n",
    "To do this you must prove that\n",
    "\n",
    "$$\\int^1_{-1} \\omega(x) T_n(x) T_m(x) dx = \\left \\{ \\begin{aligned} \n",
    "a & ~ & m = n \\\\ \n",
    "0 & ~ & m \\neq n \n",
    "\\end{aligned} \\right .$$\n",
    "\n",
    "where $a$ is a finite constant (also find this coefficient).  Note that you may have multiple non-zero coefficients $a$.  Make sure to cover all these cases and list the conditions that you will find these values."
   ]
  },
  {
   "cell_type": "markdown",
   "metadata": {
    "deletable": false,
    "nbgrader": {
     "cell_type": "markdown",
     "checksum": "30fc92751374bb2710d4fe7648e32a75",
     "grade": true,
     "grade_id": "cell-8354694405440956",
     "locked": false,
     "points": 4,
     "schema_version": 3,
     "solution": true
    }
   },
   "source": [
    "YOUR ANSWER HERE"
   ]
  },
  {
   "cell_type": "markdown",
   "metadata": {
    "deletable": false,
    "editable": false,
    "nbgrader": {
     "cell_type": "markdown",
     "checksum": "c767e02a08f81d53ec9d7b08448c8155",
     "grade": false,
     "grade_id": "cell-87edfee5e38ec2f5",
     "locked": true,
     "schema_version": 3,
     "solution": false,
     "task": false
    }
   },
   "source": [
    "**(b)** [4 pts] Consider the  Gaussian \n",
    "$$ f(x) = e^{-(x-3)^2} $$ on the interval $x\\in[0,6]$\n",
    "\n",
    "make a plot comparing the polynomial interpolant through $N=11$ points using \n",
    "* Evenly spaced points\n",
    "* The appropriate Chebyshev nodes (i.e. roots of $T_{11}$: **note** you will need to transform the nodes defined on the interval $s\\in[-1,1]$ to $x\\in[0,6]$)\n",
    "\n",
    "Be sure to show both the interpolation points and a reasonably resolved interpolating polynomial $P_{10}(x)$, and label all lines and axes.\n",
    "\n",
    "You can use any of the routines from the notes or `numpy.polyfit` and `numpy.polyval`.  \n",
    "For fun, experiment with other functions (e.g. Runge's function $f(x) = 1/(1 + 25x^2)$)"
   ]
  },
  {
   "cell_type": "code",
   "execution_count": null,
   "metadata": {
    "deletable": false,
    "nbgrader": {
     "cell_type": "code",
     "checksum": "2a1162be101f1f24b8346ec12954767b",
     "grade": true,
     "grade_id": "cell-02c4fc987bf9ddca",
     "locked": false,
     "points": 4,
     "schema_version": 3,
     "solution": true,
     "task": false
    }
   },
   "outputs": [],
   "source": [
    "# YOUR CODE HERE\n",
    "raise NotImplementedError()"
   ]
  },
  {
   "cell_type": "markdown",
   "metadata": {
    "deletable": false,
    "editable": false,
    "nbgrader": {
     "cell_type": "markdown",
     "checksum": "407a3047713db39c9682e9671ffcac56",
     "grade": false,
     "grade_id": "cell-963631730bd282f4",
     "locked": true,
     "schema_version": 3,
     "solution": false,
     "task": false
    }
   },
   "source": [
    "**(c)** [4 pts] define the relative error as\n",
    "        \n",
    "$$\n",
    " r = \\frac{||f(x) - P_N(x)||}{||f(x)||}\n",
    "$$\n",
    "\n",
    "where $||\\cdot||$ is an appropriate norm (length) of a vector, in python you can calculate this by\n",
    "\n",
    "```python\n",
    "x = numpy.linspace(x_min, x_max)\n",
    "P_N = numpy.polyval(p, x)\n",
    "\n",
    "err = f(x) - P_N(x)\n",
    "r = numpy.linalg.norm(err)/numpy.linalg.norm(f(x))\n",
    "```\n",
    "\n",
    "* Make a well labeled plot showing log(r) vs number of grid points $N$ for $N\\in[5,30]$ \n",
    "* Comment briefly on your results. Some questions to consider are:\n",
    "    *  does $P_N(x)\\rightarrow f(x)$ as $N\\rightarrow\\infty$?\n",
    "    *  Is one interpolant more accurate than the other?\n",
    "    * Anything else you notice"
   ]
  },
  {
   "cell_type": "code",
   "execution_count": null,
   "metadata": {
    "deletable": false,
    "nbgrader": {
     "cell_type": "code",
     "checksum": "b501a285d15a7fef6e0dbb6a2fca307e",
     "grade": true,
     "grade_id": "cell-3a61e29e4740bd7d",
     "locked": false,
     "points": 4,
     "schema_version": 3,
     "solution": true,
     "task": false
    }
   },
   "outputs": [],
   "source": [
    "# YOUR CODE HERE\n",
    "raise NotImplementedError()"
   ]
  },
  {
   "cell_type": "markdown",
   "metadata": {
    "deletable": false,
    "nbgrader": {
     "cell_type": "markdown",
     "checksum": "e3b7bad1b549b90f5d44416f05d4d9c0",
     "grade": true,
     "grade_id": "cell-9bd361f6e06eb56c",
     "locked": false,
     "points": 2,
     "schema_version": 3,
     "solution": true,
     "task": false
    }
   },
   "source": [
    "YOUR ANSWER HERE"
   ]
  },
  {
   "cell_type": "markdown",
   "metadata": {
    "deletable": false,
    "editable": false,
    "nbgrader": {
     "cell_type": "markdown",
     "checksum": "27b49713fe8cae4dff40225f79ad92df",
     "grade": false,
     "grade_id": "cell-3224734890563854",
     "locked": true,
     "schema_version": 3,
     "solution": false
    }
   },
   "source": [
    "## Question 3\n",
    "\n",
    "We can often reformulate finite difference approximations as matrix-vector products.   \n",
    "\n",
    "Here we will construct a matrix   $D$  such that multiplying a vector of $\\mathbf{y}$ values would lead to a second order approximation of the First derivative for the given data. \n",
    "\n",
    "In other words, defining the two vectors   $\\mathbf{x}=[x_0, x_1,\\ldots,x_N]^T$ and $\\mathbf{y}=[y_0, y_1,\\ldots,y_N]^T$  such that\n",
    "\n",
    "$$\\mathbf{y} = f(\\mathbf{x})$$\n",
    "\n",
    "for some scalar function $f$,  find a matrix $D$ such that \n",
    "\n",
    "$$\n",
    "f'(\\mathbf{x}) \\approx D\\mathbf{y}\n",
    "$$"
   ]
  },
  {
   "cell_type": "markdown",
   "metadata": {
    "deletable": false,
    "editable": false,
    "nbgrader": {
     "cell_type": "markdown",
     "checksum": "75ec0cda1d28b8a0bcdb536eaff4233f",
     "grade": false,
     "grade_id": "cell-5c735e9080300d72",
     "locked": true,
     "schema_version": 3,
     "solution": false
    }
   },
   "source": [
    "**(a)** [16] Using any method of your choice, derive the following finite-difference formulas for 3 equispaced points $x_i, x_{i+1}, x_{i+2}$ \n",
    "\n",
    "* 2nd-order accurate approximation to the *1st derivative* at  point \n",
    "    * $x_i$ (forward differences)\n",
    "    * $x_{i+1}$ (centered differences)\n",
    "    * $x_{i+2}$ (backward differences)\n",
    "* 2nd-order accurate approximation to the *2nd derivative* evaluated at each point (hint: think before you grind)\n",
    "\n",
    "Some hints:\n",
    "1. consider the interpolating polynomial $P_2(x)$ through those 3 points and calculate $P'_2(x)$ at each point.\n",
    "2. the method of undetermined coefficients on Taylor's series can be useful here as well\n",
    "\n"
   ]
  },
  {
   "cell_type": "markdown",
   "metadata": {
    "deletable": false,
    "nbgrader": {
     "cell_type": "markdown",
     "checksum": "b46a1b3dc8a64dd94422b7611d5aac79",
     "grade": true,
     "grade_id": "cell-88d2d6f7dba4237d",
     "locked": false,
     "points": 16,
     "schema_version": 3,
     "solution": true
    }
   },
   "source": [
    "YOUR ANSWER HERE"
   ]
  },
  {
   "cell_type": "markdown",
   "metadata": {
    "deletable": false,
    "editable": false,
    "nbgrader": {
     "cell_type": "markdown",
     "checksum": "5b4d3625936b76ee346bf8290df0a272",
     "grade": false,
     "grade_id": "cell-7885120873385504",
     "locked": true,
     "schema_version": 3,
     "solution": false
    }
   },
   "source": [
    "**(b)** [4] Now consider an equispaced set of points  $y_i = f(x_i)$.  Can you describe the structure of a consistent 2nd order, first derivative matrix $D$,  such that \n",
    "\n",
    "$$\n",
    "    f'(\\mathbf{x}) \\approx D\\mathbf{y}\n",
    "$$\n",
    "\n",
    "returns the consistent 1st derivative at every point (including the end points)"
   ]
  },
  {
   "cell_type": "markdown",
   "metadata": {
    "deletable": false,
    "nbgrader": {
     "cell_type": "markdown",
     "checksum": "615db92a0cea0a438f8d1bcb1b304b11",
     "grade": true,
     "grade_id": "cell-2125755949784286",
     "locked": false,
     "points": 4,
     "schema_version": 3,
     "solution": true
    }
   },
   "source": [
    "YOUR ANSWER HERE"
   ]
  },
  {
   "cell_type": "markdown",
   "metadata": {
    "deletable": false,
    "editable": false,
    "nbgrader": {
     "cell_type": "markdown",
     "checksum": "81a305f8a973d9be62256992de1c1149",
     "grade": false,
     "grade_id": "cell-8815784455777695",
     "locked": true,
     "schema_version": 3,
     "solution": false
    }
   },
   "source": [
    "**(c)** [4] Using the function `fdcoeffV.py` described in class (and included with this homework), write a python function that takes in a numpy array of coordinates $x$ (not necessarily evenly spaced)  and returns a matrix $D$ that calculates the consistent 2nd-order 1st derivatives at each point using 3 nearest neighbors (be careful at the edges)\n",
    "\n",
    "Given this matrix $D$, it is easy to test it for various functions and meshes"
   ]
  },
  {
   "cell_type": "code",
   "execution_count": null,
   "metadata": {
    "deletable": false,
    "nbgrader": {
     "cell_type": "code",
     "checksum": "0ccb77beb9410271354dbf3a474cb335",
     "grade": false,
     "grade_id": "cell-5516025382221234",
     "locked": false,
     "schema_version": 3,
     "solution": true
    }
   },
   "outputs": [],
   "source": [
    "from  fdcoeffV import fdcoeffV\n",
    "\n",
    "def D1(x):\n",
    "    \"\"\"\n",
    "    Write a good doc-string\n",
    "    \n",
    "    x: ndarray of coordinates\n",
    "    D: ndarray\n",
    "        Matrix (2-D ndarray ) to calculate consistent 2nd order first derivative\n",
    "    \"\"\"\n",
    "    # YOUR CODE HERE\n",
    "    raise NotImplementedError()\n",
    "    \n"
   ]
  },
  {
   "cell_type": "code",
   "execution_count": null,
   "metadata": {
    "deletable": false,
    "editable": false,
    "nbgrader": {
     "cell_type": "code",
     "checksum": "728edeeac8ee580c8b5451714396ff74",
     "grade": true,
     "grade_id": "cell-7511846809958937",
     "locked": true,
     "points": 4,
     "schema_version": 3,
     "solution": false
    }
   },
   "outputs": [],
   "source": [
    "# Let's test this using f(x) = sin(pi*x) on a uniform mesh\n",
    "N = 200\n",
    "x = numpy.linspace(-1, 1, N)\n",
    "dx = x[1]-x[0]\n",
    "\n",
    "pi = numpy.pi\n",
    "y = lambda x: numpy.sin(pi*x)\n",
    "y_prime = lambda x: pi*numpy.cos(pi*x)\n",
    "\n",
    "print(\"Uniform mesh: \",end='')\n",
    "numpy.testing.assert_allclose(numpy.dot(D1(x), y(x)), y_prime(x), rtol=1e-2)\n",
    "print(\"Success!\")\n",
    "\n",
    "# test on a randomized mesh\n",
    "x_rand = x + dx/3.*numpy.random.rand(N)\n",
    "print(\"Random mesh: \",end ='')\n",
    "numpy.testing.assert_allclose(numpy.dot(D1(x_rand), y(x_rand)), y_prime(x_rand), rtol=1e-2)\n",
    "print(\"Success!\")\n",
    "\n"
   ]
  },
  {
   "cell_type": "markdown",
   "metadata": {
    "deletable": false,
    "editable": false,
    "nbgrader": {
     "cell_type": "markdown",
     "checksum": "ae07a197d06352ba440c9a21e07f055a",
     "grade": false,
     "grade_id": "cell-894a7ec04fd0689b",
     "locked": true,
     "schema_version": 3,
     "solution": false,
     "task": false
    }
   },
   "source": [
    "**(d)** [6] make a beautiful convergence plot showing how the relative error in your finite element approximation\n",
    "\n",
    "$$ r = \\frac{||f'(\\mathbf{x}) - D\\mathbf{y}||}{||f'(\\mathbf{x})||}$$\n",
    "\n",
    " scales with mesh spacing $\\Delta x$ for $f(x) = \\sin(\\pi x)$ on the interval $x\\in[-1,1]$.  What is the expected rate of convergence?  Compare with the best fit straight line (in log space) to your error estimates."
   ]
  },
  {
   "cell_type": "code",
   "execution_count": null,
   "metadata": {
    "deletable": false,
    "nbgrader": {
     "cell_type": "code",
     "checksum": "4500eb4ea647bfe57d5b35b583a5e97c",
     "grade": true,
     "grade_id": "cell-2dac3533cd822755",
     "locked": false,
     "points": 4,
     "schema_version": 3,
     "solution": true,
     "task": false
    }
   },
   "outputs": [],
   "source": [
    "# YOUR CODE HERE\n",
    "raise NotImplementedError()"
   ]
  },
  {
   "cell_type": "markdown",
   "metadata": {
    "deletable": false,
    "nbgrader": {
     "cell_type": "markdown",
     "checksum": "26e78697e343f6e8a397e33cb9f745f8",
     "grade": true,
     "grade_id": "cell-cdbaae508b97aeab",
     "locked": false,
     "points": 2,
     "schema_version": 3,
     "solution": true,
     "task": false
    }
   },
   "source": [
    "YOUR ANSWER HERE"
   ]
  },
  {
   "cell_type": "markdown",
   "metadata": {
    "deletable": false,
    "editable": false,
    "nbgrader": {
     "cell_type": "markdown",
     "checksum": "71695abb08cc03b3423e733ae2b932fa",
     "grade": false,
     "grade_id": "cell-1283048126092389",
     "locked": true,
     "schema_version": 3,
     "solution": false
    }
   },
   "source": [
    "**(e)** [4] Suppose we knew the *first derivative* of a function $f(x)$ at a discrete set of points and wanted to solve for the discrete function itself.  i.e.  ideally given $D$ and vector $\\mathbf{y} = f'(\\mathbf{x})$,  we would like to be able to solve the linear algebra problem\n",
    "\n",
    "$$\n",
    "    D\\mathbf{f} = \\mathbf{y}\n",
    "$$\n",
    "\n",
    "for $\\mathbf{f}\\approx f(\\bf{x})$.  Discuss any issues we might have with this approach."
   ]
  },
  {
   "cell_type": "markdown",
   "metadata": {
    "deletable": false,
    "nbgrader": {
     "cell_type": "markdown",
     "checksum": "4796062ad226b5075c548c9202ba07fe",
     "grade": true,
     "grade_id": "cell-3816704844311840",
     "locked": false,
     "points": 4,
     "schema_version": 3,
     "solution": true
    }
   },
   "source": [
    "YOUR ANSWER HERE"
   ]
  },
  {
   "cell_type": "code",
   "execution_count": null,
   "metadata": {},
   "outputs": [],
   "source": []
  }
 ],
 "metadata": {
  "kernelspec": {
   "display_name": "base",
   "language": "python",
   "name": "python3"
  },
  "language_info": {
   "codemirror_mode": {
    "name": "ipython",
    "version": 3
   },
   "file_extension": ".py",
   "mimetype": "text/x-python",
   "name": "python",
   "nbconvert_exporter": "python",
   "pygments_lexer": "ipython3",
   "version": "3.9.13"
  },
  "latex_envs": {
   "bibliofile": "biblio.bib",
   "cite_by": "apalike",
   "current_citInitial": 1,
   "eqLabelWithNumbers": true,
   "eqNumInitial": 0
  }
 },
 "nbformat": 4,
 "nbformat_minor": 4
}
