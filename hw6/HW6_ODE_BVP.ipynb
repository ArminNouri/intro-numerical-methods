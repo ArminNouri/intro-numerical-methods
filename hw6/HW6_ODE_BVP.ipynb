{
 "cells": [
  {
   "cell_type": "markdown",
   "metadata": {},
   "source": [
    "Before you turn this problem in, make sure everything runs as expected. First, **restart the kernel** (in the menubar, select Kernel$\\rightarrow$Restart) and then **run all cells** (in the menubar, select Cell$\\rightarrow$Run All).\n",
    "\n",
    "Make sure you fill in any place that says `YOUR CODE HERE` or \"YOUR ANSWER HERE\", as well as any collaborators you worked with:"
   ]
  },
  {
   "cell_type": "code",
   "execution_count": 1,
   "metadata": {},
   "outputs": [],
   "source": [
    "COLLABORATORS = \"\""
   ]
  },
  {
   "cell_type": "markdown",
   "metadata": {},
   "source": [
    "---"
   ]
  },
  {
   "cell_type": "code",
   "execution_count": 2,
   "metadata": {},
   "outputs": [],
   "source": [
    "from __future__ import print_function\n",
    "%matplotlib inline\n",
    "%precision 16\n",
    "import numpy\n",
    "import matplotlib.pyplot as plt\n",
    "from scipy.integrate import solve_ivp"
   ]
  },
  {
   "cell_type": "markdown",
   "metadata": {
    "deletable": false,
    "editable": false,
    "nbgrader": {
     "cell_type": "markdown",
     "checksum": "6747db3e029068dd5bfe3b73948c3fa6",
     "grade": false,
     "grade_id": "cell-6282430347078978",
     "locked": true,
     "schema_version": 3,
     "solution": false
    }
   },
   "source": [
    "# HW 6:  ODE Methods and Linear algebra \n",
    "This homework will combine a lot of previous codes to solve simple linear and non-linear Boundary value problems\n",
    "and explore a bit of the issues of conditioning during LU decomposition\n",
    "\n",
    "This problem set has two questions and one extra credit question"
   ]
  },
  {
   "cell_type": "markdown",
   "metadata": {
    "deletable": false,
    "editable": false,
    "nbgrader": {
     "cell_type": "markdown",
     "checksum": "f5d65d046b5e97039def75327a92f976",
     "grade": false,
     "grade_id": "cell-97c426ce43130f77",
     "locked": true,
     "schema_version": 3,
     "solution": false,
     "task": false
    }
   },
   "source": [
    "## Question 1 - A linear ODE BVP\n",
    "\n",
    "Consider the *linear* non-homogeneous 2-pt boundary value problem\n",
    "\n",
    "$$\n",
    "    u^{\\prime\\prime}+ u = \\sin3x\\quad\\quad x\\in[0,L],\\quad u(0)=u(L)=0\n",
    "$$\n",
    "\n",
    "which is related to the modes of vibration of a forced string of length $L$."
   ]
  },
  {
   "cell_type": "markdown",
   "metadata": {
    "deletable": false,
    "editable": false,
    "nbgrader": {
     "cell_type": "markdown",
     "checksum": "bcc908a32c37fba325c023e63dbcf7d3",
     "grade": false,
     "grade_id": "cell-d57d5cccd5fe437a",
     "locked": true,
     "schema_version": 3,
     "solution": false,
     "task": false
    }
   },
   "source": [
    "**(a)** [4] Find an analytic solution to this problem for general $L$ (hint:\n",
    "  remember your basic ODE's for constant-coefficient problems).  Is\n",
    "  this solution unique?"
   ]
  },
  {
   "cell_type": "markdown",
   "metadata": {
    "deletable": false,
    "hide_input": true,
    "nbgrader": {
     "cell_type": "markdown",
     "checksum": "3a50bb5fe5e3cea6be689f0f83eba3d5",
     "grade": true,
     "grade_id": "cell-78f1cbd4419916a6",
     "locked": false,
     "points": 4,
     "schema_version": 3,
     "solution": true,
     "task": false
    }
   },
   "source": [
    "### Solution\n",
    "\n",
    "The given boundary value problem is:  \n",
    "$$\n",
    "u^{\\prime\\prime} + u = \\sin(3x), \\quad x \\in [0, L], \\quad u(0) = u(L) = 0.\n",
    "$$\n",
    "\n",
    "---\n",
    "\n",
    "#### Step 1: Solve the homogeneous equation  \n",
    "The homogeneous equation is:\n",
    "$$\n",
    "u_h^{\\prime\\prime} + u_h = 0.\n",
    "$$\n",
    "The characteristic equation is:\n",
    "$$\n",
    "r^2 + 1 = 0 \\quad \\implies \\quad r = \\pm i.\n",
    "$$\n",
    "Thus, the general solution to the homogeneous equation is:\n",
    "$$\n",
    "u_h(x) = C_1 \\cos(x) + C_2 \\sin(x).\n",
    "$$\n",
    "\n",
    "---\n",
    "\n",
    "#### Step 2: Solve the particular solution  \n",
    "The non-homogeneous term is $ \\sin(3x) $. Assume a particular solution of the form:\n",
    "$$\n",
    "u_p(x) = A \\sin(3x) + B \\cos(3x).\n",
    "$$\n",
    "Substitute $ u_p(x) $ into the ODE:\n",
    "$$\n",
    "u_p^{\\prime\\prime}(x) + u_p(x) = \\sin(3x).\n",
    "$$\n",
    "Compute derivatives:\n",
    "$$\n",
    "u_p^{\\prime\\prime}(x) = -9A \\sin(3x) - 9B \\cos(3x),\n",
    "$$\n",
    "so:\n",
    "$$\n",
    "(-9A \\sin(3x) - 9B \\cos(3x)) + (A \\sin(3x) + B \\cos(3x)) = \\sin(3x).\n",
    "$$\n",
    "Simplify:\n",
    "$$\n",
    "(-8A) \\sin(3x) + (-8B) \\cos(3x) = \\sin(3x).\n",
    "$$\n",
    "Equating coefficients:\n",
    "$$\n",
    "-8A = 1 \\quad \\implies \\quad A = -\\frac{1}{8},\n",
    "$$\n",
    "$$\n",
    "-8B = 0 \\quad \\implies \\quad B = 0.\n",
    "$$\n",
    "Thus:\n",
    "$$\n",
    "u_p(x) = -\\frac{1}{8} \\sin(3x).\n",
    "$$\n",
    "\n",
    "---\n",
    "\n",
    "#### Step 3: General solution  \n",
    "The general solution is:\n",
    "$$\n",
    "u(x) = u_h(x) + u_p(x) = C_1 \\cos(x) + C_2 \\sin(x) - \\frac{1}{8} \\sin(3x).\n",
    "$$\n",
    "\n",
    "---\n",
    "\n",
    "#### Step 4: Apply boundary conditions  \n",
    "The boundary conditions are $ u(0) = 0 $ and $ u(L) = 0 $.  \n",
    "\n",
    "1. At $ x = 0 $:\n",
    "$$\n",
    "u(0) = C_1 \\cos(0) + C_2 \\sin(0) - \\frac{1}{8} \\sin(0) = C_1 = 0.\n",
    "$$\n",
    "So $ C_1 = 0 $.\n",
    "\n",
    "2. At $ x = L $:\n",
    "$$\n",
    "u(L) = C_2 \\sin(L) - \\frac{1}{8} \\sin(3L) = 0.\n",
    "$$\n",
    "Factoring:\n",
    "$$\n",
    "C_2 \\sin(L) = \\frac{1}{8} \\sin(3L).\n",
    "$$\n",
    "\n",
    "---\n",
    "\n",
    "#### Step 5: Uniqueness of the solution  \n",
    "For the solution to be unique, the coefficient $ C_2 $ must be determined. If $ \\sin(L) \\neq 0 $, we can solve for $ C_2 $ uniquely:\n",
    "$$\n",
    "C_2 = \\frac{\\sin(3L)}{8 \\sin(L)}.\n",
    "$$\n",
    "Thus, the solution is unique **if $ L \\neq n\\pi $, where $ n $ is an integer**. If $ L = n\\pi $, the problem has non-unique solutions due to the homogeneous term $ C_2 \\sin(x) $ being a valid solution.  "
   ]
  },
  {
   "cell_type": "markdown",
   "metadata": {
    "deletable": false,
    "editable": false,
    "nbgrader": {
     "cell_type": "markdown",
     "checksum": "f0e9eb58cb8e9ed0df6a4aea4336e706",
     "grade": false,
     "grade_id": "cell-e7a7093e0a889a24",
     "locked": true,
     "schema_version": 3,
     "solution": false,
     "task": false
    }
   },
   "source": [
    "**(b)** [2]  create a function `u_true(x,L)` and plot your solution for $L=10$ evaluated on a regularly spaced set of points $\\mathbf{x}$"
   ]
  },
  {
   "cell_type": "code",
   "execution_count": 3,
   "metadata": {
    "deletable": false,
    "nbgrader": {
     "cell_type": "code",
     "checksum": "7e2e4439e1945611d765d8584cedce15",
     "grade": true,
     "grade_id": "cell-f8a9836fa0894e29",
     "locked": false,
     "points": 2,
     "schema_version": 3,
     "solution": true,
     "task": false
    }
   },
   "outputs": [
    {
     "data": {
      "image/png": "[encoded data removed]",
      "text/plain": [
       "<Figure size 800x500 with 1 Axes>"
      ]
     },
     "metadata": {},
     "output_type": "display_data"
    }
   ],
   "source": [
    "from scipy.linalg import solve_banded\n",
    "\n",
    "\n",
    "\n",
    "def u_true(x, L):\n",
    "\n",
    "    \"\"\"\n",
    "\n",
    "    Solve the linear non-homogeneous boundary value problem using a finite difference method.\n",
    "\n",
    "    Args:\n",
    "\n",
    "        x: Points to evaluate the solution.\n",
    "\n",
    "        L: Length of the string.\n",
    "\n",
    "\n",
    "\n",
    "    Returns:\n",
    "\n",
    "        The solution u(x) evaluated at the points in x.\n",
    "\n",
    "    \"\"\"\n",
    "\n",
    "    # Number of points\n",
    "\n",
    "    n = len(x)\n",
    "\n",
    "    h = x[1] - x[0]  # Spacing\n",
    "\n",
    "\n",
    "\n",
    "    # Set up the finite difference matrix\n",
    "\n",
    "    diagonals = numpy.zeros((3, n))\n",
    "\n",
    "    diagonals[0, 1:] = -1 / h**2  # Upper diagonal\n",
    "\n",
    "    diagonals[1, :] = 2 / h**2 + 1  # Main diagonal\n",
    "\n",
    "    diagonals[2, :-1] = -1 / h**2  # Lower diagonal\n",
    "\n",
    "\n",
    "\n",
    "    # Set up the right-hand side vector (source term)\n",
    "\n",
    "    b = numpy.sin(3 * x)\n",
    "\n",
    "    b[0] = b[-1] = 0  # Apply boundary conditions\n",
    "\n",
    "\n",
    "\n",
    "    # Solve using a banded matrix solver\n",
    "\n",
    "    u = solve_banded((1, 1), diagonals, b)\n",
    "\n",
    "\n",
    "\n",
    "    return u\n",
    "\n",
    "\n",
    "\n",
    "# Parameters\n",
    "\n",
    "L = 10\n",
    "\n",
    "num_points = 100\n",
    "\n",
    "x = numpy.linspace(0, L, num_points)\n",
    "\n",
    "\n",
    "\n",
    "# Evaluate the solution\n",
    "\n",
    "u = u_true(x, L)\n",
    "\n",
    "\n",
    "\n",
    "# Plot the solution\n",
    "\n",
    "plt.figure(figsize=(8, 5))\n",
    "\n",
    "plt.plot(x, u, label=r\"$u(x)$\")\n",
    "\n",
    "plt.title(\"Solution to the Boundary Value Problem\")\n",
    "\n",
    "plt.xlabel(\"x\")\n",
    "\n",
    "plt.ylabel(\"u(x)\")\n",
    "\n",
    "plt.grid(True)\n",
    "\n",
    "plt.legend()\n",
    "\n",
    "plt.show()"
   ]
  },
  {
   "cell_type": "markdown",
   "metadata": {
    "deletable": false,
    "editable": false,
    "nbgrader": {
     "cell_type": "markdown",
     "checksum": "16319c57b4a550dfa0a32352c8e676f5",
     "grade": false,
     "grade_id": "cell-28b8298c72a5a12c",
     "locked": true,
     "schema_version": 3,
     "solution": false,
     "task": false
    }
   },
   "source": [
    "**(b)** [4] Write a general shooting algorithm that combines the two scipy routines\n",
    "\n",
    "* scipy.integrate.solve_ivp\n",
    "* scipy.optimized.root_scalar\n",
    "\n",
    "and returns the solution evaluated at an evenly spaced set of points $\\mathbf{x}$.  \n",
    "\n",
    "Some hints\n",
    "\n",
    "* use `dense_output = True` in solve_ivp\n",
    "* you can introduce a second def within shoot_bvp for use in root_scalar\n",
    "\n",
    "For convenience (and testing), I've provided the interface introduced in class for a routine that can handle a range of boundary conditions and can control relative and absolute tolerance."
   ]
  },
  {
   "cell_type": "code",
   "execution_count": 4,
   "metadata": {
    "deletable": false,
    "nbgrader": {
     "cell_type": "code",
     "checksum": "6ae0d9bd86ab5ad732ed47bb5de1cbcb",
     "grade": false,
     "grade_id": "cell-0faef9786658c554",
     "locked": false,
     "schema_version": 3,
     "solution": true,
     "task": false
    }
   },
   "outputs": [
    {
     "data": {
      "image/png": "[encoded data removed]",
      "text/plain": [
       "<Figure size 800x500 with 1 Axes>"
      ]
     },
     "metadata": {},
     "output_type": "display_data"
    }
   ],
   "source": [
    "from scipy.integrate import solve_ivp\n",
    "from scipy.optimize import root_scalar\n",
    "\n",
    "def shoot_bvp(f, x, u_a, u_b, i_a, i_b, rtol=1.e-5, atol=1.e-9):\n",
    "\n",
    "    '''\n",
    "\n",
    "    Solve the two-point boundary value problem on the interval x ∈ [a,b], using a shooting method\n",
    "\n",
    "    \n",
    "\n",
    "    parameters:\n",
    "\n",
    "    -----------\n",
    "\n",
    "    f: callable \n",
    "\n",
    "        Vector-valued function for the right-hand side of the ODE with the interface f(t, u). Returns ndarray of length 2.\n",
    "\n",
    "    x: numpy array\n",
    "\n",
    "        Coordinates array for the solution on the interval [a,b] with x[0] = a, x[-1] = b.\n",
    "\n",
    "    u_a: numpy array (length 2)\n",
    "\n",
    "        Provide initial boundary conditions [u, u'] at x = a.\n",
    "\n",
    "    u_b: numpy array (length 2)\n",
    "\n",
    "        Target boundary condition at x = b.\n",
    "\n",
    "    i_a: integer\n",
    "\n",
    "        Index of the known boundary condition at x = a.\n",
    "\n",
    "        - If Dirichlet conditions: i_a = 0, and u(a) is known.\n",
    "\n",
    "        - If Neumann conditions: i_a = 1, and u'(a) is known.\n",
    "\n",
    "    i_b: integer\n",
    "\n",
    "        Index of the known boundary condition at x = b.\n",
    "\n",
    "        - If Dirichlet conditions: i_b = 0, and u(b) is known.\n",
    "\n",
    "        - If Neumann conditions: i_b = 1, and u'(b) is known.\n",
    "\n",
    "    rtol: float\n",
    "\n",
    "        Relative tolerance for solve_ivp.\n",
    "\n",
    "    atol: float\n",
    "\n",
    "        Absolute tolerance for solve_ivp.\n",
    "\n",
    "        \n",
    "\n",
    "    returns:\n",
    "\n",
    "    --------\n",
    "\n",
    "    u: solution u(x) for x (uses dense_output from solve_ivp to interpolate solution onto x).\n",
    "\n",
    "    '''\n",
    "\n",
    "    \n",
    "\n",
    "    def shooting_error(s):\n",
    "\n",
    "        \"\"\"\n",
    "\n",
    "        Function for root_scalar to minimize. Solves the IVP with initial condition at x=a \n",
    "\n",
    "        and returns the error in satisfying the boundary condition at x=b.\n",
    "\n",
    "        \"\"\"\n",
    "\n",
    "        # Set up initial condition at x = a\n",
    "\n",
    "        u0 = u_a.copy()\n",
    "\n",
    "        u0[1 - i_a] = s  # Complementary index (if i_a=0, set u'(a); if i_a=1, set u(a))\n",
    "\n",
    "        \n",
    "\n",
    "        # Solve the IVP\n",
    "\n",
    "        sol = solve_ivp(f, [x[0], x[-1]], u0, t_eval=[x[-1]], rtol=rtol, atol=atol)\n",
    "\n",
    "        \n",
    "\n",
    "        # Check the boundary condition at x = b\n",
    "\n",
    "        if sol.status != 0:\n",
    "\n",
    "            raise ValueError(\"IVP solver failed during shooting.\")\n",
    "\n",
    "        \n",
    "\n",
    "        return sol.y[i_b, -1] - u_b[i_b]  # Difference from the target boundary condition\n",
    "\n",
    "    \n",
    "\n",
    "    # Dynamically generate initial guesses for the slope\n",
    "\n",
    "    s_guess = [-10, 10]  # Wide initial guesses for the root\n",
    "\n",
    "    \n",
    "\n",
    "    # Ensure that guesses bracket a root\n",
    "\n",
    "    if shooting_error(s_guess[0]) * shooting_error(s_guess[1]) > 0:\n",
    "\n",
    "        raise ValueError(\"Initial guesses do not bracket a root. Adjust guesses or check problem setup.\")\n",
    "\n",
    "    \n",
    "\n",
    "    # Use root_scalar to find the correct initial condition\n",
    "\n",
    "    root = root_scalar(shooting_error, bracket=s_guess, method=\"bisect\", xtol=atol)\n",
    "\n",
    "    if not root.converged:\n",
    "\n",
    "        raise ValueError(\"Shooting method failed to converge.\")\n",
    "\n",
    "    \n",
    "\n",
    "    s_opt = root.root  # Optimal initial condition\n",
    "\n",
    "    \n",
    "\n",
    "    # Solve the IVP with the optimal initial condition\n",
    "\n",
    "    u0_opt = u_a.copy()\n",
    "\n",
    "    u0_opt[1 - i_a] = s_opt\n",
    "\n",
    "    ivp_sol = solve_ivp(f, [x[0], x[-1]], u0_opt, dense_output=True, rtol=rtol, atol=atol)\n",
    "\n",
    "    \n",
    "\n",
    "    if ivp_sol.status != 0:\n",
    "\n",
    "        raise ValueError(\"IVP solver failed after finding the optimal slope.\")\n",
    "\n",
    "    \n",
    "\n",
    "    # Evaluate the solution at the specified points\n",
    "\n",
    "    u = ivp_sol.sol(x)[0]  # Extract u(x)\n",
    "\n",
    "    \n",
    "\n",
    "    return u\n",
    "\n",
    "\n",
    "# Example functions and parameters for testing\n",
    "def f(t, u):\n",
    "    \"\"\"\n",
    "    Example RHS for the BVP.\n",
    "    \"\"\"\n",
    "    return numpy.array([u[1], numpy.sin(3 * t) - u[0]])\n",
    "\n",
    "# Domain and boundary conditions\n",
    "x = numpy.linspace(0, 10, 100)\n",
    "u_a = numpy.array([0, 0])  # Boundary at x=a\n",
    "u_b = numpy.array([0, 0])  # Boundary at x=b\n",
    "i_a = 0  # Dirichlet condition at x=a\n",
    "i_b = 0  # Dirichlet condition at x=b\n",
    "\n",
    "# Solve the BVP using the shooting method\n",
    "u_solution = shoot_bvp(f, x, u_a, u_b, i_a, i_b)\n",
    "\n",
    "# Plot the solution\n",
    "plt.figure(figsize=(8, 5))\n",
    "plt.plot(x, u_solution, label=\"Shooting Method Solution\")\n",
    "plt.title(\"Solution to the Boundary Value Problem using Shooting Method\")\n",
    "plt.xlabel(\"x\")\n",
    "plt.ylabel(\"u(x)\")\n",
    "plt.grid(True)\n",
    "plt.legend()\n",
    "plt.show()\n"
   ]
  },
  {
   "cell_type": "markdown",
   "metadata": {
    "deletable": false,
    "editable": false,
    "nbgrader": {
     "cell_type": "markdown",
     "checksum": "609dee8359595fe3d603c4b8f69cef00",
     "grade": false,
     "grade_id": "cell-ac342e3055e81254",
     "locked": true,
     "schema_version": 3,
     "solution": false,
     "task": false
    }
   },
   "source": [
    "**(c)** [4] rewrite the original problem \n",
    "\n",
    "$$\n",
    "    u^{\\prime\\prime} + u = \\sin(3x)\n",
    "$$\n",
    "\n",
    "as a system of first order ODE's\n",
    "\n",
    "$$\n",
    "    \\frac{d\\mathbf{v}}{dx} = \\mathbf{f}(x,\\mathbf{v})\n",
    "$$  \n",
    "\n",
    "and solve using the interface\n",
    "\n",
    "`u_sol = shoot_bvp(f, x, u_a, u_b, i_a, i_b)`\n",
    "\n",
    "* make a plot comparing your shooting solution with the true solution."
   ]
  },
  {
   "cell_type": "code",
   "execution_count": 6,
   "metadata": {
    "deletable": false,
    "nbgrader": {
     "cell_type": "code",
     "checksum": "f68c61daca6974c31c190d8332fb0308",
     "grade": true,
     "grade_id": "cell-ca6e0c8df676bf6b",
     "locked": false,
     "points": 4,
     "schema_version": 3,
     "solution": true,
     "task": false
    }
   },
   "outputs": [
    {
     "data": {
      "image/png": "[encoded data removed]",
      "text/plain": [
       "<Figure size 1000x600 with 1 Axes>"
      ]
     },
     "metadata": {},
     "output_type": "display_data"
    }
   ],
   "source": [
    "def f_system(x, v):\n",
    "    \"\"\"\n",
    "    Define the first-order system of ODEs corresponding to the original second-order ODE.\n",
    "    \"\"\"\n",
    "    return numpy.array([v[1], numpy.sin(3 * x) - v[0]])\n",
    "\n",
    "u_shoot = shoot_bvp(f_system, x, u_a, u_b, i_a, i_b)\n",
    "\n",
    "\n",
    "\n",
    "# Compute the true solution for comparison\n",
    "\n",
    "u_sol = u_true(x, L)\n",
    "\n",
    "\n",
    "\n",
    "# Plot the comparison\n",
    "\n",
    "plt.figure(figsize=(10, 6))\n",
    "\n",
    "plt.plot(x, u_shoot, label=\"Shooting Method Solution\", linestyle=\"--\")\n",
    "\n",
    "plt.plot(x, u_sol, label=\"True Solution\", linestyle=\"-\")\n",
    "\n",
    "plt.title(\"Comparison of Shooting Method Solution and True Solution\")\n",
    "\n",
    "plt.xlabel(\"x\")\n",
    "\n",
    "plt.ylabel(\"u(x)\")\n",
    "\n",
    "plt.grid(True)\n",
    "\n",
    "plt.legend()\n",
    "\n",
    "plt.show()"
   ]
  },
  {
   "cell_type": "markdown",
   "metadata": {
    "deletable": false,
    "editable": false,
    "nbgrader": {
     "cell_type": "markdown",
     "checksum": "27e60582069c6f73b8f2f51d0df2992d",
     "grade": false,
     "grade_id": "cell-41ae76f60e3f99ae",
     "locked": true,
     "schema_version": 3,
     "solution": false,
     "task": false
    }
   },
   "source": [
    "The following cell tests your shooting code against the true solution.  Adjust the relative and absolute tolerances in shoot_bvp, to make sure the following test passes with relative error $<10^{-6}$"
   ]
  },
  {
   "cell_type": "code",
   "execution_count": 7,
   "metadata": {
    "deletable": false,
    "editable": false,
    "nbgrader": {
     "cell_type": "code",
     "checksum": "b181dbe3899d7b676c9ea92e9945d791",
     "grade": true,
     "grade_id": "cell-b091d3210fd80d9e",
     "locked": true,
     "points": 4,
     "schema_version": 3,
     "solution": false,
     "task": false
    }
   },
   "outputs": [
    {
     "name": "stdout",
     "output_type": "stream",
     "text": [
      "relative error = 0.0\n",
      "success\n"
     ]
    }
   ],
   "source": [
    "#  test the solution against the true solution and pass if relative error < 1.e-6\n",
    "\n",
    "rel_err = numpy.linalg.norm(u_sol - u_true(x,L))/numpy.linalg.norm(u_true(x,L))\n",
    "print('relative error = {}'.format(rel_err))\n",
    "\n",
    "assert(rel_err < 1.e-6)\n",
    "print('success')"
   ]
  },
  {
   "cell_type": "markdown",
   "metadata": {
    "deletable": false,
    "editable": false,
    "nbgrader": {
     "cell_type": "markdown",
     "checksum": "d1c7eaff21ee1e51bd6c45ff05f13ec8",
     "grade": false,
     "grade_id": "cell-7ec628ae6be5fcc2",
     "locked": true,
     "schema_version": 3,
     "solution": false,
     "task": false
    }
   },
   "source": [
    "**(d)** [8] Repeat the exercise but use the 2nd order finite difference methods introduced in class.  For convenience I have provided the routines for assembly of sparse 2nd derivative matrices and RHS from class.  "
   ]
  },
  {
   "cell_type": "code",
   "execution_count": 8,
   "metadata": {},
   "outputs": [
    {
     "ename": "ModuleNotFoundError",
     "evalue": "No module named 'fdcoeffV'",
     "output_type": "error",
     "traceback": [
      "\u001b[1;31m---------------------------------------------------------------------------\u001b[0m",
      "\u001b[1;31mModuleNotFoundError\u001b[0m                       Traceback (most recent call last)",
      "\u001b[1;32m~\\AppData\\Local\\Temp\\ipykernel_6016\\2292339909.py\u001b[0m in \u001b[0;36m<module>\u001b[1;34m\u001b[0m\n\u001b[0;32m      1\u001b[0m \u001b[1;31m# routines from class  for generating 2nd order sparse second derivative operator and RHS vector\u001b[0m\u001b[1;33m\u001b[0m\u001b[1;33m\u001b[0m\u001b[0m\n\u001b[0;32m      2\u001b[0m \u001b[1;33m\u001b[0m\u001b[0m\n\u001b[1;32m----> 3\u001b[1;33m \u001b[1;32mfrom\u001b[0m \u001b[0mfdcoeffV\u001b[0m \u001b[1;32mimport\u001b[0m \u001b[0mfdcoeffV\u001b[0m\u001b[1;33m\u001b[0m\u001b[1;33m\u001b[0m\u001b[0m\n\u001b[0m\u001b[0;32m      4\u001b[0m \u001b[1;32mfrom\u001b[0m \u001b[0mscipy\u001b[0m\u001b[1;33m.\u001b[0m\u001b[0msparse\u001b[0m \u001b[1;32mimport\u001b[0m \u001b[0mlil_matrix\u001b[0m\u001b[1;33m,\u001b[0m \u001b[0midentity\u001b[0m\u001b[1;33m,\u001b[0m \u001b[0mspdiags\u001b[0m\u001b[1;33m\u001b[0m\u001b[1;33m\u001b[0m\u001b[0m\n\u001b[0;32m      5\u001b[0m \u001b[1;32mfrom\u001b[0m \u001b[0mscipy\u001b[0m\u001b[1;33m.\u001b[0m\u001b[0msparse\u001b[0m\u001b[1;33m.\u001b[0m\u001b[0mlinalg\u001b[0m \u001b[1;32mimport\u001b[0m \u001b[0mspsolve\u001b[0m\u001b[1;33m\u001b[0m\u001b[1;33m\u001b[0m\u001b[0m\n",
      "\u001b[1;31mModuleNotFoundError\u001b[0m: No module named 'fdcoeffV'"
     ]
    }
   ],
   "source": [
    "# routines from class  for generating 2nd order sparse second derivative operator and RHS vector\n",
    "\n",
    "from fdcoeffV import fdcoeffV\n",
    "from scipy.sparse import lil_matrix, identity, spdiags\n",
    "from scipy.sparse.linalg import spsolve\n",
    "\n",
    "def D2(x,bcs=['dirichlet', 'dirichlet']):\n",
    "    \"\"\"  \n",
    "        Assemble a general sparse second-order finite-difference approximation to d/dx^2 on a possibly irregular mesh\n",
    "        First and last rows are set by string bcs\n",
    "        \n",
    "        parameters:\n",
    "        -----------\n",
    "        x: numpy.array\n",
    "            mesh coordinates\n",
    "        bcs: list of strings for boundary conditions e.g [left_string, right_string] where\n",
    "            the strings can be either 'dirichlet' or 'neumann'\n",
    "    \"\"\"\n",
    "    N = len(x)\n",
    "    A = lil_matrix((N,N))\n",
    "    if bcs[0] == 'dirichlet':\n",
    "        A[0,0] = 1.\n",
    "    elif bcs[0] == 'neumann':\n",
    "        A[0,0:3] = fdcoeffV(1,x[0],x[:3])\n",
    "    else:\n",
    "        raise ValueError('no known BC type for left boundary {}'.format(bcs[0]))\n",
    "        \n",
    "    if bcs[1] == 'dirichlet':\n",
    "        A[-1,-1] = 1.\n",
    "    elif bcs[1] == 'neumann':\n",
    "        A[-1,-3:] = fdcoeffV(1,x[-1],x[-3:])\n",
    "    else:\n",
    "        raise ValueError('no known BC type for right boundary {}'.format(bcs[1]))\n",
    "        \n",
    "    for i in range(1,N-1):\n",
    "        A[i, i-1:i+2] = fdcoeffV(2, x[i], x[i-1:i+2] )        \n",
    "    return A.tocsr()\n",
    "\n",
    "def RHS(x, f, bvalues):\n",
    "    \"\"\" Set the rhs vector\n",
    "    \n",
    "        parameters\n",
    "        ----------\n",
    "        x: numpy.array\n",
    "            mesh coordinates\n",
    "        f: callable\n",
    "            rhs function for interior points called on f(x[1:-2])\n",
    "        bvalues:  numpy.array (len 2)\n",
    "            values for boundary conditions (either dirichlet or neumann)        \n",
    "    \"\"\"\n",
    "    \n",
    "    N = len(x)\n",
    "    rhs = numpy.empty(N)\n",
    "    rhs[[0, N-1]] = bvalues\n",
    "    rhs[1:-1] = f(x[1:-1])\n",
    "    \n",
    "    return rhs\n",
    "    "
   ]
  },
  {
   "cell_type": "markdown",
   "metadata": {
    "deletable": false,
    "editable": false,
    "nbgrader": {
     "cell_type": "markdown",
     "checksum": "e809927a123befde771a8fc4ba8aae3a",
     "grade": false,
     "grade_id": "cell-ca2ebfc8a33b923b",
     "locked": true,
     "schema_version": 3,
     "solution": false,
     "task": false
    }
   },
   "source": [
    "Create a well-labeled convergence plot showing the relative error \n",
    "\n",
    "$$\n",
    "    e_{rel} = \\frac{|| u - u_{true} ||}{||u_{true}||}\n",
    "$$\n",
    "\n",
    "as a function of grid spacing $\\Delta x$\n",
    "\n",
    "This plot should calculate and show\n",
    "\n",
    "* rate of convergence of error (i.e. find $p$ such that $e_{rel}\\propto \\Delta x^p$)\n",
    "* an estimate of the  number of grid points $N$ required for the relative error to be $\\leq 10^{-6}$\n",
    "* the relative error at this smallest mesh spacing"
   ]
  },
  {
   "cell_type": "code",
   "execution_count": null,
   "metadata": {
    "deletable": false,
    "nbgrader": {
     "cell_type": "code",
     "checksum": "ae206c5903e9bc11ca137d8e420b6fc8",
     "grade": true,
     "grade_id": "cell-7cd66462aa6317ed",
     "locked": false,
     "points": 6,
     "schema_version": 3,
     "solution": true,
     "task": false
    }
   },
   "outputs": [],
   "source": [
    "# Function to compute the relative error\n",
    "def relative_error_safe(u_fd, u_exact):\n",
    "    \"\"\"\n",
    "    Compute the relative error while ensuring numerical stability.\n",
    "    \"\"\"\n",
    "    norm_exact = numpy.linalg.norm(u_exact)\n",
    "    if norm_exact == 0:\n",
    "        return numpy.inf  # Avoid division by zero\n",
    "    return numpy.linalg.norm(u_fd - u_exact) / norm_exact\n",
    "\n",
    "# Reset error tracking variables\n",
    "grid_sizes = [10, 20, 40, 80, 160, 320]\n",
    "errors = []\n",
    "dx_values = []\n",
    "\n",
    "# Perform the convergence analysis\n",
    "for N in grid_sizes:\n",
    "    x = numpy.linspace(0, L, N)\n",
    "    dx = x[1] - x[0]\n",
    "    dx_values.append(dx)\n",
    "    \n",
    "    # Assemble matrix and RHS\n",
    "    A = D2(x, bcs=['dirichlet', 'dirichlet']) + spdiags([1], [0], len(x), len(x))\n",
    "    rhs = RHS(x, f, [0, 0])\n",
    "    \n",
    "    # Solve using finite difference method\n",
    "    u_fd = spsolve(A, rhs)\n",
    "    \n",
    "    # Compute true solution for the same grid\n",
    "    u_exact = u_true(x, L)\n",
    "    \n",
    "    # Compute and store relative error safely\n",
    "    errors.append(relative_error_safe(u_fd, u_exact))\n",
    "\n",
    "# Convert errors and dx_values to numpy arrays for safe numerical operations\n",
    "errors = numpy.array(errors)\n",
    "dx_values = numpy.array(dx_values)\n",
    "\n",
    "# Filter out invalid or non-finite errors\n",
    "valid_indices = numpy.isfinite(errors)\n",
    "dx_values = dx_values[valid_indices]\n",
    "errors = errors[valid_indices]\n",
    "\n",
    "# Compute rate of convergence\n",
    "if len(errors) > 1:  # Ensure sufficient data for fitting\n",
    "    dx_log = numpy.log(dx_values)\n",
    "    errors_log = numpy.log(errors)\n",
    "    p = numpy.polyfit(dx_log, errors_log, 1)[0]  # Slope gives the rate of convergence\n",
    "\n",
    "    # Estimate N for relative error <= 1e-6\n",
    "    target_error = 1e-6\n",
    "    estimated_dx = dx_values[0] * (target_error / errors[0]) ** (1 / p)\n",
    "    estimated_N = int(numpy.ceil(L / estimated_dx))\n",
    "\n",
    "    # Recompute relative error for this estimated N\n",
    "    x_fine = numpy.linspace(0, L, estimated_N)\n",
    "    A_fine = D2(x_fine, bcs=['dirichlet', 'dirichlet']) + spdiags([1], [0], len(x_fine), len(x_fine))\n",
    "    rhs_fine = RHS(x_fine, f, [0, 0])\n",
    "    u_fd_fine = spsolve(A_fine, RHS(x_fine, f, [0, 0]))\n",
    "    u_exact_fine = u_true(x_fine, L)\n",
    "    error_fine = relative_error_safe(u_fd_fine, u_exact_fine)\n",
    "\n",
    "    # Plot convergence\n",
    "    plt.figure(figsize=(10, 6))\n",
    "    plt.loglog(dx_values, errors, 'o-', label=\"Relative Error\")\n",
    "    plt.loglog(dx_values, [errors[0] * (dx / dx_values[0])**p for dx in dx_values], '--', label=f\"Convergence Rate: {p:.2f}\")\n",
    "    plt.axhline(target_error, color='r', linestyle='--', label=f\"Target Error: {target_error}\")\n",
    "    plt.xlabel(\"Grid Spacing (Δx)\")\n",
    "    plt.ylabel(\"Relative Error\")\n",
    "    plt.title(\"Convergence of Relative Error with Grid Spacing\")\n",
    "    plt.grid(True, which=\"both\", linestyle=\"--\")\n",
    "    plt.legend()\n",
    "    plt.show()\n",
    "\n",
    "    # Output results\n",
    "    p, estimated_N, error_fine\n",
    "else:\n",
    "    print(\"Insufficient valid data points for convergence analysis.\")\n"
   ]
  },
  {
   "cell_type": "markdown",
   "metadata": {
    "deletable": false,
    "editable": false,
    "nbgrader": {
     "cell_type": "markdown",
     "checksum": "1440d1fde90a7306e787735c1341406e",
     "grade": false,
     "grade_id": "cell-99a38b15c1ba164b",
     "locked": true,
     "schema_version": 3,
     "solution": false,
     "task": false
    }
   },
   "source": [
    "### Some themes and variations\n",
    "\n",
    "This is meant to be a short problem set, but there are many other things to try if you are interested.\n",
    "\n",
    "* Try this problem using Galerkin Finite Elements.  \n",
    "* Try modifying the matrices to use higher order Finite difference schemes (i.e. 4th order schemes)\n",
    "* Compare timing between Finite Difference and shooting schemes for the same order of accuracy\n"
   ]
  },
  {
   "cell_type": "markdown",
   "metadata": {
    "deletable": false,
    "editable": false,
    "nbgrader": {
     "cell_type": "markdown",
     "checksum": "07faa06e92dc3a502eeaa5a4488fc2b3",
     "grade": false,
     "grade_id": "cell-c54586fa263cc449",
     "locked": true,
     "schema_version": 3,
     "solution": false,
     "task": false
    }
   },
   "source": [
    "## Extra credit - Non-Linear Fun\n",
    "\n",
    "try to solve the related  **non-linear** 2-point boundary value problem\n",
    "\n",
    "$$\n",
    "u^{\\prime\\prime}+\\sin(u)=\\sin(3x),\\quad x\\in[0,10],\\quad u(0)=u(10)=0\n",
    "$$\n",
    "\n",
    "using  finite-difference plus Newton's method. For convenience, I've added the Newton Solver for sparse jacobians from the notes"
   ]
  },
  {
   "cell_type": "code",
   "execution_count": 11,
   "metadata": {},
   "outputs": [],
   "source": [
    "# a Newton Solver for sparse matrices\n",
    "def newton(F,J,x0,tol=1.e-6,MAX_ITS=100,verbose=True):\n",
    "    \"\"\" Solve F(x) = 0 using Newton's method until ||F(x)|| < tol or reaches Max iterations\n",
    "    \n",
    "    Params:\n",
    "    -------\n",
    "        F: calleable: \n",
    "            Function returning residual F(x)\n",
    "        J: calleable\n",
    "            Function returning Jacobian J(x)\n",
    "        tol: float\n",
    "            stopping criteria for ||F|| < tol\n",
    "        MAX_ITS: integer\n",
    "            maximum number of iterations\n",
    "        verbose: bool\n",
    "            if true spits out norm of the residual at each iteration\n",
    "            \n",
    "    Returns:\n",
    "    --------\n",
    "        x: numpy.array\n",
    "            solution\n",
    "        k: int\n",
    "            number of iterations\n",
    "    \n",
    "    Raises:\n",
    "    -----------\n",
    "        ValueError if number of its exceeds MAX_ITS\n",
    "        \n",
    "    \"\"\"\n",
    "    x = x0 \n",
    "    for k in range(MAX_ITS+1):\n",
    "        res = numpy.linalg.norm(F(x))\n",
    "        if verbose:\n",
    "            print('k = {}, ||F|| = {}'.format(k,res))\n",
    "        if res < tol: \n",
    "            return x, k\n",
    "        delta = spsolve(J(x),-F(x))\n",
    "        x += delta\n",
    "        \n",
    "    raise ValueError('Maximum number of iterations exceeded {}'.format(MAX_ITS))"
   ]
  },
  {
   "cell_type": "markdown",
   "metadata": {
    "deletable": false,
    "editable": false,
    "nbgrader": {
     "cell_type": "markdown",
     "checksum": "06a0d4ab391c3a25323c9a92debaea77",
     "grade": false,
     "grade_id": "cell-dd9d7792263258d8",
     "locked": true,
     "schema_version": 3,
     "solution": false,
     "task": false
    }
   },
   "source": [
    "**(a)** [4 pt]  Solve the problem for an initial guess\n",
    "$u_0=0$. For this problem you will need to\n",
    "\n",
    "* create a function to return the residual $\\mathbf{F}(\\mathbf{u})$\n",
    "* create a function to return the Jacobian $J(\\mathbf{u})$\n",
    "* use `verbose=True` to see the convergence behavior of Newton\n",
    "* produce a plot showing the solution and labeled with the number of newton iterations and final residual norm $||\\mathbf{F}(\\mathbf{u})||$\n",
    "\n",
    "**Note:**  To choose a reasonable number of grid points, use your results from Question 1 and choose a mesh size such that the linear problem returns a relative error $< 10^{-3}$"
   ]
  },
  {
   "cell_type": "code",
   "execution_count": null,
   "metadata": {
    "deletable": false,
    "nbgrader": {
     "cell_type": "code",
     "checksum": "b2950c14292e4408b70ab09c692585be",
     "grade": true,
     "grade_id": "cell-1ca065b824f2cbb0",
     "locked": false,
     "points": 0,
     "schema_version": 3,
     "solution": true,
     "task": false
    }
   },
   "outputs": [],
   "source": [
    "# YOUR CODE HERE\n",
    "raise NotImplementedError()"
   ]
  },
  {
   "cell_type": "markdown",
   "metadata": {
    "deletable": false,
    "editable": false,
    "nbgrader": {
     "cell_type": "markdown",
     "checksum": "68a421cae08541a106a3f77786fd669c",
     "grade": false,
     "grade_id": "cell-273021c1878d0b00",
     "locked": true,
     "schema_version": 3,
     "solution": false,
     "task": false
    }
   },
   "source": [
    "**(b)**  Is your solution unique?  Try starting newton from different\n",
    "  periodic initial conditions \n",
    "  \n",
    "  $$\n",
    "      u_0(x) = \\sin\\left[\\frac{n\\pi x}{L}\\right]\n",
    "  $$ \n",
    "  \n",
    "  for $n\\in[0,6]$ that all satisfy the homogeneous boundary conditions. \n",
    "  \n",
    "  Make two plots. \n",
    "  \n",
    "  1. The first shows solutions for different values of $n$\n",
    "  1. The second plots the residual $\\mathbf{F}(\\mathbf{u})$ to show that at least the discrete ODE is satisfied\n",
    "  \n",
    " Welcome to the wonderful world of non-linear equations. Can you find any other solutions?"
   ]
  },
  {
   "cell_type": "code",
   "execution_count": null,
   "metadata": {
    "deletable": false,
    "nbgrader": {
     "cell_type": "code",
     "checksum": "c3da4637344b5883ea7f1ef61c024f06",
     "grade": true,
     "grade_id": "cell-9c688399c72e251a",
     "locked": false,
     "points": 0,
     "schema_version": 3,
     "solution": true,
     "task": false
    }
   },
   "outputs": [],
   "source": [
    "# YOUR CODE HERE\n",
    "raise NotImplementedError()"
   ]
  },
  {
   "cell_type": "markdown",
   "metadata": {
    "deletable": false,
    "editable": false,
    "nbgrader": {
     "cell_type": "markdown",
     "checksum": "9314d25abc2055783143bcea7e2ff106",
     "grade": false,
     "grade_id": "cell-6c6b18dc3ded9f8a",
     "locked": true,
     "schema_version": 3,
     "solution": false,
     "task": false
    }
   },
   "source": [
    "### Extra Fun\n",
    "\n",
    "Use your shooting routines to systematically search for non-linear solutions to this BVP problem by varying the initial guess for the initial slope $u'(0)$. How many solutions can you find?"
   ]
  },
  {
   "cell_type": "markdown",
   "metadata": {
    "deletable": false,
    "editable": false,
    "nbgrader": {
     "cell_type": "markdown",
     "checksum": "87682ea0a1aa291a5bfea3b80197f500",
     "grade": false,
     "grade_id": "cell-a2bd5c71ec4e85a0",
     "locked": true,
     "schema_version": 3,
     "solution": false,
     "task": false
    }
   },
   "source": [
    "## Question 2: Conditioning and LU factorization\n",
    "\n",
    "Consider the two identical linear problems $A\\mathbf{x}=\\bf{b}$\n",
    "\n",
    "$$\n",
    "    \\begin{bmatrix} \\epsilon & 1 \\\\ 1 & 1 \\\\ \\end{bmatrix}\\mathbf{x}=\\begin{bmatrix} 1\\\\ 2\\end{bmatrix} \\quad\\quad\n",
    "     \\begin{bmatrix} 1 & 1 \\\\\\epsilon & 1 \\\\ \\end{bmatrix}\\mathbf{x}=\\begin{bmatrix} 2\\\\ 1\\end{bmatrix} \n",
    "$$\n",
    "where $\\epsilon \\ll \\epsilon_{mach}$"
   ]
  },
  {
   "cell_type": "markdown",
   "metadata": {
    "deletable": false,
    "editable": false,
    "nbgrader": {
     "cell_type": "markdown",
     "checksum": "bd342a5608e9a22a9b3fa7e3e7c1eb41",
     "grade": false,
     "grade_id": "cell-31be8f00437b77a1",
     "locked": true,
     "schema_version": 3,
     "solution": false,
     "task": false
    }
   },
   "source": [
    "**(a)**  [6 pts] Find the 1 condition number of both matrices. Are they the same?  Are these matrices well conditioned? Check your answer using numpy with $\\epsilon = 0.1\\epsilon_{mach}$"
   ]
  },
  {
   "cell_type": "markdown",
   "metadata": {
    "deletable": false,
    "nbgrader": {
     "cell_type": "markdown",
     "checksum": "5c3503fe2075b06fa209427e203f55af",
     "grade": true,
     "grade_id": "cell-9542ffe5406ff1b0",
     "locked": false,
     "points": 4,
     "schema_version": 3,
     "solution": true,
     "task": false
    }
   },
   "source": [
    "YOUR ANSWER HERE"
   ]
  },
  {
   "cell_type": "code",
   "execution_count": null,
   "metadata": {
    "deletable": false,
    "nbgrader": {
     "cell_type": "code",
     "checksum": "3af61dc4665c547b4673bcb8f6b91ed3",
     "grade": true,
     "grade_id": "cell-181ffe64ba6d6da9",
     "locked": false,
     "points": 4,
     "schema_version": 3,
     "solution": true,
     "task": false
    }
   },
   "outputs": [],
   "source": [
    "# YOUR CODE HERE\n",
    "raise NotImplementedError()"
   ]
  },
  {
   "cell_type": "markdown",
   "metadata": {
    "deletable": false,
    "editable": false,
    "nbgrader": {
     "cell_type": "markdown",
     "checksum": "c16734adc64e5decc9d199304704c60c",
     "grade": false,
     "grade_id": "cell-99a00acc6c2807b3",
     "locked": true,
     "schema_version": 3,
     "solution": false,
     "task": false
    }
   },
   "source": [
    "**(b)**  [4 pts] Find the analytic solution to both problems in infinite precision.  Are they the same?"
   ]
  },
  {
   "cell_type": "markdown",
   "metadata": {
    "deletable": false,
    "nbgrader": {
     "cell_type": "markdown",
     "checksum": "92e0bc60ab46d81e9b901752e3dd7e7f",
     "grade": true,
     "grade_id": "cell-d1e6bd2f0de0c26a",
     "locked": false,
     "points": 4,
     "schema_version": 3,
     "solution": true,
     "task": false
    }
   },
   "source": [
    "YOUR ANSWER HERE"
   ]
  },
  {
   "cell_type": "markdown",
   "metadata": {
    "deletable": false,
    "editable": false,
    "nbgrader": {
     "cell_type": "markdown",
     "checksum": "d57826b5c563604e26bdc55041b1d8d5",
     "grade": false,
     "grade_id": "cell-dda67ae09afc38e3",
     "locked": true,
     "schema_version": 3,
     "solution": false,
     "task": false
    }
   },
   "source": [
    "**(c)**  [4 pts] Now solve both problems analytically using the $LU$ decomposition *without pivoting* but applying the rules of floating point math.  Do you get the same answer?  "
   ]
  },
  {
   "cell_type": "markdown",
   "metadata": {
    "deletable": false,
    "nbgrader": {
     "cell_type": "markdown",
     "checksum": "e9adebf2b616e32019f65ec4e952ca9b",
     "grade": true,
     "grade_id": "cell-723e6be1e457eb88",
     "locked": false,
     "points": 4,
     "schema_version": 3,
     "solution": true,
     "task": false
    }
   },
   "source": [
    "YOUR ANSWER HERE"
   ]
  },
  {
   "cell_type": "markdown",
   "metadata": {
    "deletable": false,
    "editable": false,
    "nbgrader": {
     "cell_type": "markdown",
     "checksum": "954c9ee1153e1bd36d02b1cb5372a371",
     "grade": false,
     "grade_id": "cell-ffd6d136e91fa781",
     "locked": true,
     "schema_version": 3,
     "solution": false,
     "task": false
    }
   },
   "source": [
    "**(d)**  [6 pts] Check your solutions using numpy.  \n",
    "\n",
    "For each problem \n",
    "* Calculate the solution using $L\\mathbf{c}=\\mathbf{b}$, $U\\mathbf{x}=\\mathbf{c}$ for each pair of $L,U$ derived above (you can use numpy here with $\\epsilon=0.1\\epsilon_{mach}$)\n",
    "* Calculate the 1-condition number for each $L$ and $U$ \n",
    "\n",
    "Briefly explain these results\n"
   ]
  },
  {
   "cell_type": "code",
   "execution_count": null,
   "metadata": {
    "deletable": false,
    "nbgrader": {
     "cell_type": "code",
     "checksum": "a4f1846b32914e34e6eb6b0ffc91cc2a",
     "grade": true,
     "grade_id": "cell-b9556230cda268c0",
     "locked": false,
     "points": 4,
     "schema_version": 3,
     "solution": true,
     "task": false
    }
   },
   "outputs": [],
   "source": [
    "# YOUR CODE HERE\n",
    "raise NotImplementedError()"
   ]
  },
  {
   "cell_type": "markdown",
   "metadata": {
    "deletable": false,
    "nbgrader": {
     "cell_type": "markdown",
     "checksum": "e2da2adcd2087c495e95af7810c346bc",
     "grade": true,
     "grade_id": "cell-b594cbed266f2b18",
     "locked": false,
     "points": 2,
     "schema_version": 3,
     "solution": true,
     "task": false
    }
   },
   "source": [
    "YOUR ANSWER HERE"
   ]
  }
 ],
 "metadata": {
  "kernelspec": {
   "display_name": "base",
   "language": "python",
   "name": "python3"
  },
  "language_info": {
   "codemirror_mode": {
    "name": "ipython",
    "version": 3
   },
   "file_extension": ".py",
   "mimetype": "text/x-python",
   "name": "python",
   "nbconvert_exporter": "python",
   "pygments_lexer": "ipython3",
   "version": "3.9.13"
  },
  "latex_envs": {
   "bibliofile": "biblio.bib",
   "cite_by": "apalike",
   "current_citInitial": 1,
   "eqLabelWithNumbers": true,
   "eqNumInitial": 0
  }
 },
 "nbformat": 4,
 "nbformat_minor": 4
}
