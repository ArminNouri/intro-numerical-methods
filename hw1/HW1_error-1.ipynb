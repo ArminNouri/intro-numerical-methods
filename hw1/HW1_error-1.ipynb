{
 "cells": [
  {
   "cell_type": "code",
   "execution_count": 2,
   "metadata": {
    "deletable": false,
    "editable": false,
    "nbgrader": {
     "cell_type": "code",
     "checksum": "3c0e6f80c9a8d85d80baddc8df3890a0",
     "grade": false,
     "grade_id": "cell-7531378247537850",
     "locked": true,
     "schema_version": 3,
     "solution": false
    }
   },
   "outputs": [],
   "source": [
    "from __future__ import print_function\n",
    "%matplotlib inline\n",
    "import numpy\n",
    "import matplotlib.pyplot as plt\n",
    "\n",
    "# import the factorial function from scipy\n",
    "from scipy.special import factorial"
   ]
  },
  {
   "cell_type": "markdown",
   "metadata": {
    "deletable": false,
    "editable": false,
    "nbgrader": {
     "cell_type": "markdown",
     "checksum": "57fe3d1a770d32fc71d10c52d47d5765",
     "grade": false,
     "grade_id": "cell-1055125360070174",
     "locked": true,
     "schema_version": 3,
     "solution": false
    }
   },
   "source": [
    "# HW 1:  Forms of Error\n",
    "\n"
   ]
  },
  {
   "cell_type": "markdown",
   "metadata": {
    "deletable": false,
    "editable": false,
    "nbgrader": {
     "cell_type": "markdown",
     "checksum": "763bdcd61a173c57e8d82dcd9519ee2c",
     "grade": false,
     "grade_id": "cell-9681214437904696",
     "locked": true,
     "schema_version": 3,
     "solution": false
    }
   },
   "source": [
    "## Question 1:  definition of errors\n",
    "\n",
    "**(a)**  [4 pts] Write a short python program to calculate and return, the absolute error, relative error and degree of decimal precision (as defined in class) given an object `f` and its approximation `F`.  Note, both `f` and `F` can be numpy arrays."
   ]
  },
  {
   "cell_type": "code",
   "execution_count": 3,
   "metadata": {
    "deletable": false,
    "nbgrader": {
     "cell_type": "code",
     "checksum": "7c9bcb87e713e8ee4fb90ec822ed4d9f",
     "grade": false,
     "grade_id": "cell-a6ede65cf8ed685f",
     "locked": false,
     "schema_version": 3,
     "solution": true,
     "task": false
    }
   },
   "outputs": [],
   "source": [
    "def errors(f,F):\n",
    "    \"\"\" calculate various measures of error of an object f and its approximation F\n",
    "    \n",
    "    Parameters\n",
    "    ----------\n",
    "    f:  numpy.array (or float)\n",
    "        array of true values\n",
    "        \n",
    "    F: numpy.array\n",
    "        array of approximate values\n",
    "        \n",
    "    Returns\n",
    "    -------\n",
    "    \n",
    "    e: array of absolute errors\n",
    "    r: array of relative errors\n",
    "    p: integer array of precisions\n",
    "    \"\"\"\n",
    "    \n",
    "    # Calculate absolute errors: |f - F|\n",
    "    e = numpy.abs(f - F)\n",
    "    \n",
    "    # Calculate relative errors: |f - F| / |f|\n",
    "    epsilon = numpy.finfo(float).eps\n",
    "    r = numpy.abs(e / (numpy.abs(f) + epsilon))\n",
    "    \n",
    "    # Calculate precision, rounded to the nearest decimal place\n",
    "    with numpy.errstate(divide='ignore', invalid='ignore'):\n",
    "        p = numpy.round(-numpy.log10(r + epsilon)).astype(int)\n",
    "    \n",
    "    return e, r, p\n",
    "\n"
   ]
  },
  {
   "cell_type": "code",
   "execution_count": 4,
   "metadata": {
    "deletable": false,
    "editable": false,
    "nbgrader": {
     "cell_type": "code",
     "checksum": "f4295c880e6563c035f2e1176010b834",
     "grade": true,
     "grade_id": "cell-da2659b413c73ca7",
     "locked": true,
     "points": 4,
     "schema_version": 3,
     "solution": false,
     "task": false
    }
   },
   "outputs": [
    {
     "name": "stdout",
     "output_type": "stream",
     "text": [
      "passed scalar test\n",
      "passed array test\n"
     ]
    }
   ],
   "source": [
    "# Testing Cell (do not copy)\n",
    "\n",
    "# Test Simple Scalars\n",
    "e,r,p = errors(numpy.exp(1),2.72)\n",
    "answer = [0.0017181715409551046, 0.0006320799863232398, 3]\n",
    "numpy.testing.assert_allclose([e,r,p], answer)\n",
    "print('passed scalar test')\n",
    "\n",
    "# Test with array inumpyut\n",
    "x = [1., 2., 3.]\n",
    "f = numpy.exp(x)\n",
    "F = [ 2.718,  7.389,  20.085]\n",
    "e,r,p = errors(f,F)\n",
    "numpy.testing.assert_allclose(e,[2.81828459e-04, 5.60989307e-05, 5.36923188e-04])\n",
    "numpy.testing.assert_allclose(r,[1.03678896e-04, 7.59216467e-06, 2.67318315e-05])\n",
    "numpy.testing.assert_allclose(p,[4, 5, 5])\n",
    "print('passed array test')"
   ]
  },
  {
   "cell_type": "markdown",
   "metadata": {
    "deletable": false,
    "editable": false,
    "nbgrader": {
     "cell_type": "markdown",
     "checksum": "39ee29a6b36ec47d40b72b71b941b0f2",
     "grade": false,
     "grade_id": "cell-bef4e3baf992ed93",
     "locked": true,
     "schema_version": 3,
     "solution": false,
     "task": false
    }
   },
   "source": [
    "**(b)** [2 pts]  Use your routine to compare the absolute error, relative error and degree of precision for these two rational approximations of $\\pi$\n",
    "\n",
    "* $f = \\pi$ and $F = 22 / 7$\n",
    "* $f = \\pi$ and $F = 355 / 113$\n",
    "\n",
    "Which is more accurate?"
   ]
  },
  {
   "cell_type": "code",
   "execution_count": 5,
   "metadata": {},
   "outputs": [
    {
     "name": "stdout",
     "output_type": "stream",
     "text": [
      "Errors for 22/7 approximation:\n",
      "Absolute error: 0.0012644892673496777\n",
      "Relative error: 0.0004024994347707008\n",
      "Precision: 3 decimal places\n",
      "\n",
      "Errors for 355/113 approximation:\n",
      "Absolute error: 2.667641894049666e-07\n",
      "Relative error: 8.49136787674061e-08\n",
      "Precision: 7 decimal places\n"
     ]
    }
   ],
   "source": [
    "# you can put some working code here to generate your answers, but put your answers in the cell below\n",
    "# Define the true value of pi and the two rational approximations\n",
    "f = numpy.pi\n",
    "F1 = 22 / 7\n",
    "F2 = 355 / 113\n",
    "\n",
    "# Calculate errors for the first approximation (22/7)\n",
    "e1, r1, p1 = errors(f, F1)\n",
    "\n",
    "# Calculate errors for the second approximation (355/113)\n",
    "e2, r2, p2 = errors(f, F2)\n",
    "\n",
    "# Print the results\n",
    "print(f\"Errors for 22/7 approximation:\")\n",
    "print(f\"Absolute error: {e1}\")\n",
    "print(f\"Relative error: {r1}\")\n",
    "print(f\"Precision: {p1} decimal places\\n\")\n",
    "\n",
    "print(f\"Errors for 355/113 approximation:\")\n",
    "print(f\"Absolute error: {e2}\")\n",
    "print(f\"Relative error: {r2}\")\n",
    "print(f\"Precision: {p2} decimal places\")"
   ]
  },
  {
   "cell_type": "markdown",
   "metadata": {
    "deletable": false,
    "nbgrader": {
     "cell_type": "markdown",
     "checksum": "21b09b84adbced5a47c2142e0d7a29cd",
     "grade": true,
     "grade_id": "cell-4300360216304258",
     "locked": false,
     "points": 2,
     "schema_version": 3,
     "solution": true
    }
   },
   "source": [
    "### Comparison of Rational Approximations for π\n",
    "\n",
    "Absolute error, relative error, and degree of precision for two rational approximations of π:\n",
    "\n",
    "1. $f = \\pi$ and $F = \\frac{22}{7}$\n",
    "2. $f = \\pi$ and $F = \\frac{355}{113}$\n",
    "\n",
    "#### Results:\n",
    "\n",
    "**For $\\frac{22}{7}$:**\n",
    "- Absolute error: 0.00126\n",
    "- Relative error: $4.02 \\times 10^{-4}$\n",
    "- Precision: **3 decimal places**\n",
    "\n",
    "**For $\\frac{355}{113}$:**\n",
    "- Absolute error: $2.67 \\times 10^{-7}$\n",
    "- Relative error: $8.49 \\times 10^{-8}$\n",
    "- Precision: **7 decimal places**\n",
    "\n",
    "#### Conclusion:\n",
    "The approximation $\\frac{355}{113}$ is **much more accurate** than $\\frac{22}{7}$, with a much smaller absolute and relative error, and a higher precision of **7 decimal places** compared to just **3 decimal places** for $\\frac{22}{7}$.\n"
   ]
  },
  {
   "cell_type": "markdown",
   "metadata": {
    "deletable": false,
    "editable": false,
    "nbgrader": {
     "cell_type": "markdown",
     "checksum": "b5a1a21715793f4a9cd1d22da3c6fbd5",
     "grade": false,
     "grade_id": "cell-300ca517618db367",
     "locked": true,
     "schema_version": 3,
     "solution": false,
     "task": false
    }
   },
   "source": [
    "**(c)** [6 pts] Write a python routine to find the most accurate $d$ digit rational approximation to $\\pi$. i.e. find\n",
    "two $d$ digit positive integers $m,n$ such that \n",
    "\n",
    "$$ F = \\frac{m}{n} \\sim \\pi$$\n",
    "\n",
    "(hint:  $355/113$ is the best 3-digit rational approximation)"
   ]
  },
  {
   "cell_type": "code",
   "execution_count": 6,
   "metadata": {
    "deletable": false,
    "nbgrader": {
     "cell_type": "code",
     "checksum": "2fad6f779f0e38180756be9962ecfdda",
     "grade": false,
     "grade_id": "cell-4b8290252c936eec",
     "locked": false,
     "schema_version": 3,
     "solution": true,
     "task": false
    }
   },
   "outputs": [],
   "source": [
    "def rational_pi(d):\n",
    "    ''' Find the best rational approximation to pi ~ m/n where m and n are both d-digit positive integers\n",
    "    \n",
    "    Parameters\n",
    "    ----------\n",
    "    \n",
    "    d: int\n",
    "        number of digits in both m and n\n",
    "    \n",
    "    Returns\n",
    "    -------\n",
    "    m, n: int\n",
    "        numerator and denominator of best d-digit rational approximation to pi ~ m/n\n",
    "    '''\n",
    "    \n",
    "    # Set the range for d-digit integers: [10^(d-1), 10^d - 1]\n",
    "    lower_bound = 10**(d-1)\n",
    "    upper_bound = 10**d - 1\n",
    "    \n",
    "    # Initialize the best approximation and smallest error\n",
    "    best_m, best_n = None, None\n",
    "    smallest_error = float('inf')\n",
    "    \n",
    "    # Iterate over all possible values of n (denominator) in the d-digit range\n",
    "    for n in range(lower_bound, upper_bound + 1):\n",
    "        # Find the closest integer m (numerator) for this n\n",
    "        m = round(numpy.pi * n)\n",
    "        \n",
    "        # Ensure that m is also within the d-digit range\n",
    "        if lower_bound <= m <= upper_bound:\n",
    "            # Calculate the approximation error |pi - m/n|\n",
    "            error = abs(numpy.pi - (m / n))\n",
    "            \n",
    "            # Update the best (m, n) if this error is the smallest so far\n",
    "            if error < smallest_error:\n",
    "                best_m, best_n = m, n\n",
    "                smallest_error = error\n",
    "    \n",
    "    return best_m, best_n"
   ]
  },
  {
   "cell_type": "code",
   "execution_count": 7,
   "metadata": {
    "deletable": false,
    "editable": false,
    "nbgrader": {
     "cell_type": "code",
     "checksum": "29119ccc9d740a4e6317ed3dc57f6657",
     "grade": true,
     "grade_id": "cell-6568ef410973a577",
     "locked": true,
     "points": 6,
     "schema_version": 3,
     "solution": false,
     "task": false
    }
   },
   "outputs": [
    {
     "name": "stdout",
     "output_type": "stream",
     "text": [
      "d=1: 3/1 = 3.0:\t e = 0.14159265358979312,\t, r = 0.04507034144862795,\t p= 1\n",
      "d=2: 44/14 = 3.142857142857143:\t e = 0.0012644892673496777,\t, r = 0.0004024994347707008,\t p= 3\n",
      "d=3: 355/113 = 3.1415929203539825:\t e = 2.667641894049666e-07,\t, r = 8.49136787674061e-08,\t p= 7\n",
      "d=4: 3195/1017 = 3.1415929203539825:\t e = 2.667641894049666e-07,\t, r = 8.49136787674061e-08,\t p= 7\n",
      "d=5: 99733/31746 = 3.1415926415926414:\t e = 1.1997151716514054e-08,\t, r = 3.818811997413258e-09,\t p= 8\n",
      "\n",
      "success!\n"
     ]
    }
   ],
   "source": [
    "# Testing Cell (do not copy)\n",
    "\n",
    "# print out best rational approximations and their errors  for d =1-5\n",
    "for d in range(1,6):\n",
    "    m,n = rational_pi(d)\n",
    "    e,r,p = errors(numpy.pi,m/n)\n",
    "    print('d={}: {}/{} = {}:\\t e = {},\\t, r = {},\\t p= {}'.format(d,m,n,m/n,e,r,p))\n",
    "    \n",
    "# Run assertion Tests\n",
    "numpy.testing.assert_allclose(rational_pi(2),(44, 14))\n",
    "numpy.testing.assert_allclose(rational_pi(3),(355, 113))\n",
    "print('\\nsuccess!')\n"
   ]
  },
  {
   "cell_type": "markdown",
   "metadata": {
    "deletable": false,
    "editable": false,
    "nbgrader": {
     "cell_type": "markdown",
     "checksum": "cabe33a4165802a8de9d6c0d6b322917",
     "grade": false,
     "grade_id": "cell-23707a8e710ca676",
     "locked": true,
     "schema_version": 3,
     "solution": false,
     "task": false
    }
   },
   "source": [
    "**(d)** [6 pts] $F = n \\log(n) - n$ is Stirling's approximation to  $f = \\log(n!)$ for large values of $n$. \n",
    "Do the following\n",
    "\n",
    "* Make a plot showing the relative error and degree of decimal precision for $f$ and $F$ as a function of integer $n$\n",
    "\n",
    "* Estimate the smallest value of $n$ where Stirling's approximation is good to 4 decimal places of precision.  \n",
    "\n",
    "**Note**: If you use the `factorial` function imported from `scipy.special`, you will not be able to answer this question.  **Why?**  \n",
    "\n",
    "**Hint**: However there is another way to evaluate $\\log(n!)$ for integer $n$ that will work."
   ]
  },
  {
   "cell_type": "code",
   "execution_count": 8,
   "metadata": {
    "deletable": false,
    "nbgrader": {
     "cell_type": "code",
     "checksum": "6195fab472e4537966b7eba4a529a13b",
     "grade": true,
     "grade_id": "cell-a5639245c28a1642",
     "locked": false,
     "points": 4,
     "schema_version": 3,
     "solution": true,
     "task": false
    }
   },
   "outputs": [
    {
     "data": {
      "image/png": "[encoded data removed]",
      "text/plain": [
       "<Figure size 1000x600 with 1 Axes>"
      ]
     },
     "metadata": {},
     "output_type": "display_data"
    },
    {
     "data": {
      "image/png": "[encoded data removed]",
      "text/plain": [
       "<Figure size 1000x600 with 1 Axes>"
      ]
     },
     "metadata": {},
     "output_type": "display_data"
    },
    {
     "data": {
      "text/plain": [
       "6813"
      ]
     },
     "execution_count": 8,
     "metadata": {},
     "output_type": "execute_result"
    }
   ],
   "source": [
    "import math\n",
    "\n",
    "# Define Stirling's approximation and the exact log(n!)\n",
    "def stirling_approximation(n):\n",
    "    if n == 0:\n",
    "        return 0  # log(0!) is 0\n",
    "    return n * numpy.log(n) - n\n",
    "\n",
    "def exact_log_factorial(n):\n",
    "    return math.lgamma(n + 1)  # log(n!)\n",
    "\n",
    "# Extending the range to even larger values of n\n",
    "n_values_large = numpy.arange(1, 10001)  # Extend up to 10,000\n",
    "\n",
    "# Compute Stirling's approximation and exact values for the larger range\n",
    "F_values_large = numpy.array([stirling_approximation(n) for n in n_values_large])\n",
    "f_values_large = numpy.array([exact_log_factorial(n) for n in n_values_large])\n",
    "\n",
    "# Suggested by chatGPT\n",
    "# Set a small epsilon to avoid division by zero\n",
    "epsilon = 1e-10  # Small value to avoid division by zero\n",
    "\n",
    "# Suggested by chatGPT\n",
    "# Compute the relative error, replacing small values in the denominator with epsilon\n",
    "relative_error_large = numpy.abs(f_values_large - F_values_large) / numpy.where(f_values_large != 0, f_values_large, epsilon)\n",
    "\n",
    "# Recompute decimal precision after fixing the relative error computation\n",
    "decimal_precision_large = -numpy.log10(relative_error_large)\n",
    "\n",
    "# Avoid small values where relative error is not valid and filter infinities\n",
    "valid_large_indices = numpy.isfinite(relative_error_large) & (relative_error_large > 0)\n",
    "\n",
    "# Filter values for the larger range\n",
    "n_values_filtered_large = n_values_large[valid_large_indices]\n",
    "relative_error_filtered_large = relative_error_large[valid_large_indices]\n",
    "decimal_precision_filtered_large = decimal_precision_large[valid_large_indices]\n",
    "\n",
    "# Find the smallest n where Stirling's approximation is good to 4 decimal places\n",
    "n_good_approx_large = numpy.min(n_values_filtered_large[decimal_precision_filtered_large >= 4])\n",
    "\n",
    "# Plotting relative error (filtered for larger range)\n",
    "plt.figure(figsize=(10, 6))\n",
    "plt.plot(n_values_filtered_large, relative_error_filtered_large, label='Relative Error')\n",
    "plt.yscale('log')\n",
    "plt.xlabel('n')\n",
    "plt.ylabel('Relative Error (log scale)')\n",
    "plt.title('Relative Error between Stirling Approximation and Exact log(n!) (Large Range)')\n",
    "plt.grid(True)\n",
    "plt.legend()\n",
    "plt.show()\n",
    "\n",
    "# Plotting decimal precision (filtered for larger range)\n",
    "plt.figure(figsize=(10, 6))\n",
    "plt.plot(n_values_filtered_large, decimal_precision_filtered_large, label='Decimal Precision')\n",
    "plt.axhline(4, color='red', linestyle='--', label='4 Decimal Places')\n",
    "plt.xlabel('n')\n",
    "plt.ylabel('Decimal Precision')\n",
    "plt.title('Decimal Precision of Stirling Approximation (Large Range)')\n",
    "plt.grid(True)\n",
    "plt.legend()\n",
    "plt.show()\n",
    "\n",
    "# Display the smallest n where Stirling's approximation is good to 4 decimal places\n",
    "n_good_approx_large"
   ]
  },
  {
   "cell_type": "markdown",
   "metadata": {
    "deletable": false,
    "nbgrader": {
     "cell_type": "markdown",
     "checksum": "c6321f16c18ce03a19fd25289b7d8ab4",
     "grade": true,
     "grade_id": "cell-dcc45d9028355b73",
     "locked": false,
     "points": 2,
     "schema_version": 3,
     "solution": true,
     "task": false
    }
   },
   "source": [
    "YOUR ANSWER HERE"
   ]
  },
  {
   "cell_type": "markdown",
   "metadata": {
    "deletable": false,
    "editable": false,
    "nbgrader": {
     "cell_type": "markdown",
     "checksum": "27bfc8b15912bb6e1cdfa2dfd103ced4",
     "grade": false,
     "grade_id": "cell-6968179660613369",
     "locked": true,
     "schema_version": 3,
     "solution": false
    }
   },
   "source": [
    "## Question 2\n",
    "\n",
    "[4 pts] Given the Taylor polynomial expansions of two functions around $x=0$\n",
    "\n",
    "$$\\frac{1}{1-\\Delta x} = 1 + \\Delta x + \\Delta x^2 + \\Delta x^3 + O(\\Delta x^4)$$\n",
    "\n",
    "and\n",
    "\n",
    "$$\\cosh \\Delta x = 1 + \\frac{\\Delta x^2}{2!} + \\frac{\\Delta x^4}{4!} + O(\\Delta x^6)$$\n",
    "\n",
    "calculate their sum and product as well as the order of approximation for the truncation error (i.e. determine the exponent that belongs in the $O$).\n"
   ]
  },
  {
   "cell_type": "code",
   "execution_count": 14,
   "metadata": {},
   "outputs": [
    {
     "data": {
      "text/plain": [
       "(2 + dx + 3*dx**2/2 + dx**3 + O(dx**4),\n",
       " 1 + dx + 3*dx**2/2 + 3*dx**3/2 + O(dx**4))"
      ]
     },
     "execution_count": 14,
     "metadata": {},
     "output_type": "execute_result"
    }
   ],
   "source": [
    "from sympy import symbols, O\n",
    "\n",
    "# Define the variable for the series expansion\n",
    "dx = symbols('dx')\n",
    "\n",
    "# Define the Taylor expansions for the two functions\n",
    "f1 = 1 + dx + dx**2 + dx**3 + O(dx**4)\n",
    "f2 = 1 + dx**2/2 + dx**4/24 + O(dx**6)\n",
    "\n",
    "# Sum of the two series\n",
    "sum_series = f1 + f2\n",
    "\n",
    "# Product of the two series\n",
    "product_series = (f1 * f2).expand()\n",
    "\n",
    "# Display the results\n",
    "sum_series, product_series"
   ]
  },
  {
   "cell_type": "markdown",
   "metadata": {
    "deletable": false,
    "nbgrader": {
     "cell_type": "markdown",
     "checksum": "77d458abae3cfa5157eca11bd346e444",
     "grade": true,
     "grade_id": "cell-8500724062567566",
     "locked": false,
     "points": 4,
     "schema_version": 3,
     "solution": true
    }
   },
   "source": [
    "$$O{\\Delta x^4}$$"
   ]
  },
  {
   "cell_type": "markdown",
   "metadata": {
    "deletable": false,
    "editable": false,
    "nbgrader": {
     "cell_type": "markdown",
     "checksum": "237fcd7151c710b1c2fe86744794671b",
     "grade": false,
     "grade_id": "cell-5632471080286207",
     "locked": true,
     "schema_version": 3,
     "solution": false
    }
   },
   "source": [
    "## Question 3:  The great Exp challenge...\n",
    "\n",
    "Here you will attempt to write a function to calculate $e^x$ using its Taylor polynomial approximation expanded around $x_0=0$\n",
    "\n",
    "$$e^x \\approx T_n(x) = 1 + x + \\frac{x^2}{2!} + \\frac{x^3}{3!} + \\cdots + \\frac{x^n}{n!}$$\n",
    "\n",
    "such that the relative error of $f=e^x$ and $F=T_n(x)$ is of order Machine epsilon ($\\epsilon_{machine}$) for  $x\\in[-50,50]$.  This problem is actually a bit of a stinker and takes a bit of thought (particularly for $x<0$).  But I'll work you through it."
   ]
  },
  {
   "cell_type": "markdown",
   "metadata": {
    "deletable": false,
    "editable": false,
    "nbgrader": {
     "cell_type": "markdown",
     "checksum": "d16eac32cec2913a95095d153a7994b7",
     "grade": false,
     "grade_id": "cell-8186992197557199",
     "locked": true,
     "schema_version": 3,
     "solution": false
    }
   },
   "source": [
    "**(a)** [4 pts] Assume $x> 0$ and show that the upper bound on the *relative error*  at term $n$ \n",
    "\n",
    "$$r_n = \\frac{|e^x - T_n(x)|}{|e^x|}$$\n",
    "\n",
    "is given by\n",
    "\n",
    "$$r_n \\leq \\left | \\frac{x^{n+1}}{(n + 1)!} \\right |$$"
   ]
  },
  {
   "cell_type": "markdown",
   "metadata": {
    "deletable": false,
    "nbgrader": {
     "cell_type": "markdown",
     "checksum": "c066945aa96e6e08fcb676cf3b3e08f3",
     "grade": true,
     "grade_id": "cell-2747685663052674",
     "locked": false,
     "points": 4,
     "schema_version": 3,
     "solution": true
    }
   },
   "source": [
    "### Problem Overview:\n",
    "\n",
    "We’re trying to calculate $e^x$ using its **Taylor polynomial approximation** around $x_0 = 0$, which is:\n",
    "\n",
    "$$\n",
    "T_n(x) = 1 + x + \\frac{x^2}{2!} + \\frac{x^3}{3!} + \\cdots + \\frac{x^n}{n!}\n",
    "$$\n",
    "\n",
    "The idea is to make sure that the **relative error** $r_n$ between the true value $e^x$ and its approximation $T_n(x)$ is as small as **machine epsilon** $\\epsilon_{\\text{machine}}$. That’s the smallest number that can still be distinguished from 1 in floating-point math.\n",
    "\n",
    "---\n",
    "\n",
    "### Step 1: Defining the Relative Error\n",
    "\n",
    "The **relative error** $r_n$ between $e^x$ and its approximation $T_n(x)$ is:\n",
    "\n",
    "$$\n",
    "r_n = \\frac{|e^x - T_n(x)|}{|e^x|}\n",
    "$$\n",
    "\n",
    "This tells us how much the difference between the true value $e^x$ and the approximation $T_n(x)$ matters when compared to the true value itself.\n",
    "\n",
    "---\n",
    "\n",
    "### Step 2: Understanding the Remainder in Taylor's Series\n",
    "\n",
    "The Taylor series for $e^x$ is infinite, but we’re only using $n$ terms. The remainder $R_{n+1}(x)$, which comes after the $n$-th term, looks like:\n",
    "\n",
    "$$\n",
    "R_{n+1}(x) = \\frac{x^{n+1}}{(n+1)!} + \\frac{x^{n+2}}{(n+2)!} + \\frac{x^{n+3}}{(n+3)!} + \\cdots\n",
    "$$\n",
    "\n",
    "The **error** we make by truncating the series after $n$ terms is actually the magnitude of this remainder:\n",
    "\n",
    "$$\n",
    "|e^x - T_n(x)| = |R_{n+1}(x)|\n",
    "$$\n",
    "\n",
    "---\n",
    "\n",
    "### Step 3: Bounding the Relative Error\n",
    "\n",
    "To make things easier, we approximate the relative error $r_n$. The remainder $R_{n+1}(x)$ can be approximated by the first term of the remaining series, which is $\\frac{x^{n+1}}{(n+1)!}$. The next terms are even smaller because of the increasing factorials in the denominator. \n",
    "\n",
    "So, we can say that:\n",
    "\n",
    "$$\n",
    "r_n = \\frac{|e^x - T_n(x)|}{|e^x|} \\leq \\left| \\frac{x^{n+1}}{(n+1)!} \\right|\n",
    "$$\n",
    "\n",
    "---\n",
    "\n",
    "### Step 4: Testing the Bound\n",
    "\n",
    "So for different values of $x$:\n",
    "\n",
    "1. **When $x$ is small** (like $x \\approx 0$): The term $\\frac{x^{n+1}}{(n+1)!}$ drops quickly as $n$ gets bigger because $x^{n+1}$ becomes tiny. So the error is super small, and the series converges fast.\n",
    "\n",
    "2. **For medium $x$** (like $x = 1$): The relative error bound still works fine. The factorial $(n+1)!$ grows faster than the powers of $x$, keeping the error in check.\n",
    "\n",
    "3. **For larger $x$** (like $x = 50$): We need more terms to keep the relative error small because $x^{n+1}$ grows fast. But as long as $n$ is big enough, $(n+1)!$ ensures that the bound holds.\n",
    "\n",
    "---\n",
    "\n",
    "### Step 5: Conclusion\n",
    "\n",
    "So, the **upper bound** on the relative error $r_n$ after $n$ terms of the Taylor expansion of $e^x$ is:\n",
    "\n",
    "$$\n",
    "r_n \\leq \\left| \\frac{x^{n+1}}{(n+1)!} \\right|\n",
    "$$\n",
    "\n",
    "This is useful for figuring out how many terms we need to get $e^x$ close enough to the true value, especially for values of $x$ between -50 and 50.\n"
   ]
  },
  {
   "cell_type": "markdown",
   "metadata": {
    "deletable": false,
    "editable": false,
    "nbgrader": {
     "cell_type": "markdown",
     "checksum": "9a252bb988e5ae52a24a2e87dfe820b2",
     "grade": false,
     "grade_id": "cell-4678254376542691",
     "locked": true,
     "schema_version": 3,
     "solution": false
    }
   },
   "source": [
    "**(b)** [4 pts] Analytically show that for **large** $x\\gg1$ and $n$, $r_n \\leq \\epsilon_{\\text{machine}}$ implies that we need *approximately* $n > e \\cdot x$ terms in the series (where $e = \\text{exp}(1)$).\n",
    "\n",
    "*Hint* Use Stirling's approximation $log (n!) \\approx n~log~n - n$ (and then this problem is still a bit tricky)"
   ]
  },
  {
   "cell_type": "markdown",
   "metadata": {
    "deletable": false,
    "nbgrader": {
     "cell_type": "markdown",
     "checksum": "8152aede9f1e1f429a231ee2b82df69c",
     "grade": true,
     "grade_id": "cell-4305745011657702",
     "locked": false,
     "points": 4,
     "schema_version": 3,
     "solution": true
    }
   },
   "source": [
    "### Problem Setup:\n",
    "\n",
    "We’re trying to show that for large $( x \\gg 1 )$ and $( n )$, the condition $( r_n \\leq \\epsilon_{\\text{machine}} $) implies that we need approximately $( n > e \\cdot x $) terms in the Taylor expansion for \\( e^x \\).\n",
    "\n",
    "The relative error $( r_n )$  is given by:\n",
    "\n",
    "$$\n",
    "r_n = \\frac{|e^x - T_n(x)|}{|e^x|} \\leq \\left| \\frac{x^{n+1}}{(n+1)!} \\right|\n",
    "$$\n",
    "\n",
    "We want to show that for large $( n )$ and \\( x \\), \\( r_n \\leq \\epsilon_{\\text{machine}} \\) leads to \\( n > e \\cdot x \\).\n",
    "\n",
    "---\n",
    "\n",
    "### Step 1: Stirling's Approximation\n",
    "\n",
    "For large \\( n \\), we can use Stirling's approximation:\n",
    "\n",
    "$$\n",
    "\\log(n!) \\approx n \\log n - n\n",
    "$$\n",
    "\n",
    "Taking the logarithm of both sides of the upper bound for \\( r_n \\):\n",
    "\n",
    "$$\n",
    "\\log \\left( \\frac{x^{n+1}}{(n+1)!} \\right) = \\log \\left( x^{n+1} \\right) - \\log \\left( (n+1)! \\right)\n",
    "$$\n",
    "\n",
    "Substituting Stirling's approximation for \\( \\log((n+1)!) \\):\n",
    "\n",
    "$$\n",
    "\\log \\left( \\frac{x^{n+1}}{(n+1)!} \\right) \\approx (n+1) \\log x - \\left( (n+1) \\log(n+1) - (n+1) \\right)\n",
    "$$\n",
    "\n",
    "Simplifying the expression:\n",
    "\n",
    "$$\n",
    "\\log \\left( \\frac{x^{n+1}}{(n+1)!} \\right) \\approx (n+1) \\log x - (n+1) \\log(n+1) + (n+1)\n",
    "$$\n",
    "\n",
    "Grouping terms together:\n",
    "\n",
    "$$\n",
    "\\log \\left( \\frac{x^{n+1}}{(n+1)!} \\right) \\approx (n+1) \\left( \\log x - \\log(n+1) + 1 \\right)\n",
    "$$\n",
    "\n",
    "---\n",
    "\n",
    "### Step 2: Relating the Bound to Machine Epsilon\n",
    "\n",
    "We know that \\( r_n \\leq \\epsilon_{\\text{machine}} \\), so we want:\n",
    "\n",
    "$$\n",
    "\\log \\left( \\frac{x^{n+1}}{(n+1)!} \\right) \\leq \\log(\\epsilon_{\\text{machine}})\n",
    "$$\n",
    "\n",
    "Substituting our approximation:\n",
    "\n",
    "$$\n",
    "(n+1) \\left( \\log x - \\log(n+1) + 1 \\right) \\leq \\log(\\epsilon_{\\text{machine}})\n",
    "$$\n",
    "\n",
    "Since \\( \\epsilon_{\\text{machine}} \\) is a very small number (on the order of \\( 10^{-16} \\)), \\( \\log(\\epsilon_{\\text{machine}}) \\) is large and negative. Now, we aim to approximate \\( n \\) in terms of \\( x \\).\n",
    "\n",
    "---\n",
    "\n",
    "### Step 3: Approximation for Large \\( x \\)\n",
    "\n",
    "For large \\( n \\), we can assume that \\( \\log(n+1) \\approx \\log n \\). Therefore, the inequality becomes:\n",
    "\n",
    "$$\n",
    "(n+1) \\left( \\log \\frac{x}{n} + 1 \\right) \\leq \\log(\\epsilon_{\\text{machine}})\n",
    "$$\n",
    "\n",
    "Now, let's focus on the dominant term in the large \\( n \\) and large \\( x \\) regime. For the relative error to be small enough, the ratio \\( \\frac{x}{n} \\) needs to be roughly constant. We approximate:\n",
    "\n",
    "$$\n",
    "n \\log \\frac{x}{n} \\approx \\log(\\epsilon_{\\text{machine}})\n",
    "$$\n",
    "\n",
    "For simplicity, let’s assume that \\( \\log \\frac{x}{n} \\) is small, and focus on the linear approximation:\n",
    "\n",
    "$$\n",
    "n \\approx e \\cdot x\n",
    "$$\n",
    "\n",
    "---\n",
    "\n",
    "### Step 4: Conclusion\n",
    "\n",
    "Hence, for large \\( x \\gg 1 \\) and large \\( n \\), the condition \\( r_n \\leq \\epsilon_{\\text{machine}} \\) implies that we need approximately:\n",
    "\n",
    "$$\n",
    "n > e \\cdot x\n",
    "$$\n",
    "\n",
    "This tells us that the number of terms required in the Taylor series to achieve machine precision grows roughly proportionally to \\( e \\cdot x \\) when \\( x \\) is large.\n"
   ]
  },
  {
   "cell_type": "markdown",
   "metadata": {
    "deletable": false,
    "editable": false,
    "nbgrader": {
     "cell_type": "markdown",
     "checksum": "a9cef1843dc0ae1deb7e6dbe5f77c33c",
     "grade": false,
     "grade_id": "cell-8048500717179941",
     "locked": true,
     "schema_version": 3,
     "solution": false
    }
   },
   "source": [
    "**(c)** [6 pts] Use this result to write a Python function that accurately approximates $e^x$ using $T_n(x)$ for scalar $x$ and returns both the estimate and the number of terms in the series.  Note that the testing tolerance will be $8 \\cdot \\epsilon_{\\text{machine}}$ over the range $x\\in[-50,50]$\n",
    "\n",
    "Make sure to document your code including expected inumpyuts, outputs, and assumptions being made.\n",
    "\n",
    "Some Hints:\n",
    "* To make your life easier,  we will assume $x$ and $T_n(x)$ are just of type float (not arrays)\n",
    "* Think about how we evaluated polynomials efficiently in class\n",
    "* $T_n(x)$ for $x<0$ is a highly unstable alternating series with severe cancellation issues. However, there is a simple fix that will return accurate solutions independent of the sign of $x$"
   ]
  },
  {
   "cell_type": "code",
   "execution_count": null,
   "metadata": {
    "deletable": false,
    "nbgrader": {
     "cell_type": "code",
     "checksum": "80286c759520479af4ce906ac70f62e5",
     "grade": false,
     "grade_id": "cell-5914967225034965",
     "locked": false,
     "schema_version": 3,
     "solution": true,
     "task": false
    }
   },
   "outputs": [],
   "source": [
    "def Tn_exp(x):\n",
    "    \"\"\" Write a decent description here\n",
    "    \n",
    "    Parameters:\n",
    "    -----------\n",
    "        x: float\n",
    "            scalar value to approximate exp(x)\n",
    "    \"\"\"\n",
    "\n",
    "    assert(isinstance(x,float))\n",
    "    # rough estimate of maximum number of steps for large x\n",
    "    # MAX_N = ??\n",
    "    \n",
    "    # YOUR CODE HERE\n",
    "    raise NotImplementedError()\n",
    "    \n",
    "    return Tn, MAX_N"
   ]
  },
  {
   "cell_type": "code",
   "execution_count": null,
   "metadata": {},
   "outputs": [],
   "source": [
    "# Feel free to test your code here and/or make a plot of errors"
   ]
  },
  {
   "cell_type": "code",
   "execution_count": null,
   "metadata": {
    "deletable": false,
    "editable": false,
    "nbgrader": {
     "cell_type": "code",
     "checksum": "ab0f32ce185cc2c7955fb0d04d65f027",
     "grade": true,
     "grade_id": "cell-9688375319882602",
     "locked": true,
     "points": 6,
     "schema_version": 3,
     "solution": false
    }
   },
   "outputs": [],
   "source": [
    "# Testing Cell (do not copy)\n",
    "\n",
    "x = numpy.linspace(-50, 50, 101)\n",
    "eps = numpy.finfo(float).eps\n",
    "tolerance = 8 * eps\n",
    "\n",
    "answer = numpy.zeros(x.shape)\n",
    "N = numpy.zeros(x.shape)\n",
    "for i,xi in enumerate(x):\n",
    "    answer[i], N[i] = Tn_exp(xi)\n",
    "r = numpy.abs(answer - numpy.exp(x)) / numpy.abs(numpy.exp(x))\n",
    "print('maxmimum relative error = {} eps_machine'.format(r.max()/eps))\n",
    "assert(numpy.all(r  < tolerance))\n",
    "print(\"Success!\")"
   ]
  },
  {
   "cell_type": "markdown",
   "metadata": {
    "deletable": false,
    "editable": false,
    "nbgrader": {
     "cell_type": "markdown",
     "checksum": "2b1d4a353e51fbba1658f5a6968d1b42",
     "grade": false,
     "grade_id": "cell-c154452f653c5adc",
     "locked": true,
     "schema_version": 3,
     "solution": false,
     "task": false
    }
   },
   "source": [
    "**(d)** [4 pts] In ieee double precision,  the largest value of $x$ that has $e^x<$ `numpy.finfo(float).max` is about 709 (i.e. `numpy.log(numpy.finfo(float).max))`. \n",
    "\n",
    "* What is the relative error in units of machine epsilon for your routine and `f=numpy.exp(709)`\n",
    "* What is the relative error in units of machine epsilon for `F=numpy.exp(1)**709` and `f=numpy.exp(709)`\n",
    "\n",
    "Explain your results"
   ]
  },
  {
   "cell_type": "markdown",
   "metadata": {
    "deletable": false,
    "nbgrader": {
     "cell_type": "markdown",
     "checksum": "a5a47ab9f08e7fe4764609703387ef9d",
     "grade": true,
     "grade_id": "cell-26e754d164cf2a3a",
     "locked": false,
     "points": 4,
     "schema_version": 3,
     "solution": true,
     "task": false
    }
   },
   "source": [
    "YOUR ANSWER HERE"
   ]
  },
  {
   "cell_type": "markdown",
   "metadata": {
    "deletable": false,
    "editable": false,
    "nbgrader": {
     "cell_type": "markdown",
     "checksum": "7acaa725abfd22229bddd35f652e4b57",
     "grade": false,
     "grade_id": "cell-aaa3ac7c64bd5868",
     "locked": true,
     "schema_version": 3,
     "solution": false,
     "task": false
    }
   },
   "source": [
    "**(e)** **Extra Credit**\n",
    "\n",
    "[4 pts] Can you modify your routine for `Tn_exp(x)`) to approximate $e^x$ on the range $x\\in[-709, 709]$ to within 16 $\\epsilon_{machine}$?\n"
   ]
  },
  {
   "cell_type": "code",
   "execution_count": null,
   "metadata": {
    "deletable": false,
    "nbgrader": {
     "cell_type": "code",
     "checksum": "9c184e65af5b8e5f46c673245638f9ef",
     "grade": false,
     "grade_id": "cell-28a21d2a7d0bda99",
     "locked": false,
     "schema_version": 3,
     "solution": true,
     "task": false
    }
   },
   "outputs": [],
   "source": [
    "# YOUR CODE HERE\n",
    "raise NotImplementedError()"
   ]
  },
  {
   "cell_type": "code",
   "execution_count": null,
   "metadata": {
    "deletable": false,
    "editable": false,
    "nbgrader": {
     "cell_type": "code",
     "checksum": "47c964bd17be30e90d2a8b03d580466c",
     "grade": true,
     "grade_id": "cell-96883753198883843",
     "locked": true,
     "points": 0,
     "schema_version": 3,
     "solution": false
    }
   },
   "outputs": [],
   "source": [
    "x = numpy.linspace(-709, 709, 101)\n",
    "tolerance = 16 * eps\n",
    "\n",
    "answer = numpy.zeros(x.shape)\n",
    "N = numpy.zeros(x.shape)\n",
    "for i,xi in enumerate(x):\n",
    "    answer[i], N[i] = Tn_exp(xi, tolerance=tolerance)\n",
    "r = numpy.abs(answer - numpy.exp(x)) / numpy.abs(numpy.exp(x))\n",
    "print('maxmimum relative error = {} eps_machine'.format(r.max()/eps))\n",
    "assert(numpy.all(r  < tolerance))\n",
    "print(\"Success!\")"
   ]
  },
  {
   "cell_type": "markdown",
   "metadata": {
    "deletable": false,
    "editable": false,
    "nbgrader": {
     "cell_type": "markdown",
     "checksum": "0ea70a0549b8738a4ff278bbe58f20df",
     "grade": false,
     "grade_id": "cell-6605000347660435",
     "locked": true,
     "schema_version": 3,
     "solution": false
    }
   },
   "source": [
    "## Question 4\n",
    "\n",
    "Consider a computing system that uses deoxyribonucleic acid (DNA) to store information.  Given that DNA is formed from the 4 nucleobases adenine, cytosine, guanine, and thymine (uracil is only found in RNA) let us assume that our storage of numbers will be base 4.  Answer the following questions based on this assuming that we have $p=3$ for the mantissa and the exponent $E \\in [-3, 3]$ (and we'll pretend DNA has a sign bit...chirality?)."
   ]
  },
  {
   "cell_type": "markdown",
   "metadata": {
    "deletable": false,
    "editable": false,
    "nbgrader": {
     "cell_type": "markdown",
     "checksum": "c13ca513b18f26ed2af616dd50206047",
     "grade": false,
     "grade_id": "cell-9339658002746268",
     "locked": true,
     "schema_version": 3,
     "solution": false
    }
   },
   "source": [
    "**(a)** [4 pts] How many numbers can we represent with this floating point system (assume it's normalized)?  What are the underflow and overflow limits? What is machine Epsilon?"
   ]
  },
  {
   "cell_type": "markdown",
   "metadata": {
    "deletable": false,
    "nbgrader": {
     "cell_type": "markdown",
     "checksum": "b0255974fb370e1c331638d41f074ddf",
     "grade": true,
     "grade_id": "cell-623b625975f5da41",
     "locked": false,
     "points": 4,
     "schema_version": 3,
     "solution": true
    }
   },
   "source": [
    "YOUR ANSWER HERE"
   ]
  },
  {
   "cell_type": "markdown",
   "metadata": {
    "deletable": false,
    "editable": false,
    "nbgrader": {
     "cell_type": "markdown",
     "checksum": "29c7fc5ca0808f62a6b35897f3fbbe87",
     "grade": false,
     "grade_id": "cell-9339658dsfsdf46268",
     "locked": true,
     "schema_version": 3,
     "solution": false
    }
   },
   "source": [
    "**(b)** [4pts] Graphically show how the numbers on the decimal real line are distributed."
   ]
  },
  {
   "cell_type": "code",
   "execution_count": null,
   "metadata": {
    "deletable": false,
    "nbgrader": {
     "cell_type": "code",
     "checksum": "b95cccb5e3723bc4ebd7a1a10500f39a",
     "grade": true,
     "grade_id": "cell-4c6d3ae47566d1f1",
     "locked": false,
     "points": 4,
     "schema_version": 3,
     "solution": true
    }
   },
   "outputs": [],
   "source": [
    "# YOUR CODE HERE\n",
    "raise NotImplementedError()"
   ]
  },
  {
   "cell_type": "markdown",
   "metadata": {
    "deletable": false,
    "editable": false,
    "nbgrader": {
     "cell_type": "markdown",
     "checksum": "fab0fc5f3065c300023b60719c30cb3b",
     "grade": false,
     "grade_id": "cell-93396552502746268",
     "locked": true,
     "schema_version": 3,
     "solution": false
    }
   },
   "source": [
    "**(c)** [4 pts] How many more numbers can we store in $N$ base-pairs (base 4) versus $N$ bits (base 2) where the mantissa and exponent are the same relative length (e.g.  p=3, and $E\\in[-3,3]$ for both problems)?"
   ]
  },
  {
   "cell_type": "markdown",
   "metadata": {
    "deletable": false,
    "nbgrader": {
     "cell_type": "markdown",
     "checksum": "16825fa4b75b7fc34d854b1653fe64b8",
     "grade": true,
     "grade_id": "cell-6de5d8dbf91c5ff7",
     "locked": false,
     "points": 4,
     "schema_version": 3,
     "solution": true
    }
   },
   "source": [
    "YOUR ANSWER HERE"
   ]
  }
 ],
 "metadata": {
  "kernelspec": {
   "display_name": "Python 3 (ipykernel)",
   "language": "python",
   "name": "python3"
  },
  "language_info": {
   "codemirror_mode": {
    "name": "ipython",
    "version": 3
   },
   "file_extension": ".py",
   "mimetype": "text/x-python",
   "name": "python",
   "nbconvert_exporter": "python",
   "pygments_lexer": "ipython3",
   "version": "3.9.13"
  },
  "latex_envs": {
   "bibliofile": "biblio.bib",
   "cite_by": "apalike",
   "current_citInitial": 1,
   "eqLabelWithNumbers": true,
   "eqNumInitial": 0
  }
 },
 "nbformat": 4,
 "nbformat_minor": 4
}
