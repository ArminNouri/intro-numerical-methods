{
 "cells": [
  {
   "cell_type": "code",
   "execution_count": 1,
   "metadata": {},
   "outputs": [],
   "source": [
    "from __future__ import print_function\n",
    "import numpy\n",
    "import matplotlib.pyplot as plt\n",
    "import warnings\n",
    "%matplotlib inline\n"
   ]
  },
  {
   "cell_type": "markdown",
   "metadata": {
    "deletable": false,
    "editable": false,
    "nbgrader": {
     "cell_type": "markdown",
     "checksum": "16a15b070eb04274387730b373ead3b7",
     "grade": false,
     "grade_id": "cell-7752050701682384",
     "locked": true,
     "schema_version": 3,
     "solution": false
    },
    "tags": []
   },
   "source": [
    "# HW 2:  Root Finding and Optimization"
   ]
  },
  {
   "cell_type": "markdown",
   "metadata": {
    "deletable": false,
    "editable": false,
    "nbgrader": {
     "cell_type": "markdown",
     "checksum": "655550136a8876cfde367066162aeace",
     "grade": false,
     "grade_id": "cell-8382527651811313",
     "locked": true,
     "schema_version": 3,
     "solution": false
    }
   },
   "source": [
    "## Question 1 - Fun with Fixed Point iteration\n",
    "\n",
    "Let's say that we wanted to calculate $\\sqrt{M}$ given that $M \\in \\mathbb{R}$ and $M > 0$ and that we did not want to use the function `sqrt` directly.  Consider the function \n",
    "\n",
    "$$\n",
    "    f(x) = x^2 - M\n",
    "$$\n",
    "\n",
    "which has a positive root at at $x=\\sqrt{M}$.   Here we will try to solve this using  fixed point iteration\n",
    "\n",
    "$$\n",
    "    x_{k+1} = g(x_k)\n",
    "$$\n",
    "for several different iteration functions $g(x)$ (see below)\n",
    "\n",
    "For each function $g$:\n",
    "\n",
    "- Confirm analytically that $x=\\sqrt{M}$ is a fixed point of $g(x)$\n",
    "- Analyze the convergence behavior close to the fixed-point and determine the stability of the iterative scheme\n",
    "- Now set $M=3$  and $x_0 = 2$.  Make a nicely labeled convergence plot showing the log of the relative error as a function of iteration. How many iterations are required to reduce the relative error to machine precision (if it converges)?\n",
    "\n",
    "**Remember**: if you want to write $g^\\prime$, remember to use `g^\\prime` rather than `g'` in $\\LaTeX$"
   ]
  },
  {
   "cell_type": "markdown",
   "metadata": {
    "deletable": false,
    "editable": false,
    "nbgrader": {
     "cell_type": "markdown",
     "checksum": "47d9ae565a714b67099b1500b01a4250",
     "grade": false,
     "grade_id": "cell-7408468548362671",
     "locked": true,
     "schema_version": 3,
     "solution": false
    }
   },
   "source": [
    "**(a)** [4] To help with the last part,  write a short python function to return N iterations of a fixed point iteration."
   ]
  },
  {
   "cell_type": "code",
   "execution_count": 3,
   "metadata": {
    "deletable": false,
    "nbgrader": {
     "cell_type": "code",
     "checksum": "ce6bb68ac251ae8857aeb9060c313a74",
     "grade": false,
     "grade_id": "cell-5217816963816529",
     "locked": false,
     "schema_version": 3,
     "solution": true
    }
   },
   "outputs": [],
   "source": [
    "def fixed_point(g, x0, N=5):\n",
    "    \"\"\"\n",
    "    Conduct N iterations of the fixed point iteration x_{k+1} = g(x_k)\n",
    "    \n",
    "    Parameters:\n",
    "    -----------\n",
    "    g : function\n",
    "        The iteration function g(x).\n",
    "    x0 : float\n",
    "        Initial guess for the iteration.\n",
    "    N : int, optional\n",
    "        Number of iterations (default is 5).\n",
    "    \n",
    "    Returns:\n",
    "    --------\n",
    "    numpy array\n",
    "        Array containing the iterations [x0, x1, ..., xN].\n",
    "    \"\"\"\n",
    "    # Initialize the array to store the iteration values\n",
    "    x = numpy.zeros(N + 1)\n",
    "    x[0] = x0\n",
    "    \n",
    "    # Perform N iterations\n",
    "    for k in range(1, N + 1):\n",
    "        x[k] = g(x[k - 1])  # Apply the iteration function\n",
    "    \n",
    "    return x\n"
   ]
  },
  {
   "cell_type": "code",
   "execution_count": null,
   "metadata": {},
   "outputs": [],
   "source": [
    "### Free cell for messing with your code"
   ]
  },
  {
   "cell_type": "code",
   "execution_count": 4,
   "metadata": {
    "deletable": false,
    "editable": false,
    "nbgrader": {
     "cell_type": "code",
     "checksum": "62a641c4ff1153c8b1e8e39058a3a5eb",
     "grade": true,
     "grade_id": "cell-5409919424122382",
     "locked": true,
     "points": 4,
     "schema_version": 3,
     "solution": false
    }
   },
   "outputs": [
    {
     "name": "stdout",
     "output_type": "stream",
     "text": [
      "success: passed N=5 test\n",
      "success: passed N=1000 test\n"
     ]
    }
   ],
   "source": [
    "# Testing Cell\n",
    "\n",
    "N = 5\n",
    "g = lambda x: numpy.cos(x)\n",
    "x0 = 1.\n",
    "answer = numpy.array([1., 0.54030231, 0.85755322, 0.65428979, 0.79348036, 0.70136877])\n",
    "\n",
    "x = fixed_point(g, x0, N )\n",
    "numpy.testing.assert_allclose(x, answer)\n",
    "print('success: passed N=5 test')\n",
    "\n",
    "x_true = 0.7390851332153119\n",
    "x = fixed_point(g, x0, 1000)\n",
    "numpy.testing.assert_almost_equal(x[-1],x_true)\n",
    "print('success: passed N=1000 test')"
   ]
  },
  {
   "cell_type": "markdown",
   "metadata": {
    "deletable": false,
    "editable": false,
    "nbgrader": {
     "cell_type": "markdown",
     "checksum": "14b5f732f5aa0e3b5cfeac176c46d19c",
     "grade": false,
     "grade_id": "cell-2533433274902651",
     "locked": true,
     "schema_version": 3,
     "solution": false
    }
   },
   "source": [
    "**(b)** [6] analyze the problem with \n",
    "$$ g(x) = 1 + x - \\frac{x^2}{M}$$"
   ]
  },
  {
   "cell_type": "markdown",
   "metadata": {
    "deletable": false,
    "nbgrader": {
     "cell_type": "markdown",
     "checksum": "f8553ede2a496f25fd88744bab86b8fa",
     "grade": true,
     "grade_id": "cell-340019030337399",
     "locked": false,
     "points": 4,
     "schema_version": 3,
     "solution": true,
     "task": false
    }
   },
   "source": [
    "We are given the iterative method:\n",
    "\n",
    "$$\n",
    "x_{k+1} = g(x_k) = 1 + x_k - \\frac{x_k^2}{M}\n",
    "$$\n",
    "\n",
    "where we aim to compute $\\sqrt{M}$ by finding the fixed point of $g(x)$.\n",
    "\n",
    "### 1. **Fixed Point Analysis**\n",
    "\n",
    "We first confirm that $\\sqrt{M}$ is a fixed point of the iteration.\n",
    "\n",
    "To find the fixed point, set $x = g(x)$:\n",
    "\n",
    "$$\n",
    "x = 1 + x - \\frac{x^2}{M}\n",
    "$$\n",
    "\n",
    "Simplifying:\n",
    "\n",
    "$$\n",
    "0 = 1 - \\frac{x^2}{M}\n",
    "$$\n",
    "\n",
    "$$\n",
    "x^2 = M\n",
    "$$\n",
    "\n",
    "$$\n",
    "x = \\pm \\sqrt{M}\n",
    "$$\n",
    "\n",
    "Thus, $x = \\sqrt{M}$ and $x = -\\sqrt{M}$ are fixed points of $g(x)$.\n",
    "\n",
    "### 2. **Convergence Analysis**\n",
    "\n",
    "To analyze the convergence of this iteration scheme near the fixed point $x = \\sqrt{M}$, we calculate the derivative $g'(x)$ and evaluate it at $x = \\sqrt{M}$.\n",
    "\n",
    "#### Derivative of $g(x)$:\n",
    "\n",
    "$$\n",
    "g'(x) = \\frac{d}{dx} \\left( 1 + x - \\frac{x^2}{M} \\right) = 1 - \\frac{2x}{M}\n",
    "$$\n",
    "\n",
    "#### Evaluate at $x = \\sqrt{M}$:\n",
    "\n",
    "$$\n",
    "g'(\\sqrt{M}) = 1 - \\frac{2\\sqrt{M}}{M} = 1 - \\frac{2}{\\sqrt{M}}\n",
    "$$\n",
    "\n",
    "For convergence, we need $|g'(x)| < 1$ near $x = \\sqrt{M}$. The condition for convergence becomes:\n",
    "\n",
    "$$\n",
    "\\left| 1 - \\frac{2}{\\sqrt{M}} \\right| < 1\n",
    "$$\n",
    "\n",
    "Let's simplify this:\n",
    "\n",
    "#### Case 1: $M > 1$\n",
    "For $M > 1$, we have $\\sqrt{M} > 1$, so the term $\\frac{2}{\\sqrt{M}}$ is less than 2. Thus:\n",
    "\n",
    "$$\n",
    "1 - \\frac{2}{\\sqrt{M}} > -1\n",
    "$$\n",
    "\n",
    "and\n",
    "\n",
    "$$\n",
    "1 - \\frac{2}{\\sqrt{M}} < 1\n",
    "$$\n",
    "\n",
    "Thus, for $M > 1$, the convergence condition holds, and the iteration converges.\n",
    "\n",
    "#### Case 2: $M < 1$\n",
    "For $M < 1$, $\\sqrt{M} < 1$, and $\\frac{2}{\\sqrt{M}} > 2$. This violates the condition $|g'(\\sqrt{M})| < 1$, meaning that the iteration **does not converge for $M < 1$** and may diverge.\n",
    "\n",
    "### Conclusion:\n",
    "- The fixed points are $x = \\pm \\sqrt{M}$.\n",
    "- The iteration converges for $M > 1$ but does **not converge for $M < 1$**.\n"
   ]
  },
  {
   "cell_type": "code",
   "execution_count": 5,
   "metadata": {
    "deletable": false,
    "nbgrader": {
     "cell_type": "code",
     "checksum": "743a196e7f7129d5fdeb501531d96bc2",
     "grade": true,
     "grade_id": "cell-9ea67719fcf6c873",
     "locked": false,
     "points": 2,
     "schema_version": 3,
     "solution": true,
     "task": false
    }
   },
   "outputs": [
    {
     "name": "stderr",
     "output_type": "stream",
     "text": [
      "C:\\Users\\apanc\\AppData\\Local\\Temp\\ipykernel_19040\\2731428970.py:25: RuntimeWarning: divide by zero encountered in log10\n",
      "  plt.plot(numpy.arange(N+1), numpy.log10(errors), marker='o')\n"
     ]
    },
    {
     "data": {
      "image/png": "[encoded data removed]",
      "text/plain": [
       "<Figure size 1000x600 with 1 Axes>"
      ]
     },
     "metadata": {},
     "output_type": "display_data"
    }
   ],
   "source": [
    "def g(x, M):\n",
    "    \"\"\"Iteration function g(x) = 1 + x - x^2 / M\"\"\"\n",
    "    return 1 + x - (x**2) / M\n",
    "\n",
    "def relative_error(x, true_value):\n",
    "    \"\"\"Compute the relative error\"\"\"\n",
    "    return abs(x - true_value) / true_value\n",
    "\n",
    "# Parameters\n",
    "M = 3\n",
    "x_true = numpy.sqrt(M)  # True value of sqrt(M)\n",
    "x0 = 2  # Initial guess\n",
    "N = 20  # Number of iterations\n",
    "\n",
    "# Fixed-point iteration using g(x)\n",
    "x_values = fixed_point(lambda x: g(x, M), x0, N)\n",
    "\n",
    "# Compute relative errors\n",
    "errors = [relative_error(xk, x_true) for xk in x_values]\n",
    "\n",
    "# Plot log of relative errors\n",
    "plt.figure(figsize=(10, 6))\n",
    "plt.plot(numpy.arange(N+1), numpy.log10(errors), marker='o')\n",
    "plt.xlabel('Iteration')\n",
    "plt.ylabel('log10(Relative Error)')\n",
    "plt.title(f'Convergence Plot for g(x) = 1 + x - x^2/M (M = {M}, x0 = {x0})')\n",
    "plt.grid(True)\n",
    "plt.show()"
   ]
  },
  {
   "cell_type": "markdown",
   "metadata": {
    "deletable": false,
    "editable": false,
    "nbgrader": {
     "cell_type": "markdown",
     "checksum": "631a3e4c05e43db09ece645a93dd948c",
     "grade": false,
     "grade_id": "cell-2533433274adsfadf1",
     "locked": true,
     "schema_version": 3,
     "solution": false
    }
   },
   "source": [
    " **(c)** [6] analyze the problem with \n",
    "$$ g(x) = \\frac{M}{x}$$"
   ]
  },
  {
   "cell_type": "markdown",
   "metadata": {
    "deletable": false,
    "nbgrader": {
     "cell_type": "markdown",
     "checksum": "4b9b505f2509ac5d4d21866f8f8735d0",
     "grade": true,
     "grade_id": "cell-340019030h348fqoi",
     "locked": false,
     "points": 4,
     "schema_version": 3,
     "solution": true,
     "task": false
    }
   },
   "source": [
    "We are given the iterative method:\n",
    "\n",
    "$$\n",
    "x_{k+1} = g(x_k) = \\frac{M}{x_k}\n",
    "$$\n",
    "\n",
    "where we aim to compute $\\sqrt{M}$ by finding the fixed point of $g(x)$.\n",
    "\n",
    "### 1. **Fixed Point Analysis**\n",
    "\n",
    "We first confirm that $\\sqrt{M}$ is a fixed point of the iteration.\n",
    "\n",
    "To find the fixed point, set $x = g(x)$:\n",
    "\n",
    "$$\n",
    "x = \\frac{M}{x}\n",
    "$$\n",
    "\n",
    "Multiplying both sides by $x$:\n",
    "\n",
    "$$\n",
    "x^2 = M\n",
    "$$\n",
    "\n",
    "Thus, $x = \\pm \\sqrt{M}$. Therefore, $x = \\sqrt{M}$ (and $x = -\\sqrt{M}$) are fixed points of $g(x)$.\n",
    "\n",
    "### 2. **Convergence Analysis**\n",
    "\n",
    "To analyze the convergence behavior near the fixed point $x = \\sqrt{M}$, we calculate the derivative $g'(x)$ and evaluate it at $x = \\sqrt{M}$.\n",
    "\n",
    "#### Derivative of $g(x)$:\n",
    "\n",
    "$$\n",
    "g'(x) = \\frac{d}{dx} \\left( \\frac{M}{x} \\right) = -\\frac{M}{x^2}\n",
    "$$\n",
    "\n",
    "#### Evaluate at $x = \\sqrt{M}$:\n",
    "\n",
    "$$\n",
    "g'(\\sqrt{M}) = -\\frac{M}{(\\sqrt{M})^2} = -1\n",
    "$$\n",
    "\n",
    "Since $|g'(\\sqrt{M})| = 1$, this suggests **neutral convergence** near $x = \\sqrt{M}$. When the derivative magnitude is exactly 1, it indicates that the method may converge very slowly, and depending on the initial guess, it could even fail to converge or exhibit oscillatory behavior (the latter of which we actually see in the graph later).\n",
    "\n",
    "### 3. **Stability of the Iteration**\n",
    "\n",
    "The fact that $|g'(\\sqrt{M})| = 1$ means that the fixed point is a **marginally stable point**.\n",
    "\n",
    "- This is problematic because fixed-point iterations typically require $|g'(x)| < 1$ for fast, reliable convergence.\n",
    "\n",
    "### 4. **Conclusion**\n",
    "- The fixed points are $x = \\pm \\sqrt{M}$.\n",
    "- The iteration is unlikely to converge quickly due to $|g'(\\sqrt{M})| = 1$, indicating marginal stability.\n",
    "- The method might exhibit slow convergence or oscillatory behavior, especially if the initial guess is far from $\\sqrt{M}$.\n"
   ]
  },
  {
   "cell_type": "code",
   "execution_count": 6,
   "metadata": {
    "deletable": false,
    "nbgrader": {
     "cell_type": "code",
     "checksum": "564a941d39f88c7cb280a1cc912d4b05",
     "grade": true,
     "grade_id": "cell-9ea67238r9y",
     "locked": false,
     "points": 2,
     "schema_version": 3,
     "solution": true,
     "task": false
    }
   },
   "outputs": [
    {
     "data": {
      "image/png": "[encoded data removed]",
      "text/plain": [
       "<Figure size 1000x600 with 1 Axes>"
      ]
     },
     "metadata": {},
     "output_type": "display_data"
    }
   ],
   "source": [
    "def g(x, M):\n",
    "    \"\"\"Iteration function g(x) = M / x\"\"\"\n",
    "    return M / x\n",
    "\n",
    "def relative_error(x, true_value):\n",
    "    \"\"\"Compute the relative error\"\"\"\n",
    "    return abs(x - true_value) / true_value\n",
    "\n",
    "def fixed_point(g, x0, N=20):\n",
    "    \"\"\"\n",
    "    Conduct N iterations of the fixed point iteration x_{k+1} = g(x_k)\n",
    "    \n",
    "    Parameters:\n",
    "    -----------\n",
    "    g : function\n",
    "        The iteration function g(x).\n",
    "    x0 : float\n",
    "        Initial guess for the iteration.\n",
    "    N : int, optional\n",
    "        Number of iterations (default is 20).\n",
    "    \n",
    "    Returns:\n",
    "    --------\n",
    "    numpy array\n",
    "        Array containing the iterations [x0, x1, ..., xN].\n",
    "    \"\"\"\n",
    "    # Initialize the array to store the iteration values\n",
    "    x = numpy.zeros(N + 1)\n",
    "    x[0] = x0\n",
    "    \n",
    "    # Perform N iterations\n",
    "    for k in range(1, N + 1):\n",
    "        x[k] = g(x[k - 1])  # Apply the iteration function\n",
    "    \n",
    "    return x\n",
    "\n",
    "# Parameters\n",
    "M = 3\n",
    "x_true = numpy.sqrt(M)  # True value of sqrt(M)\n",
    "x0 = 2  # Initial guess\n",
    "N = 20  # Number of iterations\n",
    "\n",
    "# Fixed-point iteration using g(x)\n",
    "x_values = fixed_point(lambda x: g(x, M), x0, N)\n",
    "\n",
    "# Compute relative errors\n",
    "errors = [relative_error(xk, x_true) for xk in x_values]\n",
    "\n",
    "# Plot log of relative errors\n",
    "plt.figure(figsize=(10, 6))\n",
    "plt.plot(numpy.arange(N+1), numpy.log10(errors), marker='o')\n",
    "plt.xlabel('Iteration')\n",
    "plt.ylabel('log10(Relative Error)')\n",
    "plt.title(f'Convergence Plot for g(x) = M/x (M = {M}, x0 = {x0})')\n",
    "plt.grid(True)\n",
    "plt.show()"
   ]
  },
  {
   "cell_type": "markdown",
   "metadata": {
    "deletable": false,
    "editable": false,
    "nbgrader": {
     "cell_type": "markdown",
     "checksum": "d41d5129f00d5d1f3b8dceea620547c2",
     "grade": false,
     "grade_id": "cell-253343327982308ufu",
     "locked": true,
     "schema_version": 3,
     "solution": false
    }
   },
   "source": [
    "**(d)** [6] Newton's method\n",
    "$$ g(x) = x - \\frac{f}{f^\\prime}$$\n",
    "\n",
    "with $$ f = x^2 - M$$"
   ]
  },
  {
   "cell_type": "markdown",
   "metadata": {
    "deletable": false,
    "nbgrader": {
     "cell_type": "markdown",
     "checksum": "064fb95869cb3acd441daafd5640ee52",
     "grade": true,
     "grade_id": "cell-340019030oijq234roi",
     "locked": false,
     "points": 4,
     "schema_version": 3,
     "solution": true,
     "task": false
    }
   },
   "source": [
    "We are given Newton's method:\n",
    "\n",
    "$$\n",
    "x_{k+1} = x_k - \\frac{f(x_k)}{f'(x_k)}\n",
    "$$\n",
    "\n",
    "where $f(x) = x^2 - M$ and $f'(x) = 2x$, with the goal of finding $\\sqrt{M}$.\n",
    "\n",
    "### 1. **Fixed Point Analysis**\n",
    "\n",
    "Substituting $f(x) = x^2 - M$ and $f'(x) = 2x$ into Newton's method:\n",
    "\n",
    "$$\n",
    "x_{k+1} = x_k - \\frac{x_k^2 - M}{2x_k}\n",
    "$$\n",
    "\n",
    "Simplifying this expression:\n",
    "\n",
    "$$\n",
    "x_{k+1} = \\frac{x_k}{2} + \\frac{M}{2x_k}\n",
    "$$\n",
    "\n",
    "\n",
    "To confirm that $\\sqrt{M}$ is a fixed point, set $x = g(x)$:\n",
    "\n",
    "$$\n",
    "x = \\frac{x}{2} + \\frac{M}{2x}\n",
    "$$\n",
    "\n",
    "Multiplying both sides by 2:\n",
    "\n",
    "$$\n",
    "2x = x + \\frac{M}{x}\n",
    "$$\n",
    "\n",
    "$$\n",
    "x = \\frac{M}{x}\n",
    "$$\n",
    "\n",
    "Multiplying both sides by $x$:\n",
    "\n",
    "$$\n",
    "x^2 = M\n",
    "$$\n",
    "\n",
    "Thus, $x = \\pm \\sqrt{M}$. Therefore, $x = \\sqrt{M}$ (and $x = -\\sqrt{M}$) are fixed points.\n",
    "\n",
    "### 2. **Convergence Analysis**\n",
    "\n",
    "Newton's method is known for its **quadratic convergence**, meaning that once the iterates are close to the root $\\sqrt{M}$, the number of correct digits roughly doubles with each iteration.\n",
    "\n",
    "#### Derivative of $g(x)$:\n",
    "\n",
    "The iteration function can be written as:\n",
    "\n",
    "$$\n",
    "g(x) = \\frac{x}{2} + \\frac{M}{2x}\n",
    "$$\n",
    "\n",
    "Taking the derivative:\n",
    "\n",
    "$$\n",
    "g'(x) = \\frac{1}{2} - \\frac{M}{2x^2}\n",
    "$$\n",
    "\n",
    "At $x = \\sqrt{M}$:\n",
    "\n",
    "$$\n",
    "g'(\\sqrt{M}) = \\frac{1}{2} - \\frac{M}{2(\\sqrt{M})^2} = \\frac{1}{2} - \\frac{M}{2M} = \\frac{1}{2} - \\frac{1}{2} = 0\n",
    "$$\n",
    "\n",
    "Since $g'(\\sqrt{M}) = 0$, Newton's method converges **quadratically** near the fixed point $x = \\sqrt{M}$.\n",
    "\n",
    "### 3. **Conclusion**\n",
    "\n",
    "- The fixed points are $x = \\pm \\sqrt{M}$.\n",
    "- Newton's method converges quadratically, meaning it converges very quickly once the iterates are close to the solution.\n",
    "- The method is highly reliable and efficient for computing $\\sqrt{M}$, especially when starting from a reasonable initial guess.\n",
    "- The graph shows rapid convergence within 3 iterations and demonstrates that Newton's method achieves machine precision very efficiently.\n"
   ]
  },
  {
   "cell_type": "code",
   "execution_count": 3,
   "metadata": {
    "deletable": false,
    "nbgrader": {
     "cell_type": "code",
     "checksum": "de8bb72e85c8267066928bf4faaa5e8f",
     "grade": true,
     "grade_id": "cell-9ea67719fouerouh",
     "locked": false,
     "points": 2,
     "schema_version": 3,
     "solution": true,
     "task": false
    }
   },
   "outputs": [
    {
     "data": {
      "image/png": "[encoded data removed]",
      "text/plain": [
       "<Figure size 1000x600 with 1 Axes>"
      ]
     },
     "metadata": {},
     "output_type": "display_data"
    }
   ],
   "source": [
    "def newton_method(f, df, x0, N=20):\n",
    "    \"\"\"\n",
    "    Conduct N iterations of Newton's method x_{k+1} = x_k - f(x_k) / f'(x_k)\n",
    "    \n",
    "    Parameters:\n",
    "    -----------\n",
    "    f : function\n",
    "        The function f(x) = x^2 - M.\n",
    "    df : function\n",
    "        The derivative of the function, f'(x) = 2x.\n",
    "    x0 : float\n",
    "        Initial guess for the iteration.\n",
    "    N : int, optional\n",
    "        Number of iterations (default is 20).\n",
    "    \n",
    "    Returns:\n",
    "    --------\n",
    "    numpy array\n",
    "        Array containing the iterations [x0, x1, ..., xN].\n",
    "    \"\"\"\n",
    "    x = numpy.zeros(N + 1)\n",
    "    x[0] = x0\n",
    "    \n",
    "    # Perform N iterations of Newton's method\n",
    "    for k in range(1, N + 1):\n",
    "        x[k] = x[k - 1] - f(x[k - 1]) / df(x[k - 1])\n",
    "    \n",
    "    return x\n",
    "\n",
    "# Define the function f(x) = x^2 - M and its derivative f'(x) = 2x\n",
    "M = 3\n",
    "f = lambda x: x**2 - M\n",
    "df = lambda x: 2*x\n",
    "\n",
    "# Parameters\n",
    "x_true = numpy.sqrt(M)  # True value of sqrt(M)\n",
    "x0 = 2  # Initial guess\n",
    "N = 10  # Number of iterations\n",
    "\n",
    "# Newton's method\n",
    "x_values = newton_method(f, df, x0, N)\n",
    "\n",
    "# Compute relative errors\n",
    "errors = numpy.array([abs(xk - x_true) / x_true for xk in x_values])\n",
    "\n",
    "# Plot log of relative errors, adding epsilon to avoid log10(0)\n",
    "epsilon = 1e-16\n",
    "plt.figure(figsize=(10, 6))\n",
    "plt.plot(numpy.arange(N+1), numpy.log10(errors + epsilon), marker='o')\n",
    "plt.xlabel('Iteration')\n",
    "plt.ylabel('log10(Relative Error)')\n",
    "plt.title(f'Convergence Plot for Newton\\'s Method (M = {M}, x0 = {x0})')\n",
    "plt.grid(True)\n",
    "plt.show()"
   ]
  },
  {
   "cell_type": "markdown",
   "metadata": {
    "deletable": false,
    "editable": false,
    "nbgrader": {
     "cell_type": "markdown",
     "checksum": "268f820b9f5eab632cd649479bcb3072",
     "grade": false,
     "grade_id": "cell-5084202108adoiu923",
     "locked": true,
     "schema_version": 3,
     "solution": false
    }
   },
   "source": [
    "## Question 2 - Fun with Rootfinders and NewtSafe\n",
    "\n",
    "This problem will explore the behavior of a range of different rootfinding routines against  a more challenging rootfinding problem.  Feel free to use any or all  of the routines presented in class which have been included in an auxiliary python file `rootfinding_optimization_schemes.py`\n",
    "\n",
    "\n",
    "You need to have this file in the same directory with your homework for this notebook to import it."
   ]
  },
  {
   "cell_type": "code",
   "execution_count": null,
   "metadata": {
    "tags": []
   },
   "outputs": [],
   "source": [
    "#  Cell to import and test at least newton's method from class\n",
    "\n",
    "from  rootfinding_optimization_schemes import newton\n",
    "\n",
    "# set test function and its derivative\n",
    "f = lambda x: numpy.cos(x) - x\n",
    "f_prime = lambda x: -numpy.sin(x) - 1.\n",
    "\n",
    "#set initial guess and call newton\n",
    "x0 = 1.\n",
    "x, x_array = newton(f, f_prime, x0,tol=1.e-12)\n",
    "\n",
    "# run tests\n",
    "answer = 0.7390851332151606\n",
    "N = 5\n",
    "numpy.testing.assert_almost_equal(x, answer)\n",
    "numpy.testing.assert_almost_equal(N, len(x_array))\n",
    "print(\"functions loaded correctly\")"
   ]
  },
  {
   "cell_type": "markdown",
   "metadata": {
    "deletable": false,
    "editable": false,
    "nbgrader": {
     "cell_type": "markdown",
     "checksum": "a32d15febb12107bc3e15a6804e7cddd",
     "grade": false,
     "grade_id": "cell-08d7aa7aa9d9d246",
     "locked": true,
     "schema_version": 3,
     "solution": false,
     "task": false
    },
    "tags": []
   },
   "source": [
    "Consider the function \n",
    "\n",
    "$$\n",
    "    f(x) = \\cos(x) +  N(x, A, \\alpha, \\beta))\n",
    "$$\n",
    "where\n",
    "\n",
    "$$\n",
    "    N(x, A, \\alpha, \\beta) =  A\\left[\\sin(\\alpha x) + \\sin(\\beta x)\\right]\n",
    "$$\n",
    "\n",
    "is a function that adds smooth additive \"noise\" with fixed amplitude $A = 0.05$ and varying frequencies $\\alpha$ and $\\beta$"
   ]
  },
  {
   "cell_type": "markdown",
   "metadata": {
    "deletable": false,
    "editable": false,
    "nbgrader": {
     "cell_type": "markdown",
     "checksum": "65622963e22afc39580364b2d0fb4665",
     "grade": false,
     "grade_id": "cell-fadb86c67ee671d2",
     "locked": true,
     "schema_version": 3,
     "solution": false,
     "task": false
    }
   },
   "source": [
    "**(a)** [4] Make a nicely labeled plot to showing the behavior of this function for \n",
    "* $\\alpha = 0.$, $\\beta =0.$\n",
    "* $\\alpha = 4.$, $\\beta =5.$\n",
    "* $\\alpha = 27$, $\\beta = 50$\n",
    "\n",
    "over the domain $x\\in[-2\\pi, 2\\pi]$. Make sure you have enough points to resolve the wiggles.  You can plot all three curves on the same plot"
   ]
  },
  {
   "cell_type": "code",
   "execution_count": null,
   "metadata": {
    "deletable": false,
    "nbgrader": {
     "cell_type": "code",
     "checksum": "edc7c9bcc180f7f6c5e68c36a482e7ba",
     "grade": true,
     "grade_id": "cell-fadb86c67ee67848gr",
     "locked": false,
     "points": 4,
     "schema_version": 3,
     "solution": true,
     "task": false
    }
   },
   "outputs": [],
   "source": [
    "# YOUR CODE HERE\n",
    "raise NotImplementedError()"
   ]
  },
  {
   "cell_type": "markdown",
   "metadata": {
    "deletable": false,
    "editable": false,
    "nbgrader": {
     "cell_type": "markdown",
     "checksum": "3b9302605aa4f4dedadf35490138eeea",
     "grade": false,
     "grade_id": "cell-cfeab33ec7437a33",
     "locked": true,
     "schema_version": 3,
     "solution": false,
     "task": false
    }
   },
   "source": [
    "**(b)** [4] Explore the behavior of the following rootfinding routines \n",
    "* bisection\n",
    "* newton\n",
    "* secant\n",
    "* brentq method using scipy.optimize.root_scalar\n",
    "* **EXTRA CREDIT** any other method used in root_scalar\n",
    "\n",
    "for finding a root of this function, given the bracket $x\\in[x_0, x_1]$ with $x_0 = 0.2$, $x_1 = 2.$ for each ($\\alpha, \\beta$) pair\n",
    "\n",
    "`params = [ (0., 0.), (4., 5.),  (27, 50.) ]`\n",
    "\n",
    "For each routine,  report\n",
    "* the root found $x^*$\n",
    "* the value of $f$ at the root $f(x^*$)\n",
    "* the number of iterations."
   ]
  },
  {
   "cell_type": "code",
   "execution_count": null,
   "metadata": {
    "deletable": false,
    "nbgrader": {
     "cell_type": "code",
     "checksum": "e4da74b90e3a108cde24c50d129d4a41",
     "grade": true,
     "grade_id": "cell-3d03e0785ba74cee",
     "locked": false,
     "points": 4,
     "schema_version": 3,
     "solution": true,
     "task": false
    }
   },
   "outputs": [],
   "source": [
    "# YOUR CODE HERE\n",
    "raise NotImplementedError()"
   ]
  },
  {
   "cell_type": "markdown",
   "metadata": {
    "deletable": false,
    "editable": false,
    "nbgrader": {
     "cell_type": "markdown",
     "checksum": "60affd12658a1d118a9a3ac3ade5a703",
     "grade": false,
     "grade_id": "cell-d6c0204318b16a38",
     "locked": true,
     "schema_version": 3,
     "solution": false,
     "task": false
    }
   },
   "source": [
    "**(c)** [4] Make a convergence plot showing the relative error at each step for Newton's method for the same three parameter pairs and initial guess $x_0 = 0.2$."
   ]
  },
  {
   "cell_type": "code",
   "execution_count": null,
   "metadata": {
    "deletable": false,
    "nbgrader": {
     "cell_type": "code",
     "checksum": "712e8203de014a4d1bff6c5d3589f974",
     "grade": true,
     "grade_id": "cell-03e97ced4d02bc89",
     "locked": false,
     "points": 4,
     "schema_version": 3,
     "solution": true,
     "task": false
    }
   },
   "outputs": [],
   "source": [
    "# YOUR CODE HERE\n",
    "raise NotImplementedError()"
   ]
  },
  {
   "cell_type": "markdown",
   "metadata": {
    "deletable": false,
    "editable": false,
    "nbgrader": {
     "cell_type": "markdown",
     "checksum": "2df03ce3234624a2a1c2d6b521634126",
     "grade": false,
     "grade_id": "cell-688d9772c0ee0353",
     "locked": true,
     "schema_version": 3,
     "solution": false,
     "task": false
    }
   },
   "source": [
    "**(d)** [4] Briefly explain your results so far for all the methods.  Feel free to play with other initial parameters or to make additional plots.  "
   ]
  },
  {
   "cell_type": "markdown",
   "metadata": {
    "deletable": false,
    "nbgrader": {
     "cell_type": "markdown",
     "checksum": "2fd45f3d0ef415e1263944f18cb82175",
     "grade": true,
     "grade_id": "cell-0d30efbc8418cd82",
     "locked": false,
     "points": 4,
     "schema_version": 3,
     "solution": true,
     "task": false
    }
   },
   "source": [
    "YOUR ANSWER HERE"
   ]
  },
  {
   "cell_type": "markdown",
   "metadata": {
    "deletable": false,
    "editable": false,
    "nbgrader": {
     "cell_type": "markdown",
     "checksum": "db197de596ae1a5191790bc36a15b67c",
     "grade": false,
     "grade_id": "cell-b46861a6140bb51d",
     "locked": true,
     "schema_version": 3,
     "solution": false,
     "task": false
    }
   },
   "source": [
    "**(e)** [6] Write a controlled Newton routine `NewtSafe`,  that finds a root with an initial bracket by combining newton steps with a bisection routine.  The basic algorithm is to first try Newton from the midpoint of the bracket.  If Newton predicts a solution outside of the bracket, ignore it and take a bisection step instead.  You can use and modify any of the rootfinding routines I presented in class, but write a decent docstring and raise appropriate exceptions as necessary. \n",
    "\n",
    "The routine should return the best estimate of the root and number of Newton Steps and the number of bisection steps\n",
    "\n",
    "`x, N_newt, N_bisection = newtsafe(f, f_prime, a, b)`"
   ]
  },
  {
   "cell_type": "code",
   "execution_count": null,
   "metadata": {
    "deletable": false,
    "nbgrader": {
     "cell_type": "code",
     "checksum": "c064de33e8e33bb749259d97e0fb04a1",
     "grade": false,
     "grade_id": "cell-a20f6d1abec7c19d",
     "locked": false,
     "schema_version": 3,
     "solution": true,
     "task": false
    }
   },
   "outputs": [],
   "source": [
    "def newtsafe(f,f_prime,a,b,tol = 1.e-6, max_steps=1000):\n",
    "    \"\"\" Please improve this docstring\n",
    "        \n",
    "    \n",
    "    Parameters:\n",
    "    -----------\n",
    "    \n",
    "    f: function (float)\n",
    "        function returning f(x)\n",
    "    f_prime:  function (float)\n",
    "        function returning derivative of f with respect to x\n",
    "    a: float\n",
    "        left bracket a < x\n",
    "    b: float\n",
    "        right bracket x < b\n",
    "        \n",
    "        Note:  the signs of f(a) and f(b) must be different to insure a bracket\n",
    "    tol: float\n",
    "        tolerance.  Returns when |f(x)| < tol\n",
    "    max_steps: int\n",
    "        maximum number of iteration steps\n",
    "        \n",
    "    Returns:\n",
    "    --------\n",
    "    x: float\n",
    "        midpoint of final bracket\n",
    "    n_newt:  number of newton steps for successful newton iteration\n",
    "    n_bisection: number of bisection steps\n",
    "        \n",
    "    Raises:\n",
    "    -------\n",
    "    ValueError:  \n",
    "        if initial bracket is invalid \n",
    "    Warning: \n",
    "        if number of iterations exceed MAX_STEPS\n",
    "    Prints warning if Newton exceeds the bracket\n",
    "    \n",
    "    \"\"\"\n",
    "# YOUR CODE HERE\n",
    "raise NotImplementedError()\n"
   ]
  },
  {
   "cell_type": "code",
   "execution_count": null,
   "metadata": {},
   "outputs": [],
   "source": [
    "# you can play with your code here"
   ]
  },
  {
   "cell_type": "code",
   "execution_count": null,
   "metadata": {
    "deletable": false,
    "editable": false,
    "nbgrader": {
     "cell_type": "code",
     "checksum": "a0fc4358c1096461564e6e35cea822ab",
     "grade": true,
     "grade_id": "cell-7cdbdbda9ca86f82",
     "locked": true,
     "points": 6,
     "schema_version": 3,
     "solution": false,
     "task": false
    }
   },
   "outputs": [],
   "source": [
    "# Testing Cell\n",
    "from  rootfinding_optimization_schemes import newton\n",
    "from scipy.optimize import root_scalar\n",
    "\n",
    "a = 27\n",
    "b = 50\n",
    "A = 0.3\n",
    "f = lambda x: numpy.cos(x) + A*(numpy.sin(a * x) + numpy.sin(b * x))\n",
    "f_prime = lambda x: -numpy.sin(x) + A*(a*numpy.cos(a * x) + b*numpy.cos(b * x))\n",
    "\n",
    "pi = numpy.pi\n",
    "\n",
    "brackets = [ \n",
    "            (-0.68309670780092, 2.642524050776319),\n",
    "            (-0.7104536143852529, 3.8152626763086603),\n",
    "            (-0.5236057894835726, 3.9067882124238986),\n",
    "            (-0.5275356434135271, 2.4988039593212776),\n",
    "            (-0.3534683303763972, 3.9130408021252014)\n",
    "           ]\n",
    "\n",
    "for bracket in brackets:\n",
    "    #a = numpy.random.uniform(low=-pi/4, high=pi/4)\n",
    "    #b = numpy.random.uniform(low=3*pi/4, high=5*pi/4)\n",
    "    a = bracket[0]\n",
    "    b = bracket[1]\n",
    "    x_n, x_array = newton(f, f_prime, (a + b)/2.)\n",
    "    x_ns, N_n, N_b = newtsafe(f, f_prime, a, b)\n",
    "    sol = root_scalar(f, bracket=(a, b),method='brentq')\n",
    "    print('Bracket  = [{}, {}]'.format(a, b))\n",
    "    print('Newton   = {},    N   = {}'.format(x_n, len(x_array)-1))\n",
    "    print('NewtSafe = {},    N_n = {}, N_b = {}'.format(x_ns, N_n, N_b))\n",
    "    print('brentq   = {},    N   = {}'.format(sol.root, sol.iterations))\n",
    "    print()\n",
    "    numpy.testing.assert_almost_equal(x_ns, sol.root,decimal=5)\n",
    "    \n",
    "try:\n",
    "    x_ns, N_n, N_b = newtsafe(f, f_prime, 1.6, 2.0)\n",
    "except ValueError as err:\n",
    "    print(err)\n",
    "    pass\n",
    "\n",
    "print('success!')\n"
   ]
  },
  {
   "cell_type": "markdown",
   "metadata": {
    "deletable": false,
    "editable": false,
    "nbgrader": {
     "cell_type": "markdown",
     "checksum": "6ff9cfc557769fb0e0cd3151689d9310",
     "grade": false,
     "grade_id": "cell-508420840igovo948yh23",
     "locked": true,
     "schema_version": 3,
     "solution": false
    }
   },
   "source": [
    "## Question 3 - Solve a \"real\" rootfinding problem\n",
    "\n",
    "In Homework 2, I asked you to *estimate* the number of terms in the taylor expansion of $e^x$ such that the relative error was less than $\\epsilon_{mach}$.  This was essentially a non-linear problem in the number of steps $n$.  Here we will use a rootfinder to get this number more precisely."
   ]
  },
  {
   "cell_type": "markdown",
   "metadata": {
    "deletable": false,
    "editable": false,
    "nbgrader": {
     "cell_type": "markdown",
     "checksum": "0c5da29bd8798f54998030d92df5ac1d",
     "grade": false,
     "grade_id": "cell-3f4f0535e4abc84f",
     "locked": true,
     "schema_version": 3,
     "solution": false,
     "task": false
    }
   },
   "source": [
    "**(a)** [8] provide a numerical solution for the number of terms $n$ in the Taylor polynomial expansion of exp(x) (i.e. $T_N(x))$ such that the relative error is\n",
    "\n",
    "$$\n",
    "    r = \\left| \\frac{x^{n+1}}{(n + 1)!} \\right| \\approx \\epsilon_{mach}\n",
    "$$ \n",
    "\n",
    "Give solutions for x = 0.1, 1., 10. ,100. , 709., 1000. and compare your numerical solution to the approximate solution given in last homework \n",
    "\n",
    "$$\n",
    "    n > e*x\n",
    "$$\n",
    "\n",
    "by calculating the relative error between the your numerical solution and your simpler estimate.\n",
    "\n",
    "Note: To make this problem easier, just use Stirling’s approximation $\\log(n!) \\approx n \\log n − n$. which will work quite well.  However, for a little bit of extra credit solve this for the full problem and compare solutions.\n"
   ]
  },
  {
   "cell_type": "markdown",
   "metadata": {
    "deletable": false,
    "nbgrader": {
     "cell_type": "markdown",
     "checksum": "b68b95d0b33a72562c80bc1c8831d3ac",
     "grade": true,
     "grade_id": "cell-8fc4ebbf43da6dff",
     "locked": false,
     "points": 4,
     "schema_version": 3,
     "solution": true,
     "task": false
    }
   },
   "source": [
    "YOUR ANSWER HERE"
   ]
  },
  {
   "cell_type": "code",
   "execution_count": null,
   "metadata": {
    "deletable": false,
    "nbgrader": {
     "cell_type": "code",
     "checksum": "11099c9f28135df32eed257aca68662a",
     "grade": true,
     "grade_id": "cell-963aac8426927a48",
     "locked": false,
     "points": 4,
     "schema_version": 3,
     "solution": true,
     "task": false
    }
   },
   "outputs": [],
   "source": [
    "# YOUR CODE HERE\n",
    "raise NotImplementedError()"
   ]
  }
 ],
 "metadata": {
  "kernelspec": {
   "display_name": "Python 3 (ipykernel)",
   "language": "python",
   "name": "python3"
  },
  "language_info": {
   "codemirror_mode": {
    "name": "ipython",
    "version": 3
   },
   "file_extension": ".py",
   "mimetype": "text/x-python",
   "name": "python",
   "nbconvert_exporter": "python",
   "pygments_lexer": "ipython3",
   "version": "3.9.13"
  }
 },
 "nbformat": 4,
 "nbformat_minor": 4
}
