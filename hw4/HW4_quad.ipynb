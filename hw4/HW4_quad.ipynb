{
 "cells": [
  {
   "cell_type": "code",
   "execution_count": 2,
   "metadata": {},
   "outputs": [],
   "source": [
    "%matplotlib inline\n",
    "%precision 16\n",
    "import numpy\n",
    "from scipy.special import erf, fresnel\n",
    "import matplotlib.pyplot as plt"
   ]
  },
  {
   "cell_type": "markdown",
   "metadata": {
    "deletable": false,
    "editable": false,
    "nbgrader": {
     "cell_type": "markdown",
     "checksum": "501a1c819b64d93a63daffcf5dd3d042",
     "grade": false,
     "grade_id": "cell-3336298175051145",
     "locked": true,
     "schema_version": 3,
     "solution": false
    }
   },
   "source": [
    "Before you turn this problem in, make sure everything runs as expected. First, restart the kernel (in the menubar, select Kernel $\\rightarrow$ Restart) and then run all cells (in the menubar, select Cell $\\rightarrow$ Run All).\n",
    "\n",
    "Make sure you fill in any place that says YOUR CODE HERE or \"YOUR ANSWER HERE\", as well as your name and collaborators below:"
   ]
  },
  {
   "cell_type": "markdown",
   "metadata": {
    "deletable": false,
    "editable": false,
    "nbgrader": {
     "cell_type": "markdown",
     "checksum": "97f20971f6b06daad4dd2aade591e99e",
     "grade": false,
     "grade_id": "cell-8922434501433849",
     "locked": true,
     "schema_version": 3,
     "solution": false
    }
   },
   "source": [
    "# HW 4:  Numerical  Quadrature "
   ]
  },
  {
   "cell_type": "markdown",
   "metadata": {
    "deletable": false,
    "editable": false,
    "nbgrader": {
     "cell_type": "markdown",
     "checksum": "11c4dc7f495597dcf17512a1d25527ed",
     "grade": false,
     "grade_id": "cell-6862f9ce9923e1fc",
     "locked": true,
     "schema_version": 3,
     "solution": false,
     "task": false
    }
   },
   "source": [
    "## Question 1 - Basic  Quadrature Rules\n",
    "\n",
    "The Error Function $\\mathrm{erf}(x)$ is defined by the definite integral\n",
    "\n",
    "$$\n",
    "    \\mathrm{erf}(x) = \\frac{2}{\\pi}\\int_0^x e^{-t^2}dt\n",
    "$$ \n",
    "\n",
    "We will use this function to test and understand the different errors associated with a range of both single interval and extended quadrature rules.  \n",
    "\n",
    "Use the function definitions below to write a set of functions for approximating \n",
    "$$\n",
    " I[f] =  \\int_a^b f(x) dx\n",
    "$$ \n",
    "which we will use for testing against $\\mathrm{erf}(x)$"
   ]
  },
  {
   "cell_type": "markdown",
   "metadata": {
    "deletable": false,
    "editable": false,
    "nbgrader": {
     "cell_type": "markdown",
     "checksum": "aa0f8a81ccc6a98f5b541e053b830a74",
     "grade": false,
     "grade_id": "cell-7394d01b84f7ad21",
     "locked": true,
     "schema_version": 3,
     "solution": false,
     "task": false
    }
   },
   "source": [
    "**(a)** [8] Single step quadrature rules\n",
    "\n",
    "Write short python functions for calculating $I[f]$ for the following newton-Cotes  quadrature rules on a single interval\n",
    "\n",
    "* Left-Rectangle rule (a 1-point quadrature rule like  Mid-point, but evaluated at $x=a$, not the mid-point)\n",
    "* Mid-point rule\n",
    "* Trapezoidal rule\n",
    "* Simpson's Rule"
   ]
  },
  {
   "cell_type": "code",
   "execution_count": 1,
   "metadata": {
    "deletable": false,
    "nbgrader": {
     "cell_type": "code",
     "checksum": "9d83aaabf33a18b7fb3ebdc876ac8b3b",
     "grade": false,
     "grade_id": "cell-656f8ecff157e21f",
     "locked": false,
     "schema_version": 3,
     "solution": true,
     "task": false
    }
   },
   "outputs": [],
   "source": [
    "def I_left(f, a, b):\n",
    "    \"\"\" Left rectangle rule\"\"\"\n",
    "    return (b - a) * f(a)\n",
    "\n",
    "def I_midpoint(f, a, b):\n",
    "    \"\"\" Newton-Cotes Midpoint rule\"\"\"\n",
    "    return (b - a) * f((a + b) / 2)\n",
    "\n",
    "def I_trapezoid(f, a, b):\n",
    "    \"\"\" Newton-Cotes Trapezoidal rule\"\"\"\n",
    "    return (b - a) / 2 * (f(a) + f(b))\n",
    "\n",
    "def I_simpson(f, a, b):\n",
    "    \"\"\" Newton-Cotes Simpson's rule\"\"\"\n",
    "    return (b - a) / 6 * (f(a) + 4 * f((a + b) / 2) + f(b))"
   ]
  },
  {
   "cell_type": "code",
   "execution_count": 3,
   "metadata": {
    "deletable": false,
    "editable": false,
    "nbgrader": {
     "cell_type": "code",
     "checksum": "805dea44cc0dd5b7acaba0f93a994a72",
     "grade": true,
     "grade_id": "cell-c9c5d610957c6e0d",
     "locked": true,
     "points": 8,
     "schema_version": 3,
     "solution": false,
     "task": false
    }
   },
   "outputs": [
    {
     "name": "stdout",
     "output_type": "stream",
     "text": [
      "x = 1.0, erf(x) = 0.8427007929497148\n",
      "\n",
      "success!\n"
     ]
    }
   ],
   "source": [
    "# test against erf(1.)\n",
    "\n",
    "x = 1.0\n",
    "I_true = erf(x)\n",
    "print('x = {}, erf(x) = {}\\n'.format(x,I_true))\n",
    "f = lambda x : 2./numpy.sqrt(numpy.pi) * numpy.exp(-x*x)\n",
    "\n",
    "I = numpy.zeros(4)\n",
    "I[0] = I_left(f, 0., x)\n",
    "I[1] = I_midpoint(f, 0., x)\n",
    "I[2] = I_trapezoid(f, 0., x)\n",
    "I[3] = I_simpson(f, 0., x)\n",
    "\n",
    "err = numpy.abs( I - I_true)/numpy.abs(I_true)\n",
    "answer = numpy.array([0.339003328982087,  0.0428168411464673,\n",
    "          0.084202437312641, 0.0004770816600977])\n",
    "numpy.testing.assert_allclose(err, answer)\n",
    "print('success!')"
   ]
  },
  {
   "cell_type": "markdown",
   "metadata": {
    "deletable": false,
    "editable": false,
    "nbgrader": {
     "cell_type": "markdown",
     "checksum": "ae9e2530c643c17c537ffe961575fa8e",
     "grade": false,
     "grade_id": "cell-9eb665d0310b8e47",
     "locked": true,
     "schema_version": 3,
     "solution": false,
     "task": false
    }
   },
   "source": [
    "**(b)** [8] Repeat the exercise for  3 point Gauss-Legendre Quadrature\n",
    "\n",
    "* First:  calculate the weights $w_i$, using the method of undetermined coefficients such that the quadrature rule exactly integrates the monomials $1, x, x^2$ over the interval $x\\in[-1,1]$.\n",
    "(hint:  the 3 quadrature points $x_i$ are the roots of \n",
    "\n",
    "$$\n",
    "    P_3(x) = (5x^3 - 3x)/2\n",
    "$$\n",
    "and this rule will exactly integrate polynomials up to order 5)."
   ]
  },
  {
   "cell_type": "markdown",
   "metadata": {
    "deletable": false,
    "nbgrader": {
     "cell_type": "markdown",
     "checksum": "7d826c95d35f6e9677e9e61b584dc3e8",
     "grade": true,
     "grade_id": "cell-07d167d661aa6223",
     "locked": false,
     "points": 4,
     "schema_version": 3,
     "solution": true,
     "task": false
    }
   },
   "source": [
    "The 3-point Gauss-Legendre quadrature rule is given by:\n",
    "$$\n",
    "I[f] \\approx \\sum_{i=1}^3 w_i f(x_i)\n",
    "$$\n",
    "where:\n",
    "- $ x_i $ are the roots of the Legendre polynomial $ P_3(x) = \\frac{5x^3 - 3x}{2} $, which is of degree 3.\n",
    "- $ w_i $ are weights that we will determine using the method of undetermined coefficients by requiring that the quadrature rule exactly integrates the monomials $ 1 $, $ x $, and $ x^2 $ over the interval $ x \\in [-1, 1] $.\n",
    "\n",
    "### Step 1: Find the Quadrature Points $ x_i $\n",
    "\n",
    "The quadrature points are the roots of $ P_3(x) = \\frac{5x^3 - 3x}{2} $.\n",
    "\n",
    "1. Set $ P_3(x) = 0 $:\n",
    "   $$\n",
    "   \\frac{5x^3 - 3x}{2} = 0\n",
    "   $$\n",
    "   $$\n",
    "   \\Rightarrow x(5x^2 - 3) = 0\n",
    "   $$\n",
    "\n",
    "2. Solving this equation gives us:\n",
    "   - $ x = 0 $,\n",
    "   - $ x = \\pm \\sqrt{\\frac{3}{5}} $.\n",
    "\n",
    "Thus, the quadrature points are:\n",
    "$$\n",
    "x_1 = -\\sqrt{\\frac{3}{5}}, \\quad x_2 = 0, \\quad x_3 = \\sqrt{\\frac{3}{5}}\n",
    "$$\n",
    "\n",
    "### Step 2: Set Up Equations to Determine the Weights $ w_i $\n",
    "\n",
    "We now use the **method of undetermined coefficients** to find $ w_i $ by requiring that the quadrature rule integrates the monomials $1$, $x$, and $x^2$ exactly.\n",
    "\n",
    "### Requirement 1: Integrate $ f(x) = 1 $\n",
    "\n",
    "The integral of $ f(x) = 1 $ over $[-1, 1]$ is:\n",
    "$$\n",
    "\\int_{-1}^1 1 \\, dx = 2\n",
    "$$\n",
    "Using the quadrature rule, we get:\n",
    "$$\n",
    "w_1 + w_2 + w_3 = 2\n",
    "$$\n",
    "\n",
    "### Requirement 2: Integrate $ f(x) = x $\n",
    "\n",
    "The integral of $ f(x) = x $ over $[-1, 1]$ is zero, as $x$ is an odd function:\n",
    "$$\n",
    "\\int_{-1}^1 x \\, dx = 0\n",
    "$$\n",
    "Using the quadrature rule, we get:\n",
    "$$\n",
    "w_1 x_1 + w_2 x_2 + w_3 x_3 = 0\n",
    "$$\n",
    "Since $x_1 = -x_3$ and $x_2 = 0$, this equation is **automatically satisfied**.\n",
    "\n",
    "### Requirement 3: Integrate $ f(x) = x^2 $\n",
    "\n",
    "The integral of $ f(x) = x^2 $ over $[-1, 1]$ is:\n",
    "$$\n",
    "\\int_{-1}^1 x^2 \\, dx = \\frac{2}{3}\n",
    "$$\n",
    "Using the quadrature rule, this gives:\n",
    "$$\n",
    "w_1 x_1^2 + w_2 x_2^2 + w_3 x_3^2 = \\frac{2}{3}\n",
    "$$\n",
    "\n",
    "Since $x_2 = 0$, we have $x_2^2 = 0$, so this simplifies to:\n",
    "$$\n",
    "w_1 x_1^2 + w_3 x_3^2 = \\frac{2}{3}\n",
    "$$\n",
    "\n",
    "### Solving for $ w_1 $, $ w_2 $, and $ w_3 $\n",
    "\n",
    "Since $x_1$ and $x_3$ are $\\pm \\sqrt{\\frac{3}{5}}$, we find that:\n",
    "$$\n",
    "x_1^2 = x_3^2 = \\frac{3}{5}\n",
    "$$\n",
    "\n",
    "Substituting into the equation, we get:\n",
    "$$\n",
    "w_1 \\frac{3}{5} + w_3 \\frac{3}{5} = \\frac{2}{3}\n",
    "$$\n",
    "or\n",
    "$$\n",
    "\\frac{3}{5}(w_1 + w_3) = \\frac{2}{3}\n",
    "$$\n",
    "\n",
    "Dividing both sides by $\\frac{3}{5}$, we obtain:\n",
    "$$\n",
    "w_1 + w_3 = \\frac{2}{3} \\cdot \\frac{5}{3} = \\frac{10}{9}\n",
    "$$\n",
    "\n",
    "This gives us two equations:\n",
    "1. $ w_1 + w_2 + w_3 = 2 $\n",
    "2. $ w_1 + w_3 = \\frac{10}{9} $\n",
    "\n",
    "Solving these equations:\n",
    "- From (2), we know $ w_1 + w_3 = \\frac{10}{9} $.\n",
    "- Subtracting equation (2) from equation (1) gives:\n",
    "  $$\n",
    "  w_2 = 2 - \\frac{10}{9} = \\frac{8}{9}\n",
    "  $$\n",
    "\n",
    "Thus, we have:\n",
    "$$\n",
    "w_2 = \\frac{8}{9}\n",
    "$$\n",
    "\n",
    "Substituting $w_2$ into $w_1 + w_3 = \\frac{10}{9}$, we find:\n",
    "$$\n",
    "w_1 = w_3 = \\frac{5}{9}\n",
    "$$\n",
    "\n",
    "### Final Weights\n",
    "\n",
    "The weights for the 3-point Gauss-Legendre quadrature rule are:\n",
    "$$\n",
    "w_1 = \\frac{5}{9}, \\quad w_2 = \\frac{8}{9}, \\quad w_3 = \\frac{5}{9}\n",
    "$$\n",
    "\n",
    "### Verification\n",
    "\n",
    "The weights and points satisfy all requirements:\n",
    "- **Integrates $1$**: $ w_1 + w_2 + w_3 = 2 $.\n",
    "- **Integrates $x$**: Automatically satisfied.\n",
    "- **Integrates $x^2$**: $ w_1 x_1^2 + w_3 x_3^2 = \\frac{2}{3} $."
   ]
  },
  {
   "cell_type": "markdown",
   "metadata": {
    "deletable": false,
    "editable": false,
    "nbgrader": {
     "cell_type": "markdown",
     "checksum": "f10979ca436557f45b2e46aab652d6f6",
     "grade": false,
     "grade_id": "cell-001440f37a3e160d",
     "locked": true,
     "schema_version": 3,
     "solution": false,
     "task": false
    }
   },
   "source": [
    "Next, implement your 3-point GL quadrature scheme to approximate \n",
    "\n",
    "$$\n",
    "    \\int_a^b f(x) dx\n",
    "$$\n",
    "for an arbitrary interval $x\\in [a,b]$ (remember the affine mapping). "
   ]
  },
  {
   "cell_type": "code",
   "execution_count": 4,
   "metadata": {
    "deletable": false,
    "nbgrader": {
     "cell_type": "code",
     "checksum": "9ba9594c2c6768b8e396980aa08956e2",
     "grade": false,
     "grade_id": "cell-094691d93b475d66",
     "locked": false,
     "schema_version": 3,
     "solution": true,
     "task": false
    }
   },
   "outputs": [],
   "source": [
    "def I_GL3(f, a, b):\n",
    "    \"\"\" \n",
    "    3-point Gauss-Legendre Quadrature rule for an arbitrary interval x ∈ [a, b]\n",
    "    \n",
    "    Parameters:\n",
    "    -----------\n",
    "    f : function\n",
    "        The function to integrate.\n",
    "    a : float\n",
    "        Left endpoint of the interval.\n",
    "    b : float\n",
    "        Right endpoint of the interval.\n",
    "    \n",
    "    Returns:\n",
    "    --------\n",
    "    float\n",
    "        Approximation of the integral ∫[a,b] f(x) dx using 3-point Gauss-Legendre quadrature.\n",
    "    \"\"\"\n",
    "    # Quadrature points and weights for the interval [-1, 1]\n",
    "    points = numpy.array([-numpy.sqrt(3/5), 0, numpy.sqrt(3/5)])\n",
    "    weights = numpy.array([5/9, 8/9, 5/9])\n",
    "    \n",
    "    # Transform points from [-1, 1] to [a, b]\n",
    "    transformed_points = 0.5 * (b - a) * points + 0.5 * (a + b)\n",
    "    \n",
    "    # Compute the integral approximation\n",
    "    integral = 0.5 * (b - a) * numpy.sum(weights * f(transformed_points))\n",
    "    \n",
    "    return integral\n"
   ]
  },
  {
   "cell_type": "code",
   "execution_count": 5,
   "metadata": {
    "deletable": false,
    "editable": false,
    "nbgrader": {
     "cell_type": "code",
     "checksum": "384646a064e7155b9ae1947f77fee12f",
     "grade": true,
     "grade_id": "cell-0a4061efa277bd8e",
     "locked": true,
     "points": 4,
     "schema_version": 3,
     "solution": false,
     "task": false
    }
   },
   "outputs": [
    {
     "name": "stdout",
     "output_type": "stream",
     "text": [
      "x = 1.0, erf(x) = 0.8427007929497148\n",
      "       I_GL3(x) = 0.8426900184845107, err=1.2785635535382798e-05\n",
      "\n",
      "success!\n"
     ]
    }
   ],
   "source": [
    "x = 1.0\n",
    "I_true = erf(x)\n",
    "f = lambda x : 2./numpy.sqrt(numpy.pi) * numpy.exp(-x*x)\n",
    "\n",
    "I = I_GL3(f, 0., x)\n",
    "err = numpy.abs( I - I_true)/numpy.abs(I_true)\n",
    "print('x = {}, erf(x) = {}'.format(x,I_true))\n",
    "print('       I_GL3(x) = {}, err={}\\n'.format(I,err))\n",
    "\n",
    "answer = 1.2785635535382798e-05\n",
    "numpy.testing.assert_allclose(err, answer)\n",
    "print('success!')"
   ]
  },
  {
   "cell_type": "markdown",
   "metadata": {},
   "source": [
    "**(c)** [8] Extended Quadrature rules. \n",
    "\n",
    "All of the above rules approximate the integral for a single \"panel\" over the interval $[a,b]$, but can be extended to calculate the quadrature of $N$ panels that subdivide the interval.  \n",
    "\n",
    "Write a function that computes\n",
    "\n",
    "$$\n",
    "    I_N[f] = \\int_a^b f(x) dx = \\sum_{n=1}^N I_{method}[f]_n\n",
    "$$\n",
    "\n",
    "\n",
    "where $I_{method}[f]_n$ is one of the quadrature methods used above. \n",
    "\n",
    "Note, this won't be the most efficient way to implement many of these methods,  but that's not really the issue here."
   ]
  },
  {
   "cell_type": "code",
   "execution_count": 6,
   "metadata": {
    "deletable": false,
    "nbgrader": {
     "cell_type": "code",
     "checksum": "01c801c9bf5b4233ab8040861cbf3557",
     "grade": false,
     "grade_id": "cell-2773e3774b718b85",
     "locked": false,
     "schema_version": 3,
     "solution": true,
     "task": false
    }
   },
   "outputs": [],
   "source": [
    "def quadN(f, a, b, N, method=I_midpoint):\n",
    "    \"\"\" \n",
    "    Integrate a function f over the interval x in [a, b] using \n",
    "    an extended quadrature rule that implements a single interval\n",
    "    quadrature rule over N panels of width (b - a)/N \n",
    "        \n",
    "    Parameters:\n",
    "    -----------\n",
    "    f: function\n",
    "        Function f(x) to be integrated (returns float)\n",
    "    a: float\n",
    "        Left boundary of interval\n",
    "    b: float\n",
    "        Right boundary of interval\n",
    "    N: int\n",
    "        Number of panels to subdivide [a, b]\n",
    "    method: function\n",
    "        Quadrature function with interface I(f, x0, x1) (returns real)\n",
    "        This function approximates the integral over a subinterval [x0, x1]\n",
    "        Defaults to midpoint rule\n",
    "            \n",
    "    Returns:\n",
    "    --------\n",
    "    I_N: float\n",
    "        Extended quadrature approximation of \\int_a^b f(x) dx\n",
    "    \"\"\"\n",
    "    # Calculate panel width\n",
    "    dx = (b - a) / N\n",
    "    \n",
    "    # Initialize the total integral\n",
    "    I_N = 0.0\n",
    "    \n",
    "    # Loop over each panel and apply the quadrature method\n",
    "    for i in range(N):\n",
    "        # Define the endpoints of the current subinterval\n",
    "        x0 = a + i * dx\n",
    "        x1 = x0 + dx\n",
    "        \n",
    "        # Apply the quadrature method on the current panel and accumulate\n",
    "        I_N += method(f, x0, x1)\n",
    "    \n",
    "    return I_N\n"
   ]
  },
  {
   "cell_type": "code",
   "execution_count": 7,
   "metadata": {
    "deletable": false,
    "editable": false,
    "nbgrader": {
     "cell_type": "code",
     "checksum": "b13dd600ef7de18144333d8ac0a0c098",
     "grade": true,
     "grade_id": "cell-1f6027bc9e4241f3",
     "locked": true,
     "points": 4,
     "schema_version": 3,
     "solution": false,
     "task": false
    }
   },
   "outputs": [
    {
     "name": "stdout",
     "output_type": "stream",
     "text": [
      "N = 1, I = 0.8787825789354448, err = 0.042816841146467305\n",
      "N = 2, I = 0.8514725992856609, err = 0.010409158754012854\n",
      "N = 4, I = 0.844870665048331, err = 0.00257490216785125\n",
      "N = 8, I = 0.843241789735697, err = 0.0006419796806984446\n",
      "N = 16, I = 0.8428359498722815, err = 0.00016038542232009014\n",
      "success!\n"
     ]
    }
   ],
   "source": [
    "# Let's test against erf(1)\n",
    "\n",
    "x = 1.\n",
    "I_true = erf(x)\n",
    "f = lambda x : 2./numpy.sqrt(numpy.pi) * numpy.exp(-x*x)\n",
    "\n",
    "# set the number of panels in a list\n",
    "N = [ 2**n for n in range (5)]\n",
    "\n",
    "# integrate using the extended mid-point scheme and calculate relative errors for each N\n",
    "err = numpy.zeros(len(N))\n",
    "for i,n in enumerate(N):\n",
    "    I = quadN(f, 0., x, n, method=I_midpoint)\n",
    "    err[i] = numpy.abs(I - I_true)/numpy.abs(I_true)\n",
    "    print('N = {}, I = {}, err = {}'.format(n, I, err[i]) )\n",
    "    \n",
    "answer = numpy.array([0.0428168411464673, 0.0104091587540129,\n",
    "                      0.0025749021678512, 0.0006419796806984,\n",
    "                      0.0001603854223201])\n",
    "numpy.testing.assert_allclose(answer,err)\n",
    "print('success!')\n",
    "                    "
   ]
  },
  {
   "cell_type": "markdown",
   "metadata": {},
   "source": [
    "**(d)** [10] Now *write a function* to make a plot that  compares the convergence behavior of all of the above methods (if you make it a function, you will be able to reuse it in the next  problem).\n",
    "\n",
    "\n",
    "This function should  make a single, beautiful log-log plot with the following information\n",
    "\n",
    "* plot the *relative error* for each quadrature rule with respect to \n",
    "$$\n",
    "    I_{true} = \\mathrm{erf}(1) = 0.8427007929497148\n",
    "$$\n",
    "for \n",
    "$$\n",
    "    N = 2^n \\quad \\text{panels}\\quad \\text{for}\\, n=0,1,\\ldots,10\n",
    "$$\n",
    "\n",
    "* a legend that labels each curve with the name of the method\n",
    "\n",
    "Hint 1: there are some nice python tricks for doing this relatively efficiently, e.g. you can loop over a list of methods and extract the name with \n",
    "\n",
    "`name = method.__name__`\n",
    "\n",
    "\n",
    "* the calculated rate of convergence of each  scheme. \n",
    "\n",
    "Note, if we define the convergence behavior of the error as\n",
    "$$\n",
    "    |e| = C\\Delta x^p\n",
    "$$\n",
    "\n",
    "calculate $C$ and $p$ for each method and plot the best fit straight-line in $\\log(\\Delta x)-\\log(e)$ space (hint: `numpy.polyfit` is your friend).  Add the best fit value of $p$ to the legend.  Hint 2: be careful not to include floating point issues in your fit. "
   ]
  },
  {
   "cell_type": "code",
   "execution_count": 10,
   "metadata": {
    "deletable": false,
    "nbgrader": {
     "cell_type": "code",
     "checksum": "7c671abfa500fc1dacee7f86cc6553c1",
     "grade": false,
     "grade_id": "cell-4660d6ac4039cdea",
     "locked": false,
     "schema_version": 3,
     "solution": true,
     "task": false
    }
   },
   "outputs": [],
   "source": [
    "# Define quadrature methods list\n",
    "quadrature_methods = [I_left, I_midpoint, I_trapezoid, I_simpson, I_GL3]\n",
    "\n",
    "def plot_quad_convergence(f, a, b, N_list, I_true, title=None):\n",
    "    \"\"\" \n",
    "    Create a convergence log-log plot that plots relative error of \n",
    "    various extended quadrature schemes vs panel spacing dx.\n",
    "    \n",
    "    Also calculates the best fit straight line in log-log space to estimate convergence\n",
    "    parameters for each method.\n",
    "    \n",
    "    Parameters:\n",
    "    -----------\n",
    "    f: function\n",
    "        Function f(x) to integrate\n",
    "    a: float\n",
    "        Left boundary of interval\n",
    "    b: float\n",
    "        Right boundary of interval\n",
    "    N_list: List of integers\n",
    "        Number of panels to subdivide [a, b] for each trial\n",
    "    I_true: float\n",
    "        True solution to compute errors\n",
    "    title: str\n",
    "        Title of plot (if not None)\n",
    "            \n",
    "    Returns:\n",
    "    --------\n",
    "    None, but generates a log-log plot\n",
    "    \"\"\"\n",
    "    plt.figure(figsize=(10, 6))\n",
    "    \n",
    "    for method in quadrature_methods:\n",
    "        errors = []\n",
    "        dx_values = []\n",
    "        \n",
    "        # Loop over each N in N_list\n",
    "        for N in N_list:\n",
    "            I_approx = quadN(f, a, b, N, method=method)\n",
    "            error = abs(I_approx - I_true) / abs(I_true)\n",
    "            dx = (b - a) / N\n",
    "            \n",
    "            errors.append(error)\n",
    "            dx_values.append(dx)\n",
    "        \n",
    "        # Convert lists to arrays for plotting\n",
    "        errors = numpy.array(errors)\n",
    "        dx_values = numpy.array(dx_values)\n",
    "        \n",
    "        # Calculate convergence rate (slope in log-log space)\n",
    "        fit = numpy.polyfit(numpy.log(dx_values), numpy.log(errors), 1)\n",
    "        p = fit[0]  # Convergence rate (slope)\n",
    "        \n",
    "        # Plot errors and best fit line\n",
    "        plt.loglog(dx_values, errors, 'o-', label=f'{method.__name__} (p ≈ {p:.2f})')\n",
    "        plt.loglog(dx_values, numpy.exp(fit[1]) * dx_values**fit[0], '--')\n",
    "    \n",
    "    # Plot configuration\n",
    "    plt.xlabel(r'$\\Delta x$ (Panel Spacing)')\n",
    "    plt.ylabel('Relative Error')\n",
    "    if title:\n",
    "        plt.title(title)\n",
    "    else:\n",
    "        plt.title(\"Convergence of Quadrature Methods\")\n",
    "    plt.legend()\n",
    "    plt.grid(True, which=\"both\", linestyle=\"--\")\n",
    "    plt.show()\n"
   ]
  },
  {
   "cell_type": "code",
   "execution_count": 11,
   "metadata": {
    "deletable": false,
    "editable": false,
    "nbgrader": {
     "cell_type": "code",
     "checksum": "fcf225a54de7ce5c4d5c480d050c14e9",
     "grade": true,
     "grade_id": "cell-4660d6ac40234983",
     "locked": true,
     "points": 10,
     "schema_version": 3,
     "solution": false,
     "task": false
    }
   },
   "outputs": [
    {
     "data": {
      "image/png": "[encoded data removed]",
      "text/plain": [
       "<Figure size 1000x600 with 1 Axes>"
      ]
     },
     "metadata": {},
     "output_type": "display_data"
    }
   ],
   "source": [
    "#Let's test with erf(1) and a lot of points\n",
    "\n",
    "x = 1.\n",
    "I_true = erf(x)\n",
    "f = lambda x : 2./numpy.sqrt(numpy.pi) * numpy.exp(-x*x)    \n",
    "\n",
    "N = [ 2**n for n in range (11)]\n",
    "\n",
    "plot_quad_convergence(f, 0., 1., N, I_true, 'erf(1.)')"
   ]
  },
  {
   "cell_type": "markdown",
   "metadata": {
    "deletable": false,
    "editable": false,
    "nbgrader": {
     "cell_type": "markdown",
     "checksum": "a2d86282670923bb7658b6cac3384759",
     "grade": false,
     "grade_id": "cell-afe493064c8d3820",
     "locked": true,
     "schema_version": 3,
     "solution": false,
     "task": false
    }
   },
   "source": [
    "**(e)** [3] Estimate the number of *function evaluations* required to get a relative error $e \\approx 10^{-7}$ i.e. about 7 digits of precision for the schemes\n",
    "\n",
    "* Mid-point\n",
    "* Simpson's\n",
    "* 3-Pt GL quadrature\n"
   ]
  },
  {
   "cell_type": "markdown",
   "metadata": {
    "deletable": false,
    "nbgrader": {
     "cell_type": "markdown",
     "checksum": "6ac87dd21ab641341de4d3787e28ad44",
     "grade": true,
     "grade_id": "cell-8625e6a922cd3352",
     "locked": false,
     "points": 3,
     "schema_version": 3,
     "solution": true,
     "task": false
    }
   },
   "source": [
    "YOUR ANSWER HERE"
   ]
  },
  {
   "cell_type": "markdown",
   "metadata": {
    "deletable": false,
    "editable": false,
    "nbgrader": {
     "cell_type": "markdown",
     "checksum": "873062154e7804823aa04f2506934094",
     "grade": false,
     "grade_id": "cell-7913098871853593",
     "locked": true,
     "schema_version": 3,
     "solution": false
    }
   },
   "source": [
    "## Question 2\n",
    "\n",
    "Let's repeat the problem with a harder integral.\n",
    "\n",
    "Consider the scaled Fresnel integrals\n",
    "\n",
    "$$I_c = \\int^1_0 \\frac{\\cos x}{\\sqrt{x}} dx~~~~\\text{and}~~~~I_s = \\int^1_0 \\frac{\\sin x}{\\sqrt{x}} dx$$\n",
    "\n",
    "which have values\n",
    "\n",
    "$$I_c = \\sqrt{2 \\pi} \\cdot C\\left(\\sqrt{\\frac{2}{\\pi}}\\right) \\approx 1.8090484758005438$$\n",
    "\n",
    "$$I_s = \\sqrt{2 \\pi} \\cdot S\\left(\\sqrt{\\frac{2}{\\pi}}\\right) \\approx 0.62053660344676231$$\n",
    "\n",
    "where the functions $C(x)$ and $S(x)$ can be evaluated by `scipy.special.fresnel`.\n"
   ]
  },
  {
   "cell_type": "markdown",
   "metadata": {
    "deletable": false,
    "editable": false,
    "nbgrader": {
     "cell_type": "markdown",
     "checksum": "222f7d5236736b8a0776cb02ca1df5b4",
     "grade": false,
     "grade_id": "cell-8ebcf647bbb397eb",
     "locked": true,
     "schema_version": 3,
     "solution": false
    }
   },
   "source": [
    "**(a)** [2] Where do you imagine the problematic points of the integrals will be?"
   ]
  },
  {
   "cell_type": "markdown",
   "metadata": {
    "deletable": false,
    "nbgrader": {
     "cell_type": "markdown",
     "checksum": "43f6c40a1d1510407671a7fd52b23b89",
     "grade": true,
     "grade_id": "cell-52b455a70eeda752",
     "locked": false,
     "points": 2,
     "schema_version": 3,
     "solution": true
    }
   },
   "source": [
    "YOUR ANSWER HERE"
   ]
  },
  {
   "cell_type": "markdown",
   "metadata": {
    "deletable": false,
    "editable": false,
    "nbgrader": {
     "cell_type": "markdown",
     "checksum": "90b26b9a2d890e91ad20980c2f8d454d",
     "grade": false,
     "grade_id": "cell-1280863455188854",
     "locked": true,
     "schema_version": 3,
     "solution": false
    }
   },
   "source": [
    "**(b)** [4] Use your convergence plotting routine to make  2 plots showing convergence behavior for all the extended quadrature rules for $I_c$ and $I_s$ "
   ]
  },
  {
   "cell_type": "code",
   "execution_count": null,
   "metadata": {
    "deletable": false,
    "editable": false,
    "nbgrader": {
     "cell_type": "code",
     "checksum": "7ebf34615245a87bea24a1c1ba31976d",
     "grade": false,
     "grade_id": "cell-b8c9ff40cd5c59c5",
     "locked": true,
     "schema_version": 3,
     "solution": false,
     "task": false
    }
   },
   "outputs": [],
   "source": [
    "# Set the True solutions for reference\n",
    "Is_true, Ic_true = fresnel(numpy.sqrt(2.0 / numpy.pi))\n",
    "Is_true *= numpy.sqrt(2.0 * numpy.pi)\n",
    "Ic_true *= numpy.sqrt(2.0 * numpy.pi)"
   ]
  },
  {
   "cell_type": "code",
   "execution_count": null,
   "metadata": {
    "deletable": false,
    "nbgrader": {
     "cell_type": "code",
     "checksum": "e0d01a567f26eec13643ac678addf4b8",
     "grade": true,
     "grade_id": "cell-4769111180699037",
     "locked": false,
     "points": 4,
     "schema_version": 3,
     "solution": true,
     "task": false
    }
   },
   "outputs": [],
   "source": [
    "# YOUR CODE HERE\n",
    "raise NotImplementedError()"
   ]
  },
  {
   "cell_type": "markdown",
   "metadata": {
    "deletable": false,
    "editable": false,
    "nbgrader": {
     "cell_type": "markdown",
     "checksum": "8f2038ab50a4c886d293dedb1a869c07",
     "grade": false,
     "grade_id": "cell-9da6810b250515c1",
     "locked": true,
     "schema_version": 3,
     "solution": false,
     "task": false
    }
   },
   "source": [
    "**(c)**  [4] Explain the results of your plots"
   ]
  },
  {
   "cell_type": "markdown",
   "metadata": {
    "deletable": false,
    "nbgrader": {
     "cell_type": "markdown",
     "checksum": "a757dade2565bc279dd29509dc7f7175",
     "grade": true,
     "grade_id": "cell-63c5719c37c551a7",
     "locked": false,
     "points": 4,
     "schema_version": 3,
     "solution": true,
     "task": false
    }
   },
   "source": [
    "YOUR ANSWER HERE"
   ]
  },
  {
   "cell_type": "markdown",
   "metadata": {
    "deletable": false,
    "editable": false,
    "nbgrader": {
     "cell_type": "markdown",
     "checksum": "f34fc6440d2bf6c705a7f05f1851b890",
     "grade": false,
     "grade_id": "cell-4978686228436492",
     "locked": true,
     "schema_version": 3,
     "solution": false
    }
   },
   "source": [
    "**(d)** [4] show that the convergence and the quadrature schemes can be dramatically improved simply by tranforming the variable $x$ with $x=t^2$\n",
    "\n",
    "1. Show analytically what the transformed integral should be\n",
    "2. produce two more plots demonstrating convergence behaviour\n",
    "3. comment on the results"
   ]
  },
  {
   "cell_type": "markdown",
   "metadata": {
    "deletable": false,
    "nbgrader": {
     "cell_type": "markdown",
     "checksum": "35864666b5625c7e749afeac806160eb",
     "grade": true,
     "grade_id": "cell-497868628436492",
     "locked": false,
     "points": 4,
     "schema_version": 3,
     "solution": true
    }
   },
   "source": [
    "YOUR ANSWER HERE"
   ]
  },
  {
   "cell_type": "code",
   "execution_count": null,
   "metadata": {
    "deletable": false,
    "nbgrader": {
     "cell_type": "code",
     "checksum": "a8dbac5be031598051fa0c34127ecd6f",
     "grade": true,
     "grade_id": "cell-eb376330eaf94f20",
     "locked": false,
     "points": 2,
     "schema_version": 3,
     "solution": true,
     "task": false
    }
   },
   "outputs": [],
   "source": [
    "# YOUR CODE HERE\n",
    "raise NotImplementedError()"
   ]
  },
  {
   "cell_type": "markdown",
   "metadata": {
    "deletable": false,
    "nbgrader": {
     "cell_type": "markdown",
     "checksum": "6ce23a474c27cd96722f8c415b9bc5d4",
     "grade": true,
     "grade_id": "cell-7860584774817940",
     "locked": false,
     "points": 2,
     "schema_version": 3,
     "solution": true
    }
   },
   "source": [
    "YOUR ANSWER HERE"
   ]
  }
 ],
 "metadata": {
  "kernelspec": {
   "display_name": "base",
   "language": "python",
   "name": "python3"
  },
  "language_info": {
   "codemirror_mode": {
    "name": "ipython",
    "version": 3
   },
   "file_extension": ".py",
   "mimetype": "text/x-python",
   "name": "python",
   "nbconvert_exporter": "python",
   "pygments_lexer": "ipython3",
   "version": "3.9.13"
  }
 },
 "nbformat": 4,
 "nbformat_minor": 4
}
